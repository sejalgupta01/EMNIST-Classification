{
  "nbformat": 4,
  "nbformat_minor": 0,
  "metadata": {
    "colab": {
      "name": "EMNIST-Classification.ipynb",
      "provenance": [],
      "collapsed_sections": [
        "k1f8C6IivG3z",
        "ooZeazNbvgm0",
        "V65UGX3ewGPR",
        "4sBskJLVxQ5I",
        "r0O0-MKAxyY3",
        "28JPo7I2x8Sd",
        "lPaEpjRE23bf",
        "LYiumYJs3NAk"
      ]
    },
    "kernelspec": {
      "name": "python3",
      "display_name": "Python 3"
    },
    "widgets": {
      "application/vnd.jupyter.widget-state+json": {
        "387e94ad9a6c429bacb58e6673cde33b": {
          "model_module": "@jupyter-widgets/controls",
          "model_name": "HBoxModel",
          "state": {
            "_view_name": "HBoxView",
            "_dom_classes": [],
            "_model_name": "HBoxModel",
            "_view_module": "@jupyter-widgets/controls",
            "_model_module_version": "1.5.0",
            "_view_count": null,
            "_view_module_version": "1.5.0",
            "box_style": "",
            "layout": "IPY_MODEL_c70df3893e6848d1a0d66936c0114fa7",
            "_model_module": "@jupyter-widgets/controls",
            "children": [
              "IPY_MODEL_db17f66752034b1abf1455f349ddc925",
              "IPY_MODEL_486265c658f143a89927d330935d176b"
            ]
          }
        },
        "c70df3893e6848d1a0d66936c0114fa7": {
          "model_module": "@jupyter-widgets/base",
          "model_name": "LayoutModel",
          "state": {
            "_view_name": "LayoutView",
            "grid_template_rows": null,
            "right": null,
            "justify_content": null,
            "_view_module": "@jupyter-widgets/base",
            "overflow": null,
            "_model_module_version": "1.2.0",
            "_view_count": null,
            "flex_flow": null,
            "width": null,
            "min_width": null,
            "border": null,
            "align_items": null,
            "bottom": null,
            "_model_module": "@jupyter-widgets/base",
            "top": null,
            "grid_column": null,
            "overflow_y": null,
            "overflow_x": null,
            "grid_auto_flow": null,
            "grid_area": null,
            "grid_template_columns": null,
            "flex": null,
            "_model_name": "LayoutModel",
            "justify_items": null,
            "grid_row": null,
            "max_height": null,
            "align_content": null,
            "visibility": null,
            "align_self": null,
            "height": null,
            "min_height": null,
            "padding": null,
            "grid_auto_rows": null,
            "grid_gap": null,
            "max_width": null,
            "order": null,
            "_view_module_version": "1.2.0",
            "grid_template_areas": null,
            "object_position": null,
            "object_fit": null,
            "grid_auto_columns": null,
            "margin": null,
            "display": null,
            "left": null
          }
        },
        "db17f66752034b1abf1455f349ddc925": {
          "model_module": "@jupyter-widgets/controls",
          "model_name": "FloatProgressModel",
          "state": {
            "_view_name": "ProgressView",
            "style": "IPY_MODEL_099f565a37824e16a638a918740e1b4f",
            "_dom_classes": [],
            "description": "",
            "_model_name": "FloatProgressModel",
            "bar_style": "info",
            "max": 1,
            "_view_module": "@jupyter-widgets/controls",
            "_model_module_version": "1.5.0",
            "value": 1,
            "_view_count": null,
            "_view_module_version": "1.5.0",
            "orientation": "horizontal",
            "min": 0,
            "description_tooltip": null,
            "_model_module": "@jupyter-widgets/controls",
            "layout": "IPY_MODEL_829aaa3b8d394c5c8080c442c260c547"
          }
        },
        "486265c658f143a89927d330935d176b": {
          "model_module": "@jupyter-widgets/controls",
          "model_name": "HTMLModel",
          "state": {
            "_view_name": "HTMLView",
            "style": "IPY_MODEL_7e5404eb75cd41d4877eb29e841a317b",
            "_dom_classes": [],
            "description": "",
            "_model_name": "HTMLModel",
            "placeholder": "​",
            "_view_module": "@jupyter-widgets/controls",
            "_model_module_version": "1.5.0",
            "value": " 561758208/? [00:50&lt;00:00, 20878480.31it/s]",
            "_view_count": null,
            "_view_module_version": "1.5.0",
            "description_tooltip": null,
            "_model_module": "@jupyter-widgets/controls",
            "layout": "IPY_MODEL_a84f7611b61843bbbe252f7205e83031"
          }
        },
        "099f565a37824e16a638a918740e1b4f": {
          "model_module": "@jupyter-widgets/controls",
          "model_name": "ProgressStyleModel",
          "state": {
            "_view_name": "StyleView",
            "_model_name": "ProgressStyleModel",
            "description_width": "initial",
            "_view_module": "@jupyter-widgets/base",
            "_model_module_version": "1.5.0",
            "_view_count": null,
            "_view_module_version": "1.2.0",
            "bar_color": null,
            "_model_module": "@jupyter-widgets/controls"
          }
        },
        "829aaa3b8d394c5c8080c442c260c547": {
          "model_module": "@jupyter-widgets/base",
          "model_name": "LayoutModel",
          "state": {
            "_view_name": "LayoutView",
            "grid_template_rows": null,
            "right": null,
            "justify_content": null,
            "_view_module": "@jupyter-widgets/base",
            "overflow": null,
            "_model_module_version": "1.2.0",
            "_view_count": null,
            "flex_flow": null,
            "width": null,
            "min_width": null,
            "border": null,
            "align_items": null,
            "bottom": null,
            "_model_module": "@jupyter-widgets/base",
            "top": null,
            "grid_column": null,
            "overflow_y": null,
            "overflow_x": null,
            "grid_auto_flow": null,
            "grid_area": null,
            "grid_template_columns": null,
            "flex": null,
            "_model_name": "LayoutModel",
            "justify_items": null,
            "grid_row": null,
            "max_height": null,
            "align_content": null,
            "visibility": null,
            "align_self": null,
            "height": null,
            "min_height": null,
            "padding": null,
            "grid_auto_rows": null,
            "grid_gap": null,
            "max_width": null,
            "order": null,
            "_view_module_version": "1.2.0",
            "grid_template_areas": null,
            "object_position": null,
            "object_fit": null,
            "grid_auto_columns": null,
            "margin": null,
            "display": null,
            "left": null
          }
        },
        "7e5404eb75cd41d4877eb29e841a317b": {
          "model_module": "@jupyter-widgets/controls",
          "model_name": "DescriptionStyleModel",
          "state": {
            "_view_name": "StyleView",
            "_model_name": "DescriptionStyleModel",
            "description_width": "",
            "_view_module": "@jupyter-widgets/base",
            "_model_module_version": "1.5.0",
            "_view_count": null,
            "_view_module_version": "1.2.0",
            "_model_module": "@jupyter-widgets/controls"
          }
        },
        "a84f7611b61843bbbe252f7205e83031": {
          "model_module": "@jupyter-widgets/base",
          "model_name": "LayoutModel",
          "state": {
            "_view_name": "LayoutView",
            "grid_template_rows": null,
            "right": null,
            "justify_content": null,
            "_view_module": "@jupyter-widgets/base",
            "overflow": null,
            "_model_module_version": "1.2.0",
            "_view_count": null,
            "flex_flow": null,
            "width": null,
            "min_width": null,
            "border": null,
            "align_items": null,
            "bottom": null,
            "_model_module": "@jupyter-widgets/base",
            "top": null,
            "grid_column": null,
            "overflow_y": null,
            "overflow_x": null,
            "grid_auto_flow": null,
            "grid_area": null,
            "grid_template_columns": null,
            "flex": null,
            "_model_name": "LayoutModel",
            "justify_items": null,
            "grid_row": null,
            "max_height": null,
            "align_content": null,
            "visibility": null,
            "align_self": null,
            "height": null,
            "min_height": null,
            "padding": null,
            "grid_auto_rows": null,
            "grid_gap": null,
            "max_width": null,
            "order": null,
            "_view_module_version": "1.2.0",
            "grid_template_areas": null,
            "object_position": null,
            "object_fit": null,
            "grid_auto_columns": null,
            "margin": null,
            "display": null,
            "left": null
          }
        }
      }
    }
  },
  "cells": [
    {
      "cell_type": "markdown",
      "metadata": {
        "id": "qKJ49Pdgptnm",
        "colab_type": "text"
      },
      "source": [
        "# Using Logistic Regression to classify the EMNIST Dataset\n",
        "\n",
        "PyTorch provides a wide range of built-in datasets to work on like, MNIST, EMNIST, Fashion MNIST, CIFAR10 etc. In this notebook, we are using the EMNIST dataset which is split into 6 sub-datasets. We will be using the 'letters' sub-dataset, which consists of 26 balanced classes, each having 28x28 pixel images of hand-written letters from the english alphabet. The objective of the model is Hand-written Alphabet Recognition.\n",
        "\n",
        "We'll be training the model on 124800 images from the training dataset, out of which 1% of the images will be used for the validation set, and the model will be tested on 20800 images from the test dataset."
      ]
    },
    {
      "cell_type": "markdown",
      "metadata": {
        "id": "XNoQa1JOrAh0",
        "colab_type": "text"
      },
      "source": [
        "#### Importing libraries and the EMNIST dataset "
      ]
    },
    {
      "cell_type": "code",
      "metadata": {
        "id": "7X7zr1jQornk",
        "colab_type": "code",
        "colab": {}
      },
      "source": [
        "import torch\n",
        "import torchvision\n",
        "from torchvision.datasets import EMNIST"
      ],
      "execution_count": 1,
      "outputs": []
    },
    {
      "cell_type": "markdown",
      "metadata": {
        "id": "cd2A99Nfrlxt",
        "colab_type": "text"
      },
      "source": [
        "#### Downloading the EMNIST dataset to the notebook\n",
        "The root directory where we want the dataset to be downloaded, the sub-dataset and the download permissions are to be passed as arguments to get the in-built dataset to work on."
      ]
    },
    {
      "cell_type": "code",
      "metadata": {
        "id": "FyRiDRYNpDG2",
        "colab_type": "code",
        "colab": {
          "base_uri": "https://localhost:8080/",
          "height": 256,
          "referenced_widgets": [
            "387e94ad9a6c429bacb58e6673cde33b",
            "c70df3893e6848d1a0d66936c0114fa7",
            "db17f66752034b1abf1455f349ddc925",
            "486265c658f143a89927d330935d176b",
            "099f565a37824e16a638a918740e1b4f",
            "829aaa3b8d394c5c8080c442c260c547",
            "7e5404eb75cd41d4877eb29e841a317b",
            "a84f7611b61843bbbe252f7205e83031"
          ]
        },
        "outputId": "5884b7c2-522f-4b69-9f26-015fbdfd11b2"
      },
      "source": [
        "dataset = EMNIST(root='data/', split='letters', download=True)"
      ],
      "execution_count": 2,
      "outputs": [
        {
          "output_type": "stream",
          "text": [
            "Downloading and extracting zip archive\n",
            "Downloading http://www.itl.nist.gov/iaui/vip/cs_links/EMNIST/gzip.zip to data/EMNIST/raw/emnist.zip\n"
          ],
          "name": "stdout"
        },
        {
          "output_type": "display_data",
          "data": {
            "application/vnd.jupyter.widget-view+json": {
              "model_id": "387e94ad9a6c429bacb58e6673cde33b",
              "version_minor": 0,
              "version_major": 2
            },
            "text/plain": [
              "HBox(children=(FloatProgress(value=1.0, bar_style='info', max=1.0), HTML(value='')))"
            ]
          },
          "metadata": {
            "tags": []
          }
        },
        {
          "output_type": "stream",
          "text": [
            "Extracting data/EMNIST/raw/emnist.zip to data/EMNIST/raw\n",
            "Processing byclass\n"
          ],
          "name": "stdout"
        },
        {
          "output_type": "stream",
          "text": [
            "/pytorch/torch/csrc/utils/tensor_numpy.cpp:141: UserWarning: The given NumPy array is not writeable, and PyTorch does not support non-writeable tensors. This means you can write to the underlying (supposedly non-writeable) NumPy array using the tensor. You may want to copy the array to protect its data or make it writeable before converting it to a tensor. This type of warning will be suppressed for the rest of this program.\n"
          ],
          "name": "stderr"
        },
        {
          "output_type": "stream",
          "text": [
            "Processing bymerge\n",
            "Processing balanced\n",
            "Processing letters\n",
            "Processing digits\n",
            "Processing mnist\n",
            "Done!\n"
          ],
          "name": "stdout"
        }
      ]
    },
    {
      "cell_type": "markdown",
      "metadata": {
        "id": "O2jVHzjatgKw",
        "colab_type": "text"
      },
      "source": [
        "#### Exploring the Dataset\n",
        "Now, to get familiar with the dataset, we'll just look at the length of the dataset, some of the nodes of the dataset and print their image and label for some visual familiarity, and see the classes the dataset is divided into."
      ]
    },
    {
      "cell_type": "code",
      "metadata": {
        "id": "0b9OHhg-pab0",
        "colab_type": "code",
        "colab": {
          "base_uri": "https://localhost:8080/",
          "height": 34
        },
        "outputId": "7fa6334f-5f2c-44a9-e932-4624d53ac981"
      },
      "source": [
        "len(dataset)"
      ],
      "execution_count": 3,
      "outputs": [
        {
          "output_type": "execute_result",
          "data": {
            "text/plain": [
              "124800"
            ]
          },
          "metadata": {
            "tags": []
          },
          "execution_count": 3
        }
      ]
    },
    {
      "cell_type": "markdown",
      "metadata": {
        "id": "v83_HRy78jFz",
        "colab_type": "text"
      },
      "source": [
        "The training dataset contains 124800 data points."
      ]
    },
    {
      "cell_type": "code",
      "metadata": {
        "id": "xFYNM2JosapJ",
        "colab_type": "code",
        "colab": {
          "base_uri": "https://localhost:8080/",
          "height": 34
        },
        "outputId": "0253cfd2-a6ef-4892-d4eb-131155439037"
      },
      "source": [
        "dataset[0]"
      ],
      "execution_count": 4,
      "outputs": [
        {
          "output_type": "execute_result",
          "data": {
            "text/plain": [
              "(<PIL.Image.Image image mode=L size=28x28 at 0x7F67C092BEF0>, 23)"
            ]
          },
          "metadata": {
            "tags": []
          },
          "execution_count": 4
        }
      ]
    },
    {
      "cell_type": "code",
      "metadata": {
        "id": "QtgVoVYQsdTr",
        "colab_type": "code",
        "colab": {
          "base_uri": "https://localhost:8080/",
          "height": 34
        },
        "outputId": "1a56c21b-1999-483e-8789-3e8af05ed86b"
      },
      "source": [
        "dataset[1]"
      ],
      "execution_count": 5,
      "outputs": [
        {
          "output_type": "execute_result",
          "data": {
            "text/plain": [
              "(<PIL.Image.Image image mode=L size=28x28 at 0x7F67C094FE10>, 7)"
            ]
          },
          "metadata": {
            "tags": []
          },
          "execution_count": 5
        }
      ]
    },
    {
      "cell_type": "markdown",
      "metadata": {
        "id": "aVhhAvZH82m_",
        "colab_type": "text"
      },
      "source": [
        "The first two datapoints of the training dataset are the letters 'w' (23rd alphabet) and 'g' (7th alphabet)"
      ]
    },
    {
      "cell_type": "code",
      "metadata": {
        "id": "5gcN8YI9sfLf",
        "colab_type": "code",
        "colab": {}
      },
      "source": [
        "import matplotlib.pyplot as plt\n",
        "%matplotlib inline"
      ],
      "execution_count": 6,
      "outputs": []
    },
    {
      "cell_type": "code",
      "metadata": {
        "id": "dhCvRxuooGkq",
        "colab_type": "code",
        "colab": {
          "base_uri": "https://localhost:8080/",
          "height": 459
        },
        "outputId": "aa819c07-c8e9-455e-f894-5f54aae3579b"
      },
      "source": [
        "classes = dataset.classes\n",
        "classes"
      ],
      "execution_count": 8,
      "outputs": [
        {
          "output_type": "execute_result",
          "data": {
            "text/plain": [
              "['a',\n",
              " 'b',\n",
              " 'c',\n",
              " 'd',\n",
              " 'e',\n",
              " 'f',\n",
              " 'g',\n",
              " 'h',\n",
              " 'i',\n",
              " 'j',\n",
              " 'k',\n",
              " 'l',\n",
              " 'm',\n",
              " 'n',\n",
              " 'o',\n",
              " 'p',\n",
              " 'q',\n",
              " 'r',\n",
              " 's',\n",
              " 't',\n",
              " 'u',\n",
              " 'v',\n",
              " 'w',\n",
              " 'x',\n",
              " 'y',\n",
              " 'z']"
            ]
          },
          "metadata": {
            "tags": []
          },
          "execution_count": 8
        }
      ]
    },
    {
      "cell_type": "markdown",
      "metadata": {
        "id": "fFiPIp_boUym",
        "colab_type": "text"
      },
      "source": [
        "The 26 classes are all the letters of the english alphabet."
      ]
    },
    {
      "cell_type": "code",
      "metadata": {
        "id": "UXnpJLdFs55S",
        "colab_type": "code",
        "colab": {
          "base_uri": "https://localhost:8080/",
          "height": 282
        },
        "outputId": "de4053f4-4b9c-4596-99c0-bfad2239a5ef"
      },
      "source": [
        "image, label = dataset[2]\n",
        "label -= 1\n",
        "plt.imshow(image, cmap='gray')\n",
        "print(classes[label])"
      ],
      "execution_count": 9,
      "outputs": [
        {
          "output_type": "stream",
          "text": [
            "p\n"
          ],
          "name": "stdout"
        },
        {
          "output_type": "display_data",
          "data": {
            "image/png": "[encoded data removed]",
            "text/plain": [
              "<Figure size 432x288 with 1 Axes>"
            ]
          },
          "metadata": {
            "tags": [],
            "needs_background": "light"
          }
        }
      ]
    },
    {
      "cell_type": "code",
      "metadata": {
        "id": "yY_pwNFytCUh",
        "colab_type": "code",
        "colab": {
          "base_uri": "https://localhost:8080/",
          "height": 282
        },
        "outputId": "0753d666-47b1-4403-b246-46ecf4f98920"
      },
      "source": [
        "image, label = dataset[3]\n",
        "label -= 1\n",
        "plt.imshow(image, cmap='gray')\n",
        "print(classes[label])"
      ],
      "execution_count": 10,
      "outputs": [
        {
          "output_type": "stream",
          "text": [
            "o\n"
          ],
          "name": "stdout"
        },
        {
          "output_type": "display_data",
          "data": {
            "image/png": "[encoded data removed]",
            "text/plain": [
              "<Figure size 432x288 with 1 Axes>"
            ]
          },
          "metadata": {
            "tags": [],
            "needs_background": "light"
          }
        }
      ]
    },
    {
      "cell_type": "markdown",
      "metadata": {
        "id": "yfrEC3OxuCXp",
        "colab_type": "text"
      },
      "source": [
        "#### Transforming the images in the dataset to tensors \n",
        "To work with data points and perform operations on them, we need to convert them to tensors."
      ]
    },
    {
      "cell_type": "code",
      "metadata": {
        "id": "4O43ev7Utb7C",
        "colab_type": "code",
        "colab": {}
      },
      "source": [
        "import torchvision.transforms as transforms"
      ],
      "execution_count": 11,
      "outputs": []
    },
    {
      "cell_type": "code",
      "metadata": {
        "id": "YZS2M8g3uA_0",
        "colab_type": "code",
        "colab": {
          "base_uri": "https://localhost:8080/",
          "height": 34
        },
        "outputId": "b8c0fe95-e6bb-4b9b-9b10-f11cda8c467d"
      },
      "source": [
        "dataset = EMNIST(root='data/', train=True, transform=transforms.ToTensor(), split='letters')\n",
        "len(dataset)"
      ],
      "execution_count": 13,
      "outputs": [
        {
          "output_type": "execute_result",
          "data": {
            "text/plain": [
              "124800"
            ]
          },
          "metadata": {
            "tags": []
          },
          "execution_count": 13
        }
      ]
    },
    {
      "cell_type": "markdown",
      "metadata": {
        "id": "j1YShb6zuYna",
        "colab_type": "text"
      },
      "source": [
        "#### Exploring the image tensors\n",
        "Each data point has two parts: the image tensor and it's label.\n",
        "The shape of the image tensor is [1, 28, 28], signifying that it only consists of one channel(lightness channel, L, since it's a grayscale image), conveyed by the first dimension; and the size of the image that 28x28 pixels, as conveyed by the subsequent 2 dimensions "
      ]
    },
    {
      "cell_type": "code",
      "metadata": {
        "id": "uOTWsqPCuXXT",
        "colab_type": "code",
        "colab": {
          "base_uri": "https://localhost:8080/",
          "height": 34
        },
        "outputId": "4674f4c0-91ff-4a4b-b51d-97782a234dfb"
      },
      "source": [
        "img_tensor, labels = dataset[0]\n",
        "print(img_tensor.shape, labels-1)"
      ],
      "execution_count": 14,
      "outputs": [
        {
          "output_type": "stream",
          "text": [
            "torch.Size([1, 28, 28]) 22\n"
          ],
          "name": "stdout"
        }
      ]
    },
    {
      "cell_type": "code",
      "metadata": {
        "id": "lLwVSGMZuiR9",
        "colab_type": "code",
        "colab": {
          "base_uri": "https://localhost:8080/",
          "height": 34
        },
        "outputId": "e22509ff-ed96-4291-e407-77e324ec2ff9"
      },
      "source": [
        "img_tensor, labels = dataset[1]\n",
        "print(img_tensor.shape, labels-1)"
      ],
      "execution_count": 15,
      "outputs": [
        {
          "output_type": "stream",
          "text": [
            "torch.Size([1, 28, 28]) 6\n"
          ],
          "name": "stdout"
        }
      ]
    },
    {
      "cell_type": "code",
      "metadata": {
        "id": "9giUOYFrukMD",
        "colab_type": "code",
        "colab": {
          "base_uri": "https://localhost:8080/",
          "height": 1000
        },
        "outputId": "64a35efd-e1bd-4215-f6d7-de409c71e1bc"
      },
      "source": [
        "img_tensor, labels = dataset[2]\n",
        "print(img_tensor, labels-1)"
      ],
      "execution_count": 16,
      "outputs": [
        {
          "output_type": "stream",
          "text": [
            "tensor([[[0.0000, 0.0000, 0.0000, 0.0000, 0.0000, 0.0000, 0.0000, 0.0000,\n",
            "          0.0000, 0.0000, 0.0000, 0.0000, 0.0000, 0.0000, 0.0000, 0.0000,\n",
            "          0.0000, 0.0000, 0.0000, 0.0000, 0.0000, 0.0000, 0.0000, 0.0000,\n",
            "          0.0000, 0.0000, 0.0000, 0.0000],\n",
            "         [0.0000, 0.0000, 0.0000, 0.0000, 0.0000, 0.0000, 0.0000, 0.0000,\n",
            "          0.0000, 0.0000, 0.0000, 0.0000, 0.0000, 0.0000, 0.0000, 0.0000,\n",
            "          0.0000, 0.0000, 0.0000, 0.0000, 0.0000, 0.0000, 0.0000, 0.0000,\n",
            "          0.0000, 0.0000, 0.0000, 0.0000],\n",
            "         [0.0000, 0.0000, 0.0000, 0.0000, 0.0000, 0.0000, 0.0000, 0.0000,\n",
            "          0.0000, 0.0000, 0.0000, 0.0000, 0.0000, 0.0000, 0.0000, 0.0000,\n",
            "          0.0000, 0.0000, 0.0000, 0.0000, 0.0000, 0.0000, 0.0000, 0.0000,\n",
            "          0.0000, 0.0000, 0.0000, 0.0000],\n",
            "         [0.0000, 0.0000, 0.0000, 0.0000, 0.0000, 0.0000, 0.0000, 0.0000,\n",
            "          0.0000, 0.0000, 0.0000, 0.0000, 0.0000, 0.0000, 0.0000, 0.0000,\n",
            "          0.0000, 0.0000, 0.0000, 0.0000, 0.0000, 0.0000, 0.0000, 0.0000,\n",
            "          0.0000, 0.0000, 0.0000, 0.0000],\n",
            "         [0.0000, 0.0000, 0.0000, 0.0000, 0.0000, 0.0000, 0.0000, 0.0000,\n",
            "          0.0000, 0.0000, 0.0000, 0.0000, 0.0000, 0.0000, 0.0000, 0.0000,\n",
            "          0.0000, 0.0000, 0.0000, 0.0000, 0.0000, 0.0000, 0.0000, 0.0000,\n",
            "          0.0000, 0.0000, 0.0000, 0.0000],\n",
            "         [0.0000, 0.0000, 0.0000, 0.0000, 0.0000, 0.0000, 0.0000, 0.0000,\n",
            "          0.0000, 0.0000, 0.0000, 0.0000, 0.0000, 0.0000, 0.0000, 0.0000,\n",
            "          0.0000, 0.0000, 0.0000, 0.0000, 0.0000, 0.0000, 0.0000, 0.0000,\n",
            "          0.0000, 0.0000, 0.0000, 0.0000],\n",
            "         [0.0000, 0.0000, 0.0000, 0.0000, 0.0000, 0.0000, 0.0000, 0.0000,\n",
            "          0.0000, 0.0000, 0.0000, 0.0000, 0.0000, 0.0000, 0.0000, 0.0000,\n",
            "          0.0000, 0.0000, 0.0000, 0.0000, 0.0000, 0.0000, 0.0000, 0.0000,\n",
            "          0.0000, 0.0000, 0.0000, 0.0000],\n",
            "         [0.0000, 0.0000, 0.0000, 0.0000, 0.0000, 0.0000, 0.0000, 0.0000,\n",
            "          0.0000, 0.0000, 0.0000, 0.0000, 0.0000, 0.0000, 0.0078, 0.0000,\n",
            "          0.0000, 0.0000, 0.0000, 0.0000, 0.0000, 0.0000, 0.0000, 0.0000,\n",
            "          0.0000, 0.0000, 0.0000, 0.0000],\n",
            "         [0.0000, 0.0000, 0.0000, 0.0000, 0.0000, 0.0000, 0.0000, 0.0000,\n",
            "          0.0000, 0.0000, 0.0000, 0.0000, 0.0000, 0.1255, 0.6588, 0.3529,\n",
            "          0.0392, 0.0000, 0.0000, 0.0078, 0.0000, 0.0000, 0.0039, 0.0000,\n",
            "          0.0000, 0.0000, 0.0000, 0.0000],\n",
            "         [0.0000, 0.0000, 0.0000, 0.0000, 0.0000, 0.0000, 0.0000, 0.0000,\n",
            "          0.0000, 0.0000, 0.0157, 0.0157, 0.0196, 0.4235, 0.9922, 0.9686,\n",
            "          0.8157, 0.5059, 0.5490, 0.7137, 0.5451, 0.5059, 0.6235, 0.4980,\n",
            "          0.4471, 0.1294, 0.0196, 0.0000],\n",
            "         [0.0000, 0.0000, 0.0000, 0.0000, 0.0000, 0.0000, 0.0000, 0.0000,\n",
            "          0.0824, 0.1961, 0.4902, 0.4980, 0.5059, 0.8275, 0.9961, 0.9961,\n",
            "          0.9961, 0.9804, 0.9804, 0.9922, 0.9804, 0.9804, 0.9843, 0.9804,\n",
            "          0.9608, 0.7255, 0.1255, 0.0000],\n",
            "         [0.0000, 0.0000, 0.0000, 0.0000, 0.0157, 0.1804, 0.4902, 0.5490,\n",
            "          0.9098, 0.9804, 0.9961, 0.9961, 0.9961, 0.9961, 0.9961, 0.9961,\n",
            "          0.9961, 0.9961, 0.9961, 0.9961, 0.9961, 0.9961, 1.0000, 0.9961,\n",
            "          0.9961, 0.8510, 0.1451, 0.0000],\n",
            "         [0.0000, 0.0000, 0.0314, 0.4510, 0.8000, 0.9608, 0.9922, 0.9608,\n",
            "          0.6745, 0.4980, 0.4980, 0.4980, 0.4980, 0.5059, 0.9255, 0.9961,\n",
            "          0.9255, 0.5059, 0.4980, 0.5059, 0.7961, 0.8510, 0.8510, 0.8510,\n",
            "          0.7216, 0.4706, 0.0706, 0.0000],\n",
            "         [0.0000, 0.0784, 0.6196, 0.9922, 0.9922, 0.6941, 0.4471, 0.1804,\n",
            "          0.0118, 0.0000, 0.0000, 0.0000, 0.0000, 0.0157, 0.8510, 0.9961,\n",
            "          0.8510, 0.0157, 0.0000, 0.0000, 0.0157, 0.0157, 0.0157, 0.0157,\n",
            "          0.0118, 0.0000, 0.0000, 0.0000],\n",
            "         [0.0000, 0.1451, 0.8431, 0.9961, 0.8667, 0.1412, 0.0157, 0.0000,\n",
            "          0.0000, 0.0000, 0.0000, 0.0000, 0.0000, 0.0353, 0.8706, 0.9961,\n",
            "          0.8431, 0.0157, 0.0000, 0.0000, 0.0000, 0.0000, 0.0000, 0.0000,\n",
            "          0.0000, 0.0000, 0.0000, 0.0000],\n",
            "         [0.0000, 0.1255, 0.7961, 0.9961, 0.5765, 0.0196, 0.0000, 0.0000,\n",
            "          0.0000, 0.0000, 0.0000, 0.0000, 0.0000, 0.1961, 0.9804, 0.9647,\n",
            "          0.4980, 0.0000, 0.0000, 0.0000, 0.0000, 0.0000, 0.0000, 0.0000,\n",
            "          0.0000, 0.0000, 0.0000, 0.0000],\n",
            "         [0.0000, 0.0157, 0.4510, 0.9961, 0.9804, 0.3922, 0.0824, 0.0118,\n",
            "          0.0000, 0.0000, 0.0000, 0.0000, 0.0314, 0.6863, 0.9961, 0.8000,\n",
            "          0.1333, 0.0000, 0.0000, 0.0000, 0.0000, 0.0000, 0.0000, 0.0000,\n",
            "          0.0000, 0.0000, 0.0000, 0.0000],\n",
            "         [0.0000, 0.0000, 0.0863, 0.7922, 0.9765, 0.9882, 0.9098, 0.6706,\n",
            "          0.2000, 0.1451, 0.1451, 0.1608, 0.5176, 0.9922, 0.9647, 0.3098,\n",
            "          0.0118, 0.0000, 0.0000, 0.0000, 0.0000, 0.0000, 0.0000, 0.0000,\n",
            "          0.0000, 0.0000, 0.0000, 0.0000],\n",
            "         [0.0000, 0.0000, 0.0039, 0.1412, 0.7647, 0.9804, 0.9961, 0.9843,\n",
            "          0.8706, 0.8510, 0.8510, 0.8510, 0.9255, 0.9961, 0.6863, 0.0314,\n",
            "          0.0000, 0.0000, 0.0000, 0.0000, 0.0000, 0.0000, 0.0000, 0.0000,\n",
            "          0.0000, 0.0000, 0.0000, 0.0000],\n",
            "         [0.0000, 0.0000, 0.0000, 0.0000, 0.0314, 0.1961, 0.6706, 0.9098,\n",
            "          0.9804, 0.9804, 0.9804, 0.9804, 0.9608, 0.6235, 0.0784, 0.0000,\n",
            "          0.0000, 0.0000, 0.0000, 0.0000, 0.0000, 0.0000, 0.0000, 0.0000,\n",
            "          0.0000, 0.0000, 0.0000, 0.0000],\n",
            "         [0.0000, 0.0000, 0.0000, 0.0000, 0.0000, 0.0000, 0.0118, 0.0824,\n",
            "          0.1451, 0.1451, 0.1451, 0.1451, 0.1255, 0.0118, 0.0000, 0.0000,\n",
            "          0.0000, 0.0000, 0.0000, 0.0000, 0.0000, 0.0000, 0.0000, 0.0000,\n",
            "          0.0000, 0.0000, 0.0000, 0.0000],\n",
            "         [0.0000, 0.0000, 0.0000, 0.0000, 0.0000, 0.0000, 0.0000, 0.0000,\n",
            "          0.0000, 0.0000, 0.0000, 0.0000, 0.0000, 0.0000, 0.0000, 0.0000,\n",
            "          0.0000, 0.0000, 0.0000, 0.0000, 0.0000, 0.0000, 0.0000, 0.0000,\n",
            "          0.0000, 0.0000, 0.0000, 0.0000],\n",
            "         [0.0000, 0.0000, 0.0000, 0.0000, 0.0000, 0.0000, 0.0000, 0.0000,\n",
            "          0.0000, 0.0000, 0.0000, 0.0000, 0.0000, 0.0000, 0.0000, 0.0000,\n",
            "          0.0000, 0.0000, 0.0000, 0.0000, 0.0000, 0.0000, 0.0000, 0.0000,\n",
            "          0.0000, 0.0000, 0.0000, 0.0000],\n",
            "         [0.0000, 0.0000, 0.0000, 0.0000, 0.0000, 0.0000, 0.0000, 0.0000,\n",
            "          0.0000, 0.0000, 0.0000, 0.0000, 0.0000, 0.0000, 0.0000, 0.0000,\n",
            "          0.0000, 0.0000, 0.0000, 0.0000, 0.0000, 0.0000, 0.0000, 0.0000,\n",
            "          0.0000, 0.0000, 0.0000, 0.0000],\n",
            "         [0.0000, 0.0000, 0.0000, 0.0000, 0.0000, 0.0000, 0.0000, 0.0000,\n",
            "          0.0000, 0.0000, 0.0000, 0.0000, 0.0000, 0.0000, 0.0000, 0.0000,\n",
            "          0.0000, 0.0000, 0.0000, 0.0000, 0.0000, 0.0000, 0.0000, 0.0000,\n",
            "          0.0000, 0.0000, 0.0000, 0.0000],\n",
            "         [0.0000, 0.0000, 0.0000, 0.0000, 0.0000, 0.0000, 0.0000, 0.0000,\n",
            "          0.0000, 0.0000, 0.0000, 0.0000, 0.0000, 0.0000, 0.0000, 0.0000,\n",
            "          0.0000, 0.0000, 0.0000, 0.0000, 0.0000, 0.0000, 0.0000, 0.0000,\n",
            "          0.0000, 0.0000, 0.0000, 0.0000],\n",
            "         [0.0000, 0.0000, 0.0000, 0.0000, 0.0000, 0.0000, 0.0000, 0.0000,\n",
            "          0.0000, 0.0000, 0.0000, 0.0000, 0.0000, 0.0000, 0.0000, 0.0000,\n",
            "          0.0000, 0.0000, 0.0000, 0.0000, 0.0000, 0.0000, 0.0000, 0.0000,\n",
            "          0.0000, 0.0000, 0.0000, 0.0000],\n",
            "         [0.0000, 0.0000, 0.0000, 0.0000, 0.0000, 0.0000, 0.0000, 0.0000,\n",
            "          0.0000, 0.0000, 0.0000, 0.0000, 0.0000, 0.0000, 0.0000, 0.0000,\n",
            "          0.0000, 0.0000, 0.0000, 0.0000, 0.0000, 0.0000, 0.0000, 0.0000,\n",
            "          0.0000, 0.0000, 0.0000, 0.0000]]]) 15\n"
          ],
          "name": "stdout"
        }
      ]
    },
    {
      "cell_type": "markdown",
      "metadata": {
        "id": "XpURZB2muwvT",
        "colab_type": "text"
      },
      "source": [
        "#### Why do we need a validation set?\n",
        "We need a validation set to check our model before finally testing it on the test dataset. It helps us to change hyperparameters accordingly to get the best results, and then pick the best version of the model before reporting the final results.\n",
        "\n",
        "#### Create validation set from the training set\n",
        "We take the 1% of the training set as our validation set in this notebook, though any small percentage can be taken. The validation set is created by randomly splitting the training dataset into two parts of suitable size. The random split plays a major role here as, if we split it in order, the training dataset might not have some classes at all, and since the model was never trained for those classes which got divided into the validation set, the model will never be able to guess them. Which means, even after training our model, our model's accuracy on the validation set will always be zero."
      ]
    },
    {
      "cell_type": "code",
      "metadata": {
        "id": "EdO1T0osupKG",
        "colab_type": "code",
        "colab": {
          "base_uri": "https://localhost:8080/",
          "height": 34
        },
        "outputId": "9fc8bcba-adce-4608-8a4a-b41cb6887270"
      },
      "source": [
        "from torch.utils.data import random_split\n",
        "\n",
        "val_per = 0.1\n",
        "val_len = int(val_per*len(dataset))\n",
        "train_ds, val_ds = random_split(dataset, [len(dataset)-val_len, val_len])\n",
        "print(len(train_ds), len(val_ds))"
      ],
      "execution_count": 17,
      "outputs": [
        {
          "output_type": "stream",
          "text": [
            "112320 12480\n"
          ],
          "name": "stdout"
        }
      ]
    },
    {
      "cell_type": "markdown",
      "metadata": {
        "id": "k1f8C6IivG3z",
        "colab_type": "text"
      },
      "source": [
        "#### Load the training and validation data in batches\n",
        "We use the DataLoader to load the training and validation dataset with a batch size of 128 data points. We shuffle the training dataset because the most randomized inputs produce the most general model, which is favourable. However, we do not shuffle the validation dataset as, we cannot compare different evaluations if the dataset on which we are evaluating is not the same."
      ]
    },
    {
      "cell_type": "code",
      "metadata": {
        "id": "YkYLpztUu-sX",
        "colab_type": "code",
        "colab": {}
      },
      "source": [
        "from torch.utils.data import DataLoader\n",
        "\n",
        "batch_size = 128\n",
        "\n",
        "train_load = DataLoader(train_ds, batch_size, shuffle=True)\n",
        "val_load = DataLoader(val_ds, batch_size)"
      ],
      "execution_count": 18,
      "outputs": []
    },
    {
      "cell_type": "markdown",
      "metadata": {
        "id": "ooZeazNbvgm0",
        "colab_type": "text"
      },
      "source": [
        "#### Creating a logistic regression model"
      ]
    },
    {
      "cell_type": "markdown",
      "metadata": {
        "id": "MdcDcl61Zjag",
        "colab_type": "text"
      },
      "source": [
        "Since the input and output sizes should be scalar integers for us to implement regression on them, input size can't be in the form of [28, 28], therefore, it is 28*28 = 784 (number of pixels in the image if we flatten the image). And output size is clearly 26, because the image will be classified into one of the 26 classes."
      ]
    },
    {
      "cell_type": "code",
      "metadata": {
        "id": "hmiMQaokvZH7",
        "colab_type": "code",
        "colab": {}
      },
      "source": [
        "from torch import nn\n",
        "\n",
        "input_size = 28*28\n",
        "output_size = 26"
      ],
      "execution_count": 19,
      "outputs": []
    },
    {
      "cell_type": "markdown",
      "metadata": {
        "id": "X3rfJjGua40P",
        "colab_type": "text"
      },
      "source": [
        "We extend the nn.Module class to define our EmnistModel. It consists of one nn.Linear layer, invoked in the forward function after we flatten the input based on its last two dimensions(the dimensions conveying the image size), and return the output after implementing logistic regression on it.\n",
        "\n",
        "Then we have the training step where we use the cross_entropy loss function on the predictions and targets to calculate the loss for the training dataset. In the validation step, we also calculate the accuracy of the model along with the loss on the validation set.\n",
        "\n",
        "In the last two functions, we combine the validation losses and accuracies after each epoch, so that we can track the progress of the training."
      ]
    },
    {
      "cell_type": "code",
      "metadata": {
        "id": "7T02H5h_vpKO",
        "colab_type": "code",
        "colab": {}
      },
      "source": [
        "class EmnistModel(nn.Module):\n",
        "    def __init__(self):\n",
        "        super().__init__()\n",
        "        self.linear = nn.Linear(input_size, output_size)\n",
        "        \n",
        "    def forward(self, xb):\n",
        "        xb = xb.reshape(-1, input_size)\n",
        "        out = self.linear(xb)\n",
        "        return out\n",
        "    \n",
        "    def training_step(self, batch):\n",
        "        images, label = batch\n",
        "        labels = torch.tensor([x-1 for x in label])\n",
        "        out = self(images)                  # Generate predictions\n",
        "        loss = F.cross_entropy(out, labels) # Calculate loss\n",
        "        return loss\n",
        "    \n",
        "    def validation_step(self, batch):\n",
        "        images, label = batch\n",
        "        labels = torch.tensor([x-1 for x in label])\n",
        "        out = self(images)                    # Generate predictions\n",
        "        loss = F.cross_entropy(out, labels)   # Calculate loss\n",
        "        acc = accuracy(out, labels)           # Calculate accuracy\n",
        "        return {'val_loss': loss, 'val_acc': acc}\n",
        "        \n",
        "    def validation_epoch_end(self, outputs):\n",
        "        batch_losses = [x['val_loss'] for x in outputs]\n",
        "        epoch_loss = torch.stack(batch_losses).mean()   # Combine losses\n",
        "        batch_accs = [x['val_acc'] for x in outputs]\n",
        "        epoch_acc = torch.stack(batch_accs).mean()      # Combine accuracies\n",
        "        return {'val_loss': epoch_loss.item(), 'val_acc': epoch_acc.item()}\n",
        "    \n",
        "    def epoch_end(self, epoch, result):\n",
        "        print(\"Epoch [{}], val_loss: {:.4f}, val_acc: {:.4f}\".format(epoch, result['val_loss'], result['val_acc']))"
      ],
      "execution_count": 20,
      "outputs": []
    },
    {
      "cell_type": "code",
      "metadata": {
        "id": "ew17xcKLv1V7",
        "colab_type": "code",
        "colab": {}
      },
      "source": [
        "model = EmnistModel()"
      ],
      "execution_count": 21,
      "outputs": []
    },
    {
      "cell_type": "markdown",
      "metadata": {
        "id": "V65UGX3ewGPR",
        "colab_type": "text"
      },
      "source": [
        "#### Predictions with the initial hyperparameters"
      ]
    },
    {
      "cell_type": "code",
      "metadata": {
        "id": "UmRLTgjRv6eO",
        "colab_type": "code",
        "colab": {}
      },
      "source": [
        "import torch.nn.functional as F\n",
        "\n",
        "for images, label in train_load:\n",
        "    labels = torch.tensor([x-1 for x in label])\n",
        "    outputs = model(images)\n",
        "    break"
      ],
      "execution_count": 22,
      "outputs": []
    },
    {
      "cell_type": "markdown",
      "metadata": {
        "id": "Swj1IxwxeROk",
        "colab_type": "text"
      },
      "source": [
        "We pass the outputs through the softmax function so that the outputs are in the range 0 to 1 and the sum of the outputs for each data point in the batch is 1, and the outputs can represent probabilities."
      ]
    },
    {
      "cell_type": "code",
      "metadata": {
        "id": "0g2b-YOfwmWh",
        "colab_type": "code",
        "colab": {}
      },
      "source": [
        "probs = F.softmax(outputs, dim=1)"
      ],
      "execution_count": 23,
      "outputs": []
    },
    {
      "cell_type": "markdown",
      "metadata": {
        "id": "6cjpJioKglOX",
        "colab_type": "text"
      },
      "source": [
        "We can take the class with the highest probability as the predicted class. The 'max_probs' represents the highest probability and 'preds' represents it's index, which can be called the predicted label."
      ]
    },
    {
      "cell_type": "code",
      "metadata": {
        "id": "5P0BShmLw5_p",
        "colab_type": "code",
        "colab": {
          "base_uri": "https://localhost:8080/",
          "height": 153
        },
        "outputId": "8de78f60-a4de-486d-8bec-f4c0be2fbfe4"
      },
      "source": [
        "max_probs, preds = torch.max(probs, dim=1)\n",
        "preds"
      ],
      "execution_count": 24,
      "outputs": [
        {
          "output_type": "execute_result",
          "data": {
            "text/plain": [
              "tensor([ 2,  2,  2, 18,  2,  2, 15, 11,  2,  3, 18,  2, 18, 15,  2, 15,  4, 15,\n",
              "         2,  9,  2, 15,  2, 13, 15,  3,  2, 15,  2, 11, 11,  2, 18, 18,  4, 18,\n",
              "         3,  5, 19, 21, 15,  2, 15, 15, 15, 18,  2, 15, 18, 18,  2, 18,  2,  4,\n",
              "         2,  2, 11,  2,  2,  4,  9, 11, 21,  3,  4,  2,  2,  2, 18,  3,  2,  3,\n",
              "        18, 11,  2, 18, 15, 18, 13, 21,  3, 15,  2,  2, 15, 18,  2,  2,  3,  3,\n",
              "         2, 23, 11, 20,  3, 11, 11, 10, 18,  3,  2,  2, 24,  2,  3,  4, 21, 15,\n",
              "        19,  2,  2, 24, 11,  3, 18, 15,  2, 18, 18,  5, 18, 18,  2, 11,  2,  3,\n",
              "         2,  2])"
            ]
          },
          "metadata": {
            "tags": []
          },
          "execution_count": 24
        }
      ]
    },
    {
      "cell_type": "markdown",
      "metadata": {
        "id": "2H4HfQGbhah2",
        "colab_type": "text"
      },
      "source": [
        "These are the labels predicted with the initial set of weights and biases. Since it's totally random, they are very likely to be wrong."
      ]
    },
    {
      "cell_type": "markdown",
      "metadata": {
        "id": "4sBskJLVxQ5I",
        "colab_type": "text"
      },
      "source": [
        "#### Defining accuracy of the model"
      ]
    },
    {
      "cell_type": "markdown",
      "metadata": {
        "id": "nafHzdeuiDVH",
        "colab_type": "text"
      },
      "source": [
        "We calculate the accuracy by checking the number of right predictions."
      ]
    },
    {
      "cell_type": "code",
      "metadata": {
        "id": "K-deem1Vw_HZ",
        "colab_type": "code",
        "colab": {}
      },
      "source": [
        "def accuracy(outputs, labels):\n",
        "    _, preds = torch.max(outputs, dim=1)\n",
        "    return torch.tensor(torch.sum(preds == labels).item() / len(preds))"
      ],
      "execution_count": 25,
      "outputs": []
    },
    {
      "cell_type": "code",
      "metadata": {
        "id": "5pIwkgn4xaB-",
        "colab_type": "code",
        "colab": {
          "base_uri": "https://localhost:8080/",
          "height": 34
        },
        "outputId": "d136829d-9b3d-4c0a-e2ab-9bd1a616af1b"
      },
      "source": [
        "accuracy(outputs, labels)"
      ],
      "execution_count": 26,
      "outputs": [
        {
          "output_type": "execute_result",
          "data": {
            "text/plain": [
              "tensor(0.0312)"
            ]
          },
          "metadata": {
            "tags": []
          },
          "execution_count": 26
        }
      ]
    },
    {
      "cell_type": "markdown",
      "metadata": {
        "id": "0clWKEIViNj_",
        "colab_type": "text"
      },
      "source": [
        "The accuracy is quite low, as expected."
      ]
    },
    {
      "cell_type": "markdown",
      "metadata": {
        "id": "r0O0-MKAxyY3",
        "colab_type": "text"
      },
      "source": [
        "#### Defining the loss function"
      ]
    },
    {
      "cell_type": "code",
      "metadata": {
        "id": "HbG1Mug7xpma",
        "colab_type": "code",
        "colab": {
          "base_uri": "https://localhost:8080/",
          "height": 34
        },
        "outputId": "1dc122a6-3b1a-4d3f-9e1c-b710466896ed"
      },
      "source": [
        "loss_fn = F.cross_entropy\n",
        "\n",
        "loss = loss_fn(outputs, labels)\n",
        "print(loss)"
      ],
      "execution_count": 27,
      "outputs": [
        {
          "output_type": "stream",
          "text": [
            "tensor(3.2834, grad_fn=<NllLossBackward>)\n"
          ],
          "name": "stdout"
        }
      ]
    },
    {
      "cell_type": "markdown",
      "metadata": {
        "id": "28JPo7I2x8Sd",
        "colab_type": "text"
      },
      "source": [
        "#### Training the model"
      ]
    },
    {
      "cell_type": "markdown",
      "metadata": {
        "id": "KPOApHh1i2y2",
        "colab_type": "text"
      },
      "source": [
        "We evaluate the model on the basis of the loss and accuracy.\n",
        "\n",
        "We fit the model to the training and validation datasets. The optimizer we use is SGD to change the weights and biases. For each epoch, in each batch, the loss is calculated on the training data and the model parameters are updated using the optimizer, which is then initialized again, so that the gradients do not keep adding up after each epoch. We evaluate the model with the updated model parameters on the validation dataset, and add each result to history. Number of epochs and learning rate are the hyperparameters whose best value, we have to decide in order to get the best version of the model. Epochs are the iterations, and learning rate is the rate by which the model parameters are changed during gradient descent."
      ]
    },
    {
      "cell_type": "code",
      "metadata": {
        "id": "nbg5yRgvx2GC",
        "colab_type": "code",
        "colab": {}
      },
      "source": [
        "def evaluate(model, val_loader):\n",
        "    outputs = [model.validation_step(batch) for batch in val_loader]\n",
        "    return model.validation_epoch_end(outputs)\n",
        "\n",
        "def fit(epochs, lr, model, train_loader, val_loader, opt_func=torch.optim.SGD):\n",
        "    history = []\n",
        "    optimizer = opt_func(model.parameters(), lr)\n",
        "    for epoch in range(epochs):\n",
        "        # Training Phase \n",
        "        for batch in train_loader:\n",
        "            loss = model.training_step(batch)\n",
        "            loss.backward()\n",
        "            optimizer.step()\n",
        "            optimizer.zero_grad()\n",
        "        # Validation phase\n",
        "        result = evaluate(model, val_loader)\n",
        "        model.epoch_end(epoch, result)\n",
        "        history.append(result)\n",
        "    return history"
      ],
      "execution_count": 28,
      "outputs": []
    },
    {
      "cell_type": "code",
      "metadata": {
        "id": "xqXSCAbbyD3H",
        "colab_type": "code",
        "colab": {
          "base_uri": "https://localhost:8080/",
          "height": 34
        },
        "outputId": "ab2ad300-a46a-471b-e0cb-f96fa9ae7796"
      },
      "source": [
        "result0 = evaluate(model, val_load)\n",
        "result0"
      ],
      "execution_count": 29,
      "outputs": [
        {
          "output_type": "execute_result",
          "data": {
            "text/plain": [
              "{'val_acc': 0.03212691470980644, 'val_loss': 3.301173686981201}"
            ]
          },
          "metadata": {
            "tags": []
          },
          "execution_count": 29
        }
      ]
    },
    {
      "cell_type": "code",
      "metadata": {
        "id": "GCBgFBAIyjU9",
        "colab_type": "code",
        "colab": {
          "base_uri": "https://localhost:8080/",
          "height": 102
        },
        "outputId": "f610b471-c853-47bb-acae-702e9c698e76"
      },
      "source": [
        "history1 = fit(5, 0.001, model, train_load, val_load)"
      ],
      "execution_count": 30,
      "outputs": [
        {
          "output_type": "stream",
          "text": [
            "Epoch [0], val_loss: 2.9341, val_acc: 0.3096\n",
            "Epoch [1], val_loss: 2.6590, val_acc: 0.4353\n",
            "Epoch [2], val_loss: 2.4430, val_acc: 0.4903\n",
            "Epoch [3], val_loss: 2.2728, val_acc: 0.5253\n",
            "Epoch [4], val_loss: 2.1374, val_acc: 0.5447\n"
          ],
          "name": "stdout"
        }
      ]
    },
    {
      "cell_type": "code",
      "metadata": {
        "id": "9hF7sSNvyvEi",
        "colab_type": "code",
        "colab": {
          "base_uri": "https://localhost:8080/",
          "height": 102
        },
        "outputId": "973c8802-75a9-475f-c502-ba42bfa679bc"
      },
      "source": [
        "history2 = fit(5, 0.01, model, train_load, val_load)"
      ],
      "execution_count": 31,
      "outputs": [
        {
          "output_type": "stream",
          "text": [
            "Epoch [0], val_loss: 1.5822, val_acc: 0.5969\n",
            "Epoch [1], val_loss: 1.4206, val_acc: 0.6188\n",
            "Epoch [2], val_loss: 1.3397, val_acc: 0.6346\n",
            "Epoch [3], val_loss: 1.2890, val_acc: 0.6449\n",
            "Epoch [4], val_loss: 1.2531, val_acc: 0.6519\n"
          ],
          "name": "stdout"
        }
      ]
    },
    {
      "cell_type": "code",
      "metadata": {
        "id": "X9gSKp-vze2-",
        "colab_type": "code",
        "colab": {
          "base_uri": "https://localhost:8080/",
          "height": 102
        },
        "outputId": "7239fa4f-f948-42b3-e492-04bcc8ff5ba9"
      },
      "source": [
        "history3 = fit(5, 0.02, model, train_load, val_load)"
      ],
      "execution_count": 32,
      "outputs": [
        {
          "output_type": "stream",
          "text": [
            "Epoch [0], val_loss: 1.2065, val_acc: 0.6618\n",
            "Epoch [1], val_loss: 1.1746, val_acc: 0.6699\n",
            "Epoch [2], val_loss: 1.1524, val_acc: 0.6786\n",
            "Epoch [3], val_loss: 1.1355, val_acc: 0.6812\n",
            "Epoch [4], val_loss: 1.1231, val_acc: 0.6854\n"
          ],
          "name": "stdout"
        }
      ]
    },
    {
      "cell_type": "code",
      "metadata": {
        "id": "LmIboWPtztYV",
        "colab_type": "code",
        "colab": {
          "base_uri": "https://localhost:8080/",
          "height": 102
        },
        "outputId": "50c4630d-87ed-46f7-eaf9-592bc610dbf2"
      },
      "source": [
        "history4 = fit(5, 0.01, model, train_load, val_load)"
      ],
      "execution_count": 33,
      "outputs": [
        {
          "output_type": "stream",
          "text": [
            "Epoch [0], val_loss: 1.1176, val_acc: 0.6871\n",
            "Epoch [1], val_loss: 1.1124, val_acc: 0.6875\n",
            "Epoch [2], val_loss: 1.1079, val_acc: 0.6898\n",
            "Epoch [3], val_loss: 1.1037, val_acc: 0.6910\n",
            "Epoch [4], val_loss: 1.0996, val_acc: 0.6917\n"
          ],
          "name": "stdout"
        }
      ]
    },
    {
      "cell_type": "code",
      "metadata": {
        "id": "X1Pu0-Nu0BP4",
        "colab_type": "code",
        "colab": {
          "base_uri": "https://localhost:8080/",
          "height": 102
        },
        "outputId": "eeaab832-f1ef-4692-deae-fc29e89c6bed"
      },
      "source": [
        "history5 = fit(5, 0.001, model, train_load, val_load)"
      ],
      "execution_count": 34,
      "outputs": [
        {
          "output_type": "stream",
          "text": [
            "Epoch [0], val_loss: 1.0991, val_acc: 0.6926\n",
            "Epoch [1], val_loss: 1.0988, val_acc: 0.6927\n",
            "Epoch [2], val_loss: 1.0984, val_acc: 0.6931\n",
            "Epoch [3], val_loss: 1.0981, val_acc: 0.6935\n",
            "Epoch [4], val_loss: 1.0977, val_acc: 0.6935\n"
          ],
          "name": "stdout"
        }
      ]
    },
    {
      "cell_type": "code",
      "metadata": {
        "id": "FybgSbkiqORr",
        "colab_type": "code",
        "colab": {
          "base_uri": "https://localhost:8080/",
          "height": 295
        },
        "outputId": "87b6a460-54a7-4358-823f-cbcb7f999fa1"
      },
      "source": [
        "history = [result0] + history1 + history2 + history3 + history4 + history5\n",
        "accuracies = [result['val_acc'] for result in history]\n",
        "plt.plot(accuracies, '-x')\n",
        "plt.xlabel('epoch')\n",
        "plt.ylabel('accuracy')\n",
        "plt.title('Accuracy vs. No. of epochs');"
      ],
      "execution_count": 35,
      "outputs": [
        {
          "output_type": "display_data",
          "data": {
            "image/png": "[encoded data removed]",
            "text/plain": [
              "<Figure size 432x288 with 1 Axes>"
            ]
          },
          "metadata": {
            "tags": [],
            "needs_background": "light"
          }
        }
      ]
    },
    {
      "cell_type": "markdown",
      "metadata": {
        "id": "8kMcRJaQqX8B",
        "colab_type": "text"
      },
      "source": [
        "As we can see, the accuracy becomes constant towards the end. It means that we have reached the linear regression limit, and to get better accuracies, we will have to use to more advanced models."
      ]
    },
    {
      "cell_type": "markdown",
      "metadata": {
        "id": "U4MOtieL0iOM",
        "colab_type": "text"
      },
      "source": [
        "#### Downloading and Transforming the test dataset\n",
        "The test dataset is downloaded with train permissions as False, since we are not going to use it for training, and converted to tensors."
      ]
    },
    {
      "cell_type": "code",
      "metadata": {
        "id": "PMs3LTfq0QsH",
        "colab_type": "code",
        "colab": {}
      },
      "source": [
        "test_dataset = EMNIST(root='data/', \n",
        "                     train=False,\n",
        "                     transform=transforms.ToTensor(), split='letters')"
      ],
      "execution_count": 36,
      "outputs": []
    },
    {
      "cell_type": "code",
      "metadata": {
        "id": "fTwQURA85-Z1",
        "colab_type": "code",
        "colab": {
          "base_uri": "https://localhost:8080/",
          "height": 34
        },
        "outputId": "5bba495b-a2ee-403d-919b-743faf52ffd2"
      },
      "source": [
        "len(test_dataset)"
      ],
      "execution_count": 37,
      "outputs": [
        {
          "output_type": "execute_result",
          "data": {
            "text/plain": [
              "20800"
            ]
          },
          "metadata": {
            "tags": []
          },
          "execution_count": 37
        }
      ]
    },
    {
      "cell_type": "code",
      "metadata": {
        "id": "x_AT6VkT0tY1",
        "colab_type": "code",
        "colab": {
          "base_uri": "https://localhost:8080/",
          "height": 299
        },
        "outputId": "e184a6c3-61ca-4d11-82d8-e86c0792de84"
      },
      "source": [
        "img, label = test_dataset[0]\n",
        "plt.imshow(img[0], cmap='gray')\n",
        "print('Shape:', img.shape)\n",
        "print('Label:', label-1)"
      ],
      "execution_count": 38,
      "outputs": [
        {
          "output_type": "stream",
          "text": [
            "Shape: torch.Size([1, 28, 28])\n",
            "Label: 0\n"
          ],
          "name": "stdout"
        },
        {
          "output_type": "display_data",
          "data": {
            "image/png": "[encoded data removed]",
            "text/plain": [
              "<Figure size 432x288 with 1 Axes>"
            ]
          },
          "metadata": {
            "tags": [],
            "needs_background": "light"
          }
        }
      ]
    },
    {
      "cell_type": "code",
      "metadata": {
        "id": "2wpSOeX-0y_y",
        "colab_type": "code",
        "colab": {
          "base_uri": "https://localhost:8080/",
          "height": 299
        },
        "outputId": "2159db31-2f1d-4d79-9e39-62eff1fdf956"
      },
      "source": [
        "img, label = test_dataset[1]\n",
        "plt.imshow(img[0], cmap='gray')\n",
        "print('Shape:', img.shape)\n",
        "print('Label:', label-1)"
      ],
      "execution_count": 39,
      "outputs": [
        {
          "output_type": "stream",
          "text": [
            "Shape: torch.Size([1, 28, 28])\n",
            "Label: 0\n"
          ],
          "name": "stdout"
        },
        {
          "output_type": "display_data",
          "data": {
            "image/png": "[encoded data removed]",
            "text/plain": [
              "<Figure size 432x288 with 1 Axes>"
            ]
          },
          "metadata": {
            "tags": [],
            "needs_background": "light"
          }
        }
      ]
    },
    {
      "cell_type": "code",
      "metadata": {
        "id": "vd2KPSmf2C2E",
        "colab_type": "code",
        "colab": {
          "base_uri": "https://localhost:8080/",
          "height": 299
        },
        "outputId": "9d10160d-9f3d-475d-9805-71329601d2c1"
      },
      "source": [
        "img, label = test_dataset[3000]\n",
        "plt.imshow(img[0], cmap='gray')\n",
        "print('Shape:', img.shape)\n",
        "print('Label:', label-1)"
      ],
      "execution_count": 40,
      "outputs": [
        {
          "output_type": "stream",
          "text": [
            "Shape: torch.Size([1, 28, 28])\n",
            "Label: 3\n"
          ],
          "name": "stdout"
        },
        {
          "output_type": "display_data",
          "data": {
            "image/png": "[encoded data removed]",
            "text/plain": [
              "<Figure size 432x288 with 1 Axes>"
            ]
          },
          "metadata": {
            "tags": [],
            "needs_background": "light"
          }
        }
      ]
    },
    {
      "cell_type": "markdown",
      "metadata": {
        "id": "y-_KQ5UTmQhF",
        "colab_type": "text"
      },
      "source": [
        "We are adding an extra dimension, with the value 1, which the model considers as a batch with 1 image."
      ]
    },
    {
      "cell_type": "code",
      "metadata": {
        "id": "146fZB2t2Gp1",
        "colab_type": "code",
        "colab": {
          "base_uri": "https://localhost:8080/",
          "height": 34
        },
        "outputId": "c7d2b154-3cbe-450c-83e1-5953798f7319"
      },
      "source": [
        "img.unsqueeze(0).shape"
      ],
      "execution_count": 41,
      "outputs": [
        {
          "output_type": "execute_result",
          "data": {
            "text/plain": [
              "torch.Size([1, 1, 28, 28])"
            ]
          },
          "metadata": {
            "tags": []
          },
          "execution_count": 41
        }
      ]
    },
    {
      "cell_type": "markdown",
      "metadata": {
        "id": "tN4h4Au02RK2",
        "colab_type": "text"
      },
      "source": [
        "#### Test the model on the test dataset\n",
        "We predict the output using the method described above, by considering the outputs as probabilities and the class with the highest probability as the prediction."
      ]
    },
    {
      "cell_type": "code",
      "metadata": {
        "id": "xPmc0Q9z2QPj",
        "colab_type": "code",
        "colab": {}
      },
      "source": [
        "def predict_image(img, model):\n",
        "    xb = img.unsqueeze(0)\n",
        "    yb = model(xb)\n",
        "    _, preds  = torch.max(yb, dim=1)\n",
        "    return preds[0].item()"
      ],
      "execution_count": 42,
      "outputs": []
    },
    {
      "cell_type": "code",
      "metadata": {
        "id": "NGqWA26g2cqX",
        "colab_type": "code",
        "colab": {
          "base_uri": "https://localhost:8080/",
          "height": 282
        },
        "outputId": "123d9411-7723-484e-c853-45fc40f581d5"
      },
      "source": [
        "img, label = test_dataset[0]\n",
        "plt.imshow(img[0], cmap='gray')\n",
        "print('Label:', label, ', Predicted Label:', predict_image(img, model) + 1, ', Predicted Alphabet:', classes[predict_image(img, model)])"
      ],
      "execution_count": 45,
      "outputs": [
        {
          "output_type": "stream",
          "text": [
            "Label: 1 , Predicted Label: 5 , Predicted Alphabet: e\n"
          ],
          "name": "stdout"
        },
        {
          "output_type": "display_data",
          "data": {
            "image/png": "[encoded data removed]",
            "text/plain": [
              "<Figure size 432x288 with 1 Axes>"
            ]
          },
          "metadata": {
            "tags": [],
            "needs_background": "light"
          }
        }
      ]
    },
    {
      "cell_type": "code",
      "metadata": {
        "id": "Wl5FutNG2hQ1",
        "colab_type": "code",
        "colab": {
          "base_uri": "https://localhost:8080/",
          "height": 282
        },
        "outputId": "7f52a8ba-1d2f-468c-c78d-2bed40fd9ae8"
      },
      "source": [
        "img, label = test_dataset[30]\n",
        "plt.imshow(img[0], cmap='gray')\n",
        "print('Label:', label, ', Predicted Label:', predict_image(img, model) + 1, ', Predicted Alphabet:', classes[predict_image(img, model)])"
      ],
      "execution_count": 46,
      "outputs": [
        {
          "output_type": "stream",
          "text": [
            "Label: 1 , Predicted Label: 1 , Predicted Alphabet: a\n"
          ],
          "name": "stdout"
        },
        {
          "output_type": "display_data",
          "data": {
            "image/png": "[encoded data removed]",
            "text/plain": [
              "<Figure size 432x288 with 1 Axes>"
            ]
          },
          "metadata": {
            "tags": [],
            "needs_background": "light"
          }
        }
      ]
    },
    {
      "cell_type": "code",
      "metadata": {
        "id": "GLF7bLD-2lKR",
        "colab_type": "code",
        "colab": {
          "base_uri": "https://localhost:8080/",
          "height": 282
        },
        "outputId": "fa59881a-0083-46e4-882a-033dc2ca8519"
      },
      "source": [
        "img, label = test_dataset[4000]\n",
        "plt.imshow(img[0], cmap='gray')\n",
        "print('Label:', label, ', Predicted Label:', predict_image(img, model) + 1, ', Predicted Alphabet:', classes[predict_image(img, model)])"
      ],
      "execution_count": 47,
      "outputs": [
        {
          "output_type": "stream",
          "text": [
            "Label: 6 , Predicted Label: 6 , Predicted Alphabet: f\n"
          ],
          "name": "stdout"
        },
        {
          "output_type": "display_data",
          "data": {
            "image/png": "[encoded data removed]",
            "text/plain": [
              "<Figure size 432x288 with 1 Axes>"
            ]
          },
          "metadata": {
            "tags": [],
            "needs_background": "light"
          }
        }
      ]
    },
    {
      "cell_type": "markdown",
      "metadata": {
        "id": "lPaEpjRE23bf",
        "colab_type": "text"
      },
      "source": [
        "#### Evaluate the model on the test dataset"
      ]
    },
    {
      "cell_type": "code",
      "metadata": {
        "id": "4VzlRk252uM9",
        "colab_type": "code",
        "colab": {
          "base_uri": "https://localhost:8080/",
          "height": 34
        },
        "outputId": "2affa75c-0702-435e-9a04-d7e735f22a26"
      },
      "source": [
        "test_loader = DataLoader(test_dataset, batch_size=128)\n",
        "result = evaluate(model, test_loader)\n",
        "result"
      ],
      "execution_count": 48,
      "outputs": [
        {
          "output_type": "execute_result",
          "data": {
            "text/plain": [
              "{'val_acc': 0.6948811411857605, 'val_loss': 1.1023281812667847}"
            ]
          },
          "metadata": {
            "tags": []
          },
          "execution_count": 48
        }
      ]
    },
    {
      "cell_type": "markdown",
      "metadata": {
        "id": "LYiumYJs3NAk",
        "colab_type": "text"
      },
      "source": [
        "#### The final accuracy of the model on the test dataset is 69.49% using logistic regression."
      ]
    }
  ]
}