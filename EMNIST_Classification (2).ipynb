{
  "nbformat": 4,
  "nbformat_minor": 0,
  "metadata": {
    "colab": {
      "name": "EMNIST-Classification.ipynb",
      "provenance": [],
      "collapsed_sections": [
        "k1f8C6IivG3z",
        "V65UGX3ewGPR",
        "4sBskJLVxQ5I",
        "r0O0-MKAxyY3",
        "LYiumYJs3NAk"
      ]
    },
    "kernelspec": {
      "name": "python3",
      "display_name": "Python 3"
    },
    "widgets": {
      "application/vnd.jupyter.widget-state+json": {
        "a6dae65ba5e548f498f9457c12325636": {
          "model_module": "@jupyter-widgets/controls",
          "model_name": "HBoxModel",
          "state": {
            "_view_name": "HBoxView",
            "_dom_classes": [],
            "_model_name": "HBoxModel",
            "_view_module": "@jupyter-widgets/controls",
            "_model_module_version": "1.5.0",
            "_view_count": null,
            "_view_module_version": "1.5.0",
            "box_style": "",
            "layout": "IPY_MODEL_3bc057e08fbf45c3ae0a7eeec559b4dc",
            "_model_module": "@jupyter-widgets/controls",
            "children": [
              "IPY_MODEL_e21d2a1442f64967bb843d0df7d61137",
              "IPY_MODEL_a40166bb96564a629b7b6c21c1f2c99a"
            ]
          }
        },
        "3bc057e08fbf45c3ae0a7eeec559b4dc": {
          "model_module": "@jupyter-widgets/base",
          "model_name": "LayoutModel",
          "state": {
            "_view_name": "LayoutView",
            "grid_template_rows": null,
            "right": null,
            "justify_content": null,
            "_view_module": "@jupyter-widgets/base",
            "overflow": null,
            "_model_module_version": "1.2.0",
            "_view_count": null,
            "flex_flow": null,
            "width": null,
            "min_width": null,
            "border": null,
            "align_items": null,
            "bottom": null,
            "_model_module": "@jupyter-widgets/base",
            "top": null,
            "grid_column": null,
            "overflow_y": null,
            "overflow_x": null,
            "grid_auto_flow": null,
            "grid_area": null,
            "grid_template_columns": null,
            "flex": null,
            "_model_name": "LayoutModel",
            "justify_items": null,
            "grid_row": null,
            "max_height": null,
            "align_content": null,
            "visibility": null,
            "align_self": null,
            "height": null,
            "min_height": null,
            "padding": null,
            "grid_auto_rows": null,
            "grid_gap": null,
            "max_width": null,
            "order": null,
            "_view_module_version": "1.2.0",
            "grid_template_areas": null,
            "object_position": null,
            "object_fit": null,
            "grid_auto_columns": null,
            "margin": null,
            "display": null,
            "left": null
          }
        },
        "e21d2a1442f64967bb843d0df7d61137": {
          "model_module": "@jupyter-widgets/controls",
          "model_name": "FloatProgressModel",
          "state": {
            "_view_name": "ProgressView",
            "style": "IPY_MODEL_77b805033d7e43c7b522c79e42cadbce",
            "_dom_classes": [],
            "description": "",
            "_model_name": "FloatProgressModel",
            "bar_style": "info",
            "max": 1,
            "_view_module": "@jupyter-widgets/controls",
            "_model_module_version": "1.5.0",
            "value": 1,
            "_view_count": null,
            "_view_module_version": "1.5.0",
            "orientation": "horizontal",
            "min": 0,
            "description_tooltip": null,
            "_model_module": "@jupyter-widgets/controls",
            "layout": "IPY_MODEL_b4813452c204414e99f5e986d02684e3"
          }
        },
        "a40166bb96564a629b7b6c21c1f2c99a": {
          "model_module": "@jupyter-widgets/controls",
          "model_name": "HTMLModel",
          "state": {
            "_view_name": "HTMLView",
            "style": "IPY_MODEL_8e6d1b6623d845788a4e093b2eeff752",
            "_dom_classes": [],
            "description": "",
            "_model_name": "HTMLModel",
            "placeholder": "​",
            "_view_module": "@jupyter-widgets/controls",
            "_model_module_version": "1.5.0",
            "value": " 561758208/? [02:00&lt;00:00, 3652755.79it/s]",
            "_view_count": null,
            "_view_module_version": "1.5.0",
            "description_tooltip": null,
            "_model_module": "@jupyter-widgets/controls",
            "layout": "IPY_MODEL_e41554e79023416bb95b92ea78fb3e72"
          }
        },
        "77b805033d7e43c7b522c79e42cadbce": {
          "model_module": "@jupyter-widgets/controls",
          "model_name": "ProgressStyleModel",
          "state": {
            "_view_name": "StyleView",
            "_model_name": "ProgressStyleModel",
            "description_width": "initial",
            "_view_module": "@jupyter-widgets/base",
            "_model_module_version": "1.5.0",
            "_view_count": null,
            "_view_module_version": "1.2.0",
            "bar_color": null,
            "_model_module": "@jupyter-widgets/controls"
          }
        },
        "b4813452c204414e99f5e986d02684e3": {
          "model_module": "@jupyter-widgets/base",
          "model_name": "LayoutModel",
          "state": {
            "_view_name": "LayoutView",
            "grid_template_rows": null,
            "right": null,
            "justify_content": null,
            "_view_module": "@jupyter-widgets/base",
            "overflow": null,
            "_model_module_version": "1.2.0",
            "_view_count": null,
            "flex_flow": null,
            "width": null,
            "min_width": null,
            "border": null,
            "align_items": null,
            "bottom": null,
            "_model_module": "@jupyter-widgets/base",
            "top": null,
            "grid_column": null,
            "overflow_y": null,
            "overflow_x": null,
            "grid_auto_flow": null,
            "grid_area": null,
            "grid_template_columns": null,
            "flex": null,
            "_model_name": "LayoutModel",
            "justify_items": null,
            "grid_row": null,
            "max_height": null,
            "align_content": null,
            "visibility": null,
            "align_self": null,
            "height": null,
            "min_height": null,
            "padding": null,
            "grid_auto_rows": null,
            "grid_gap": null,
            "max_width": null,
            "order": null,
            "_view_module_version": "1.2.0",
            "grid_template_areas": null,
            "object_position": null,
            "object_fit": null,
            "grid_auto_columns": null,
            "margin": null,
            "display": null,
            "left": null
          }
        },
        "8e6d1b6623d845788a4e093b2eeff752": {
          "model_module": "@jupyter-widgets/controls",
          "model_name": "DescriptionStyleModel",
          "state": {
            "_view_name": "StyleView",
            "_model_name": "DescriptionStyleModel",
            "description_width": "",
            "_view_module": "@jupyter-widgets/base",
            "_model_module_version": "1.5.0",
            "_view_count": null,
            "_view_module_version": "1.2.0",
            "_model_module": "@jupyter-widgets/controls"
          }
        },
        "e41554e79023416bb95b92ea78fb3e72": {
          "model_module": "@jupyter-widgets/base",
          "model_name": "LayoutModel",
          "state": {
            "_view_name": "LayoutView",
            "grid_template_rows": null,
            "right": null,
            "justify_content": null,
            "_view_module": "@jupyter-widgets/base",
            "overflow": null,
            "_model_module_version": "1.2.0",
            "_view_count": null,
            "flex_flow": null,
            "width": null,
            "min_width": null,
            "border": null,
            "align_items": null,
            "bottom": null,
            "_model_module": "@jupyter-widgets/base",
            "top": null,
            "grid_column": null,
            "overflow_y": null,
            "overflow_x": null,
            "grid_auto_flow": null,
            "grid_area": null,
            "grid_template_columns": null,
            "flex": null,
            "_model_name": "LayoutModel",
            "justify_items": null,
            "grid_row": null,
            "max_height": null,
            "align_content": null,
            "visibility": null,
            "align_self": null,
            "height": null,
            "min_height": null,
            "padding": null,
            "grid_auto_rows": null,
            "grid_gap": null,
            "max_width": null,
            "order": null,
            "_view_module_version": "1.2.0",
            "grid_template_areas": null,
            "object_position": null,
            "object_fit": null,
            "grid_auto_columns": null,
            "margin": null,
            "display": null,
            "left": null
          }
        }
      }
    },
    "accelerator": "GPU"
  },
  "cells": [
    {
      "cell_type": "markdown",
      "metadata": {
        "id": "qKJ49Pdgptnm",
        "colab_type": "text"
      },
      "source": [
        "# Using Convolutional Neural Network to classify the EMNIST Dataset\n",
        "\n",
        "PyTorch provides a wide range of built-in datasets to work on like, MNIST, EMNIST, Fashion MNIST, CIFAR10 etc. In this notebook, we are using the EMNIST dataset which is split into 6 sub-datasets. We will be using the 'letters' sub-dataset, which consists of 26 balanced classes, each having 28x28 pixel images of hand-written letters from the english alphabet. The objective of the model is Hand-written Alphabet Recognition.\n",
        "\n",
        "We'll be training the model on 124800 images from the training dataset, out of which 1% of the images will be used for the validation set, and the model will be tested on 20800 images from the test dataset.\n",
        "\n",
        "In the model, we will use CNNs to build our model."
      ]
    },
    {
      "cell_type": "markdown",
      "metadata": {
        "id": "XNoQa1JOrAh0",
        "colab_type": "text"
      },
      "source": [
        "#### Importing libraries and the EMNIST dataset "
      ]
    },
    {
      "cell_type": "code",
      "metadata": {
        "id": "7X7zr1jQornk",
        "colab_type": "code",
        "colab": {}
      },
      "source": [
        "import torch\n",
        "import torchvision\n",
        "from torchvision.datasets import EMNIST"
      ],
      "execution_count": 1,
      "outputs": []
    },
    {
      "cell_type": "markdown",
      "metadata": {
        "id": "cd2A99Nfrlxt",
        "colab_type": "text"
      },
      "source": [
        "#### Downloading the EMNIST dataset to the notebook\n",
        "The root directory where we want the dataset to be downloaded, the sub-dataset and the download permissions are to be passed as arguments to get the in-built dataset to work on."
      ]
    },
    {
      "cell_type": "code",
      "metadata": {
        "id": "FyRiDRYNpDG2",
        "colab_type": "code",
        "colab": {
          "base_uri": "https://localhost:8080/",
          "height": 256,
          "referenced_widgets": [
            "a6dae65ba5e548f498f9457c12325636",
            "3bc057e08fbf45c3ae0a7eeec559b4dc",
            "e21d2a1442f64967bb843d0df7d61137",
            "a40166bb96564a629b7b6c21c1f2c99a",
            "77b805033d7e43c7b522c79e42cadbce",
            "b4813452c204414e99f5e986d02684e3",
            "8e6d1b6623d845788a4e093b2eeff752",
            "e41554e79023416bb95b92ea78fb3e72"
          ]
        },
        "outputId": "ee1f637a-9852-4deb-b90b-417caa7abf5e"
      },
      "source": [
        "dataset = EMNIST(root='data/', split='letters', download=True)"
      ],
      "execution_count": 2,
      "outputs": [
        {
          "output_type": "stream",
          "text": [
            "Downloading and extracting zip archive\n",
            "Downloading http://www.itl.nist.gov/iaui/vip/cs_links/EMNIST/gzip.zip to data/EMNIST/raw/emnist.zip\n"
          ],
          "name": "stdout"
        },
        {
          "output_type": "display_data",
          "data": {
            "application/vnd.jupyter.widget-view+json": {
              "model_id": "a6dae65ba5e548f498f9457c12325636",
              "version_minor": 0,
              "version_major": 2
            },
            "text/plain": [
              "HBox(children=(FloatProgress(value=1.0, bar_style='info', max=1.0), HTML(value='')))"
            ]
          },
          "metadata": {
            "tags": []
          }
        },
        {
          "output_type": "stream",
          "text": [
            "Extracting data/EMNIST/raw/emnist.zip to data/EMNIST/raw\n",
            "Processing byclass\n"
          ],
          "name": "stdout"
        },
        {
          "output_type": "stream",
          "text": [
            "/pytorch/torch/csrc/utils/tensor_numpy.cpp:141: UserWarning: The given NumPy array is not writeable, and PyTorch does not support non-writeable tensors. This means you can write to the underlying (supposedly non-writeable) NumPy array using the tensor. You may want to copy the array to protect its data or make it writeable before converting it to a tensor. This type of warning will be suppressed for the rest of this program.\n"
          ],
          "name": "stderr"
        },
        {
          "output_type": "stream",
          "text": [
            "Processing bymerge\n",
            "Processing balanced\n",
            "Processing letters\n",
            "Processing digits\n",
            "Processing mnist\n",
            "Done!\n"
          ],
          "name": "stdout"
        }
      ]
    },
    {
      "cell_type": "markdown",
      "metadata": {
        "id": "O2jVHzjatgKw",
        "colab_type": "text"
      },
      "source": [
        "#### Exploring the Dataset\n",
        "Now, to get familiar with the dataset, we'll just look at the length of the dataset, some of the nodes of the dataset and print their image and label for some visual familiarity, and see the classes the dataset is divided into."
      ]
    },
    {
      "cell_type": "code",
      "metadata": {
        "id": "0b9OHhg-pab0",
        "colab_type": "code",
        "colab": {
          "base_uri": "https://localhost:8080/",
          "height": 34
        },
        "outputId": "afa89e2e-7e61-46f1-b760-86da322fbbaa"
      },
      "source": [
        "len(dataset)"
      ],
      "execution_count": 3,
      "outputs": [
        {
          "output_type": "execute_result",
          "data": {
            "text/plain": [
              "124800"
            ]
          },
          "metadata": {
            "tags": []
          },
          "execution_count": 3
        }
      ]
    },
    {
      "cell_type": "markdown",
      "metadata": {
        "id": "v83_HRy78jFz",
        "colab_type": "text"
      },
      "source": [
        "The training dataset contains 124800 data points."
      ]
    },
    {
      "cell_type": "code",
      "metadata": {
        "id": "XMY4sCUgqHsM",
        "colab_type": "code",
        "colab": {
          "base_uri": "https://localhost:8080/",
          "height": 34
        },
        "outputId": "613b275a-49b1-494b-e18f-64bc3662a66f"
      },
      "source": [
        "dataset[0]"
      ],
      "execution_count": 4,
      "outputs": [
        {
          "output_type": "execute_result",
          "data": {
            "text/plain": [
              "(<PIL.Image.Image image mode=L size=28x28 at 0x7EFC1598DC88>, 23)"
            ]
          },
          "metadata": {
            "tags": []
          },
          "execution_count": 4
        }
      ]
    },
    {
      "cell_type": "code",
      "metadata": {
        "id": "Ugs7VGYLqIHn",
        "colab_type": "code",
        "colab": {
          "base_uri": "https://localhost:8080/",
          "height": 34
        },
        "outputId": "9b232746-f7eb-400a-cebb-91d4e8cb84b7"
      },
      "source": [
        "dataset[1]"
      ],
      "execution_count": 5,
      "outputs": [
        {
          "output_type": "execute_result",
          "data": {
            "text/plain": [
              "(<PIL.Image.Image image mode=L size=28x28 at 0x7EFC14C220F0>, 7)"
            ]
          },
          "metadata": {
            "tags": []
          },
          "execution_count": 5
        }
      ]
    },
    {
      "cell_type": "markdown",
      "metadata": {
        "id": "aVhhAvZH82m_",
        "colab_type": "text"
      },
      "source": [
        "The first two datapoints of the training dataset are the letters 'w' (23rd alphabet) and 'g' (7th alphabet)"
      ]
    },
    {
      "cell_type": "code",
      "metadata": {
        "id": "5gcN8YI9sfLf",
        "colab_type": "code",
        "colab": {}
      },
      "source": [
        "import matplotlib.pyplot as plt\n",
        "%matplotlib inline"
      ],
      "execution_count": 6,
      "outputs": []
    },
    {
      "cell_type": "code",
      "metadata": {
        "id": "dhCvRxuooGkq",
        "colab_type": "code",
        "colab": {
          "base_uri": "https://localhost:8080/",
          "height": 459
        },
        "outputId": "2c82f6e1-7b7d-4bc1-e5f9-3fa5a693659f"
      },
      "source": [
        "classes = dataset.classes\n",
        "classes"
      ],
      "execution_count": 7,
      "outputs": [
        {
          "output_type": "execute_result",
          "data": {
            "text/plain": [
              "['a',\n",
              " 'b',\n",
              " 'c',\n",
              " 'd',\n",
              " 'e',\n",
              " 'f',\n",
              " 'g',\n",
              " 'h',\n",
              " 'i',\n",
              " 'j',\n",
              " 'k',\n",
              " 'l',\n",
              " 'm',\n",
              " 'n',\n",
              " 'o',\n",
              " 'p',\n",
              " 'q',\n",
              " 'r',\n",
              " 's',\n",
              " 't',\n",
              " 'u',\n",
              " 'v',\n",
              " 'w',\n",
              " 'x',\n",
              " 'y',\n",
              " 'z']"
            ]
          },
          "metadata": {
            "tags": []
          },
          "execution_count": 7
        }
      ]
    },
    {
      "cell_type": "markdown",
      "metadata": {
        "id": "fFiPIp_boUym",
        "colab_type": "text"
      },
      "source": [
        "The 26 classes are all the letters of the english alphabet."
      ]
    },
    {
      "cell_type": "code",
      "metadata": {
        "id": "sdADeXWVqZ8i",
        "colab_type": "code",
        "colab": {
          "base_uri": "https://localhost:8080/",
          "height": 282
        },
        "outputId": "ce0a2953-0684-4142-e32d-9aee7bf39190"
      },
      "source": [
        "image, label = dataset[2]\n",
        "label -= 1\n",
        "plt.imshow(image, cmap='gray')\n",
        "print(classes[label])"
      ],
      "execution_count": 8,
      "outputs": [
        {
          "output_type": "stream",
          "text": [
            "p\n"
          ],
          "name": "stdout"
        },
        {
          "output_type": "display_data",
          "data": {
            "image/png": "[encoded data removed]",
            "text/plain": [
              "<Figure size 432x288 with 1 Axes>"
            ]
          },
          "metadata": {
            "tags": [],
            "needs_background": "light"
          }
        }
      ]
    },
    {
      "cell_type": "code",
      "metadata": {
        "id": "sP1AFQTiqaYQ",
        "colab_type": "code",
        "colab": {
          "base_uri": "https://localhost:8080/",
          "height": 282
        },
        "outputId": "d59eb964-52e9-4e07-9ade-e78077e98384"
      },
      "source": [
        "image, label = dataset[3]\n",
        "label -= 1\n",
        "plt.imshow(image, cmap='gray')\n",
        "print(classes[label])"
      ],
      "execution_count": 9,
      "outputs": [
        {
          "output_type": "stream",
          "text": [
            "o\n"
          ],
          "name": "stdout"
        },
        {
          "output_type": "display_data",
          "data": {
            "image/png": "[encoded data removed]",
            "text/plain": [
              "<Figure size 432x288 with 1 Axes>"
            ]
          },
          "metadata": {
            "tags": [],
            "needs_background": "light"
          }
        }
      ]
    },
    {
      "cell_type": "markdown",
      "metadata": {
        "id": "yfrEC3OxuCXp",
        "colab_type": "text"
      },
      "source": [
        "#### Transforming the images in the dataset to tensors \n",
        "To work with data points and perform operations on them, we need to convert them to tensors."
      ]
    },
    {
      "cell_type": "code",
      "metadata": {
        "id": "4O43ev7Utb7C",
        "colab_type": "code",
        "colab": {}
      },
      "source": [
        "import torchvision.transforms as transforms"
      ],
      "execution_count": 10,
      "outputs": []
    },
    {
      "cell_type": "code",
      "metadata": {
        "id": "YZS2M8g3uA_0",
        "colab_type": "code",
        "colab": {
          "base_uri": "https://localhost:8080/",
          "height": 34
        },
        "outputId": "b375e886-bcff-4575-85c7-985d561cf94f"
      },
      "source": [
        "dataset = EMNIST(root='data/', train=True, transform=transforms.ToTensor(), split='letters')\n",
        "len(dataset)"
      ],
      "execution_count": 11,
      "outputs": [
        {
          "output_type": "execute_result",
          "data": {
            "text/plain": [
              "124800"
            ]
          },
          "metadata": {
            "tags": []
          },
          "execution_count": 11
        }
      ]
    },
    {
      "cell_type": "markdown",
      "metadata": {
        "id": "j1YShb6zuYna",
        "colab_type": "text"
      },
      "source": [
        "#### Exploring the image tensors\n",
        "Each data point has two parts: the image tensor and it's label.\n",
        "The shape of the image tensor is [1, 28, 28], signifying that it only consists of one channel(lightness channel, L, since it's a grayscale image), conveyed by the first dimension; and the size of the image that 28x28 pixels, as conveyed by the subsequent 2 dimensions "
      ]
    },
    {
      "cell_type": "code",
      "metadata": {
        "id": "asptGdV7qskZ",
        "colab_type": "code",
        "colab": {
          "base_uri": "https://localhost:8080/",
          "height": 34
        },
        "outputId": "26ca1225-a9de-49fa-a7c4-aea751851745"
      },
      "source": [
        "img_tensor, labels = dataset[0]\n",
        "print(img_tensor.shape, labels-1)"
      ],
      "execution_count": 12,
      "outputs": [
        {
          "output_type": "stream",
          "text": [
            "torch.Size([1, 28, 28]) 22\n"
          ],
          "name": "stdout"
        }
      ]
    },
    {
      "cell_type": "code",
      "metadata": {
        "id": "3HH5bh8Aqs72",
        "colab_type": "code",
        "colab": {
          "base_uri": "https://localhost:8080/",
          "height": 34
        },
        "outputId": "67c5523c-faa6-4095-b5f4-f9ad5284c6ee"
      },
      "source": [
        "img_tensor, labels = dataset[1]\n",
        "print(img_tensor.shape, labels-1)"
      ],
      "execution_count": 13,
      "outputs": [
        {
          "output_type": "stream",
          "text": [
            "torch.Size([1, 28, 28]) 6\n"
          ],
          "name": "stdout"
        }
      ]
    },
    {
      "cell_type": "code",
      "metadata": {
        "id": "AbOKguJEq2Dn",
        "colab_type": "code",
        "colab": {
          "base_uri": "https://localhost:8080/",
          "height": 1000
        },
        "outputId": "5ff95311-d9b2-4e07-9fe9-ed846ccb4e97"
      },
      "source": [
        "img_tensor, labels = dataset[2]\n",
        "print(img_tensor, labels-1)"
      ],
      "execution_count": 14,
      "outputs": [
        {
          "output_type": "stream",
          "text": [
            "tensor([[[0.0000, 0.0000, 0.0000, 0.0000, 0.0000, 0.0000, 0.0000, 0.0000,\n",
            "          0.0000, 0.0000, 0.0000, 0.0000, 0.0000, 0.0000, 0.0000, 0.0000,\n",
            "          0.0000, 0.0000, 0.0000, 0.0000, 0.0000, 0.0000, 0.0000, 0.0000,\n",
            "          0.0000, 0.0000, 0.0000, 0.0000],\n",
            "         [0.0000, 0.0000, 0.0000, 0.0000, 0.0000, 0.0000, 0.0000, 0.0000,\n",
            "          0.0000, 0.0000, 0.0000, 0.0000, 0.0000, 0.0000, 0.0000, 0.0000,\n",
            "          0.0000, 0.0000, 0.0000, 0.0000, 0.0000, 0.0000, 0.0000, 0.0000,\n",
            "          0.0000, 0.0000, 0.0000, 0.0000],\n",
            "         [0.0000, 0.0000, 0.0000, 0.0000, 0.0000, 0.0000, 0.0000, 0.0000,\n",
            "          0.0000, 0.0000, 0.0000, 0.0000, 0.0000, 0.0000, 0.0000, 0.0000,\n",
            "          0.0000, 0.0000, 0.0000, 0.0000, 0.0000, 0.0000, 0.0000, 0.0000,\n",
            "          0.0000, 0.0000, 0.0000, 0.0000],\n",
            "         [0.0000, 0.0000, 0.0000, 0.0000, 0.0000, 0.0000, 0.0000, 0.0000,\n",
            "          0.0000, 0.0000, 0.0000, 0.0000, 0.0000, 0.0000, 0.0000, 0.0000,\n",
            "          0.0000, 0.0000, 0.0000, 0.0000, 0.0000, 0.0000, 0.0000, 0.0000,\n",
            "          0.0000, 0.0000, 0.0000, 0.0000],\n",
            "         [0.0000, 0.0000, 0.0000, 0.0000, 0.0000, 0.0000, 0.0000, 0.0000,\n",
            "          0.0000, 0.0000, 0.0000, 0.0000, 0.0000, 0.0000, 0.0000, 0.0000,\n",
            "          0.0000, 0.0000, 0.0000, 0.0000, 0.0000, 0.0000, 0.0000, 0.0000,\n",
            "          0.0000, 0.0000, 0.0000, 0.0000],\n",
            "         [0.0000, 0.0000, 0.0000, 0.0000, 0.0000, 0.0000, 0.0000, 0.0000,\n",
            "          0.0000, 0.0000, 0.0000, 0.0000, 0.0000, 0.0000, 0.0000, 0.0000,\n",
            "          0.0000, 0.0000, 0.0000, 0.0000, 0.0000, 0.0000, 0.0000, 0.0000,\n",
            "          0.0000, 0.0000, 0.0000, 0.0000],\n",
            "         [0.0000, 0.0000, 0.0000, 0.0000, 0.0000, 0.0000, 0.0000, 0.0000,\n",
            "          0.0000, 0.0000, 0.0000, 0.0000, 0.0000, 0.0000, 0.0000, 0.0000,\n",
            "          0.0000, 0.0000, 0.0000, 0.0000, 0.0000, 0.0000, 0.0000, 0.0000,\n",
            "          0.0000, 0.0000, 0.0000, 0.0000],\n",
            "         [0.0000, 0.0000, 0.0000, 0.0000, 0.0000, 0.0000, 0.0000, 0.0000,\n",
            "          0.0000, 0.0000, 0.0000, 0.0000, 0.0000, 0.0000, 0.0078, 0.0000,\n",
            "          0.0000, 0.0000, 0.0000, 0.0000, 0.0000, 0.0000, 0.0000, 0.0000,\n",
            "          0.0000, 0.0000, 0.0000, 0.0000],\n",
            "         [0.0000, 0.0000, 0.0000, 0.0000, 0.0000, 0.0000, 0.0000, 0.0000,\n",
            "          0.0000, 0.0000, 0.0000, 0.0000, 0.0000, 0.1255, 0.6588, 0.3529,\n",
            "          0.0392, 0.0000, 0.0000, 0.0078, 0.0000, 0.0000, 0.0039, 0.0000,\n",
            "          0.0000, 0.0000, 0.0000, 0.0000],\n",
            "         [0.0000, 0.0000, 0.0000, 0.0000, 0.0000, 0.0000, 0.0000, 0.0000,\n",
            "          0.0000, 0.0000, 0.0157, 0.0157, 0.0196, 0.4235, 0.9922, 0.9686,\n",
            "          0.8157, 0.5059, 0.5490, 0.7137, 0.5451, 0.5059, 0.6235, 0.4980,\n",
            "          0.4471, 0.1294, 0.0196, 0.0000],\n",
            "         [0.0000, 0.0000, 0.0000, 0.0000, 0.0000, 0.0000, 0.0000, 0.0000,\n",
            "          0.0824, 0.1961, 0.4902, 0.4980, 0.5059, 0.8275, 0.9961, 0.9961,\n",
            "          0.9961, 0.9804, 0.9804, 0.9922, 0.9804, 0.9804, 0.9843, 0.9804,\n",
            "          0.9608, 0.7255, 0.1255, 0.0000],\n",
            "         [0.0000, 0.0000, 0.0000, 0.0000, 0.0157, 0.1804, 0.4902, 0.5490,\n",
            "          0.9098, 0.9804, 0.9961, 0.9961, 0.9961, 0.9961, 0.9961, 0.9961,\n",
            "          0.9961, 0.9961, 0.9961, 0.9961, 0.9961, 0.9961, 1.0000, 0.9961,\n",
            "          0.9961, 0.8510, 0.1451, 0.0000],\n",
            "         [0.0000, 0.0000, 0.0314, 0.4510, 0.8000, 0.9608, 0.9922, 0.9608,\n",
            "          0.6745, 0.4980, 0.4980, 0.4980, 0.4980, 0.5059, 0.9255, 0.9961,\n",
            "          0.9255, 0.5059, 0.4980, 0.5059, 0.7961, 0.8510, 0.8510, 0.8510,\n",
            "          0.7216, 0.4706, 0.0706, 0.0000],\n",
            "         [0.0000, 0.0784, 0.6196, 0.9922, 0.9922, 0.6941, 0.4471, 0.1804,\n",
            "          0.0118, 0.0000, 0.0000, 0.0000, 0.0000, 0.0157, 0.8510, 0.9961,\n",
            "          0.8510, 0.0157, 0.0000, 0.0000, 0.0157, 0.0157, 0.0157, 0.0157,\n",
            "          0.0118, 0.0000, 0.0000, 0.0000],\n",
            "         [0.0000, 0.1451, 0.8431, 0.9961, 0.8667, 0.1412, 0.0157, 0.0000,\n",
            "          0.0000, 0.0000, 0.0000, 0.0000, 0.0000, 0.0353, 0.8706, 0.9961,\n",
            "          0.8431, 0.0157, 0.0000, 0.0000, 0.0000, 0.0000, 0.0000, 0.0000,\n",
            "          0.0000, 0.0000, 0.0000, 0.0000],\n",
            "         [0.0000, 0.1255, 0.7961, 0.9961, 0.5765, 0.0196, 0.0000, 0.0000,\n",
            "          0.0000, 0.0000, 0.0000, 0.0000, 0.0000, 0.1961, 0.9804, 0.9647,\n",
            "          0.4980, 0.0000, 0.0000, 0.0000, 0.0000, 0.0000, 0.0000, 0.0000,\n",
            "          0.0000, 0.0000, 0.0000, 0.0000],\n",
            "         [0.0000, 0.0157, 0.4510, 0.9961, 0.9804, 0.3922, 0.0824, 0.0118,\n",
            "          0.0000, 0.0000, 0.0000, 0.0000, 0.0314, 0.6863, 0.9961, 0.8000,\n",
            "          0.1333, 0.0000, 0.0000, 0.0000, 0.0000, 0.0000, 0.0000, 0.0000,\n",
            "          0.0000, 0.0000, 0.0000, 0.0000],\n",
            "         [0.0000, 0.0000, 0.0863, 0.7922, 0.9765, 0.9882, 0.9098, 0.6706,\n",
            "          0.2000, 0.1451, 0.1451, 0.1608, 0.5176, 0.9922, 0.9647, 0.3098,\n",
            "          0.0118, 0.0000, 0.0000, 0.0000, 0.0000, 0.0000, 0.0000, 0.0000,\n",
            "          0.0000, 0.0000, 0.0000, 0.0000],\n",
            "         [0.0000, 0.0000, 0.0039, 0.1412, 0.7647, 0.9804, 0.9961, 0.9843,\n",
            "          0.8706, 0.8510, 0.8510, 0.8510, 0.9255, 0.9961, 0.6863, 0.0314,\n",
            "          0.0000, 0.0000, 0.0000, 0.0000, 0.0000, 0.0000, 0.0000, 0.0000,\n",
            "          0.0000, 0.0000, 0.0000, 0.0000],\n",
            "         [0.0000, 0.0000, 0.0000, 0.0000, 0.0314, 0.1961, 0.6706, 0.9098,\n",
            "          0.9804, 0.9804, 0.9804, 0.9804, 0.9608, 0.6235, 0.0784, 0.0000,\n",
            "          0.0000, 0.0000, 0.0000, 0.0000, 0.0000, 0.0000, 0.0000, 0.0000,\n",
            "          0.0000, 0.0000, 0.0000, 0.0000],\n",
            "         [0.0000, 0.0000, 0.0000, 0.0000, 0.0000, 0.0000, 0.0118, 0.0824,\n",
            "          0.1451, 0.1451, 0.1451, 0.1451, 0.1255, 0.0118, 0.0000, 0.0000,\n",
            "          0.0000, 0.0000, 0.0000, 0.0000, 0.0000, 0.0000, 0.0000, 0.0000,\n",
            "          0.0000, 0.0000, 0.0000, 0.0000],\n",
            "         [0.0000, 0.0000, 0.0000, 0.0000, 0.0000, 0.0000, 0.0000, 0.0000,\n",
            "          0.0000, 0.0000, 0.0000, 0.0000, 0.0000, 0.0000, 0.0000, 0.0000,\n",
            "          0.0000, 0.0000, 0.0000, 0.0000, 0.0000, 0.0000, 0.0000, 0.0000,\n",
            "          0.0000, 0.0000, 0.0000, 0.0000],\n",
            "         [0.0000, 0.0000, 0.0000, 0.0000, 0.0000, 0.0000, 0.0000, 0.0000,\n",
            "          0.0000, 0.0000, 0.0000, 0.0000, 0.0000, 0.0000, 0.0000, 0.0000,\n",
            "          0.0000, 0.0000, 0.0000, 0.0000, 0.0000, 0.0000, 0.0000, 0.0000,\n",
            "          0.0000, 0.0000, 0.0000, 0.0000],\n",
            "         [0.0000, 0.0000, 0.0000, 0.0000, 0.0000, 0.0000, 0.0000, 0.0000,\n",
            "          0.0000, 0.0000, 0.0000, 0.0000, 0.0000, 0.0000, 0.0000, 0.0000,\n",
            "          0.0000, 0.0000, 0.0000, 0.0000, 0.0000, 0.0000, 0.0000, 0.0000,\n",
            "          0.0000, 0.0000, 0.0000, 0.0000],\n",
            "         [0.0000, 0.0000, 0.0000, 0.0000, 0.0000, 0.0000, 0.0000, 0.0000,\n",
            "          0.0000, 0.0000, 0.0000, 0.0000, 0.0000, 0.0000, 0.0000, 0.0000,\n",
            "          0.0000, 0.0000, 0.0000, 0.0000, 0.0000, 0.0000, 0.0000, 0.0000,\n",
            "          0.0000, 0.0000, 0.0000, 0.0000],\n",
            "         [0.0000, 0.0000, 0.0000, 0.0000, 0.0000, 0.0000, 0.0000, 0.0000,\n",
            "          0.0000, 0.0000, 0.0000, 0.0000, 0.0000, 0.0000, 0.0000, 0.0000,\n",
            "          0.0000, 0.0000, 0.0000, 0.0000, 0.0000, 0.0000, 0.0000, 0.0000,\n",
            "          0.0000, 0.0000, 0.0000, 0.0000],\n",
            "         [0.0000, 0.0000, 0.0000, 0.0000, 0.0000, 0.0000, 0.0000, 0.0000,\n",
            "          0.0000, 0.0000, 0.0000, 0.0000, 0.0000, 0.0000, 0.0000, 0.0000,\n",
            "          0.0000, 0.0000, 0.0000, 0.0000, 0.0000, 0.0000, 0.0000, 0.0000,\n",
            "          0.0000, 0.0000, 0.0000, 0.0000],\n",
            "         [0.0000, 0.0000, 0.0000, 0.0000, 0.0000, 0.0000, 0.0000, 0.0000,\n",
            "          0.0000, 0.0000, 0.0000, 0.0000, 0.0000, 0.0000, 0.0000, 0.0000,\n",
            "          0.0000, 0.0000, 0.0000, 0.0000, 0.0000, 0.0000, 0.0000, 0.0000,\n",
            "          0.0000, 0.0000, 0.0000, 0.0000]]]) 15\n"
          ],
          "name": "stdout"
        }
      ]
    },
    {
      "cell_type": "markdown",
      "metadata": {
        "id": "XpURZB2muwvT",
        "colab_type": "text"
      },
      "source": [
        "#### Why do we need a validation set?\n",
        "We need a validation set to check our model before finally testing it on the test dataset. It helps us to change hyperparameters accordingly to get the best results, and then pick the best version of the model before reporting the final results.\n",
        "\n",
        "#### Create validation set from the training set\n",
        "We take the 1% of the training set as our validation set in this notebook, though any small percentage can be taken. The validation set is created by randomly splitting the training dataset into two parts of suitable size. The random split plays a major role here as, if we split it in order, the training dataset might not have some classes at all, and since the model was never trained for those classes which got divided into the validation set, the model will never be able to guess them. Which means, even after training our model, our model's accuracy on the validation set will always be zero."
      ]
    },
    {
      "cell_type": "code",
      "metadata": {
        "id": "EdO1T0osupKG",
        "colab_type": "code",
        "colab": {
          "base_uri": "https://localhost:8080/",
          "height": 34
        },
        "outputId": "7c03c35c-8e5d-4965-9ad2-ffcfa08e0ddc"
      },
      "source": [
        "from torch.utils.data import random_split\n",
        "\n",
        "val_per = 0.1\n",
        "val_len = int(val_per*len(dataset))\n",
        "train_ds, val_ds = random_split(dataset, [len(dataset)-val_len, val_len])\n",
        "print(len(train_ds), len(val_ds))"
      ],
      "execution_count": 15,
      "outputs": [
        {
          "output_type": "stream",
          "text": [
            "112320 12480\n"
          ],
          "name": "stdout"
        }
      ]
    },
    {
      "cell_type": "markdown",
      "metadata": {
        "id": "k1f8C6IivG3z",
        "colab_type": "text"
      },
      "source": [
        "#### Load the training and validation data in batches\n",
        "We use the DataLoader to load the training and validation dataset with a batch size of 128 data points. We shuffle the training dataset because the most randomized inputs produce the most general model, which is favourable. However, we do not shuffle the validation dataset as, we cannot compare different evaluations if the dataset on which we are evaluating is not the same."
      ]
    },
    {
      "cell_type": "code",
      "metadata": {
        "id": "YkYLpztUu-sX",
        "colab_type": "code",
        "colab": {}
      },
      "source": [
        "from torch.utils.data import DataLoader\n",
        "\n",
        "batch_size = 128\n",
        "\n",
        "train_load = DataLoader(train_ds, batch_size, shuffle=True, num_workers=4, pin_memory=True)\n",
        "val_load = DataLoader(val_ds, batch_size, num_workers=4, pin_memory=True)"
      ],
      "execution_count": 16,
      "outputs": []
    },
    {
      "cell_type": "markdown",
      "metadata": {
        "id": "PlMXMNyuTdH-",
        "colab_type": "text"
      },
      "source": [
        "#### Using a GPU\n",
        "If a GPU(cuda) is available, get_default_device will return it, else cpu. The function to_device moves the data to the specified device in the argument. The class DeviceDataLoader has functions to load the data to the device."
      ]
    },
    {
      "cell_type": "code",
      "metadata": {
        "id": "lin4u5j0TqbS",
        "colab_type": "code",
        "colab": {}
      },
      "source": [
        "def get_default_device():\n",
        "    \"\"\"Pick GPU if available, else CPU\"\"\"\n",
        "    if torch.cuda.is_available():\n",
        "        return torch.device('cuda')\n",
        "    else:\n",
        "        return torch.device('cpu')\n",
        "    \n",
        "def to_device(data, device):\n",
        "    \"\"\"Move tensor(s) to chosen device\"\"\"\n",
        "    if isinstance(data, (list,tuple)):\n",
        "        return [to_device(x, device) for x in data]\n",
        "    return data.to(device, non_blocking=True)\n",
        "\n",
        "class DeviceDataLoader():\n",
        "    \"\"\"Wrap a dataloader to move data to a device\"\"\"\n",
        "    def __init__(self, dl, device):\n",
        "        self.dl = dl\n",
        "        self.device = device\n",
        "        \n",
        "    def __iter__(self):\n",
        "        \"\"\"Yield a batch of data after moving it to device\"\"\"\n",
        "        for b in self.dl: \n",
        "            yield to_device(b, self.device)\n",
        "\n",
        "    def __len__(self):\n",
        "        \"\"\"Number of batches\"\"\"\n",
        "        return len(self.dl)"
      ],
      "execution_count": 17,
      "outputs": []
    },
    {
      "cell_type": "code",
      "metadata": {
        "id": "RKQIPqF6U_6f",
        "colab_type": "code",
        "colab": {
          "base_uri": "https://localhost:8080/",
          "height": 34
        },
        "outputId": "247506ee-0508-4390-d46c-1c9837a613b1"
      },
      "source": [
        "device = get_default_device()\n",
        "device"
      ],
      "execution_count": 18,
      "outputs": [
        {
          "output_type": "execute_result",
          "data": {
            "text/plain": [
              "device(type='cuda')"
            ]
          },
          "metadata": {
            "tags": []
          },
          "execution_count": 18
        }
      ]
    },
    {
      "cell_type": "markdown",
      "metadata": {
        "id": "Al6E1TboVFW_",
        "colab_type": "text"
      },
      "source": [
        "The default device is cuda, since the Accelerator is set to GPU."
      ]
    },
    {
      "cell_type": "code",
      "metadata": {
        "id": "VUqcx7lURmFI",
        "colab_type": "code",
        "colab": {}
      },
      "source": [
        "train_load = DeviceDataLoader(train_load, device)\n",
        "val_load = DeviceDataLoader(val_load, device)"
      ],
      "execution_count": 19,
      "outputs": []
    },
    {
      "cell_type": "markdown",
      "metadata": {
        "id": "ooZeazNbvgm0",
        "colab_type": "text"
      },
      "source": [
        "#### Creating a convolutional neural network"
      ]
    },
    {
      "cell_type": "markdown",
      "metadata": {
        "id": "MdcDcl61Zjag",
        "colab_type": "text"
      },
      "source": [
        "Since the input and output sizes should be scalar integers for us to implement regression on them, input size can't be in the form of [28, 28], therefore, it is 28*28 = 784 (number of pixels in the image if we flatten the image). And output size is clearly 26, because the image will be classified into one of the 26 classes."
      ]
    },
    {
      "cell_type": "code",
      "metadata": {
        "id": "hmiMQaokvZH7",
        "colab_type": "code",
        "colab": {}
      },
      "source": [
        "from torch import nn\n",
        "\n",
        "input_size = 28*28\n",
        "output_size = 26"
      ],
      "execution_count": 20,
      "outputs": []
    },
    {
      "cell_type": "markdown",
      "metadata": {
        "id": "X3rfJjGua40P",
        "colab_type": "text"
      },
      "source": [
        "We extend the nn.Module class to define our EmnistModel. It is a Convolutional Neural Network. We use nn.Sequential to chain all the layers and activation functions into one network. The network has 7 layers. The first layer, increases the number of channels from 1 to 32, taking kernel_size as 3 and padding of 1. The activation function, relu, is applied. The second layer increases channels to 64, activation function is applied again. Then max-pooling is done, in which the height and width of the image is halved. Similar operations are repeated again. The resulting tensor of 256x7x7 is flattened, and it goes through nn.Linear and activation functions, till we get the required number of outputs. \n",
        "\n",
        "Then we have the training step where we use the cross_entropy loss function on the predictions and targets to calculate the loss for the training dataset. In the validation step, we also calculate the accuracy of the model along with the loss on the validation set.\n",
        "\n",
        "In the last two functions, we combine the validation losses and accuracies after each epoch, so that we can track the progress of the training."
      ]
    },
    {
      "cell_type": "code",
      "metadata": {
        "id": "7T02H5h_vpKO",
        "colab_type": "code",
        "colab": {}
      },
      "source": [
        "class EmnistModel(nn.Module):\n",
        "    def __init__(self):\n",
        "        super().__init__()\n",
        "        self.network = nn.Sequential(\n",
        "            nn.Conv2d(1, 32, kernel_size = 3, padding = 1),\n",
        "            nn.ReLU(),\n",
        "            nn.Conv2d(32, 64, kernel_size = 3, padding = 1),\n",
        "            nn.ReLU(),\n",
        "            nn.MaxPool2d(2, 2), #64*14*14\n",
        "\n",
        "            nn.Conv2d(64, 128, kernel_size = 3, padding = 1),\n",
        "            nn.ReLU(),\n",
        "            nn.Conv2d(128, 256, kernel_size = 3, padding = 1),\n",
        "            nn.ReLU(),\n",
        "            nn.MaxPool2d(2, 2), #256*7*7\n",
        "\n",
        "            nn.Flatten(),\n",
        "            nn.Linear(256*7*7, 1024),\n",
        "            nn.ReLU(),\n",
        "            nn.Linear(1024, 256),\n",
        "            nn.ReLU(),\n",
        "            nn.Linear(256, 26)\n",
        "        )\n",
        "        \n",
        "    def forward(self, xb):\n",
        "        return self.network(xb)\n",
        "    \n",
        "    def training_step(self, batch):\n",
        "        images, label = batch\n",
        "        labels = to_device(torch.tensor([x-1 for x in label]), device)\n",
        "        out = self(images)                  # Generate predictions\n",
        "        loss = F.cross_entropy(out, labels) # Calculate loss\n",
        "        return loss\n",
        "    \n",
        "    def validation_step(self, batch):\n",
        "        images, label = batch\n",
        "        labels = to_device(torch.tensor([x-1 for x in label]), device)\n",
        "        out = self(images)                    # Generate predictions\n",
        "        loss = F.cross_entropy(out, labels)   # Calculate loss\n",
        "        acc = accuracy(out, labels)           # Calculate accuracy\n",
        "        return {'val_loss': loss, 'val_acc': acc}\n",
        "        \n",
        "    def validation_epoch_end(self, outputs):\n",
        "        batch_losses = [x['val_loss'] for x in outputs]\n",
        "        epoch_loss = torch.stack(batch_losses).mean()   # Combine losses\n",
        "        batch_accs = [x['val_acc'] for x in outputs]\n",
        "        epoch_acc = torch.stack(batch_accs).mean()      # Combine accuracies\n",
        "        return {'val_loss': epoch_loss.item(), 'val_acc': epoch_acc.item()}\n",
        "    \n",
        "    def epoch_end(self, epoch, result):\n",
        "        print(\"Epoch [{}], val_loss: {:.4f}, val_acc: {:.4f}\".format(epoch, result['val_loss'], result['val_acc']))"
      ],
      "execution_count": 21,
      "outputs": []
    },
    {
      "cell_type": "code",
      "metadata": {
        "id": "ew17xcKLv1V7",
        "colab_type": "code",
        "colab": {
          "base_uri": "https://localhost:8080/",
          "height": 357
        },
        "outputId": "d827f7fd-e037-4325-f853-39b2cef18d69"
      },
      "source": [
        "model = EmnistModel()\n",
        "to_device(model, device)"
      ],
      "execution_count": 86,
      "outputs": [
        {
          "output_type": "execute_result",
          "data": {
            "text/plain": [
              "EmnistModel(\n",
              "  (network): Sequential(\n",
              "    (0): Conv2d(1, 32, kernel_size=(3, 3), stride=(1, 1), padding=(1, 1))\n",
              "    (1): ReLU()\n",
              "    (2): Conv2d(32, 64, kernel_size=(3, 3), stride=(1, 1), padding=(1, 1))\n",
              "    (3): ReLU()\n",
              "    (4): MaxPool2d(kernel_size=2, stride=2, padding=0, dilation=1, ceil_mode=False)\n",
              "    (5): Conv2d(64, 128, kernel_size=(3, 3), stride=(1, 1), padding=(1, 1))\n",
              "    (6): ReLU()\n",
              "    (7): Conv2d(128, 256, kernel_size=(3, 3), stride=(1, 1), padding=(1, 1))\n",
              "    (8): ReLU()\n",
              "    (9): MaxPool2d(kernel_size=2, stride=2, padding=0, dilation=1, ceil_mode=False)\n",
              "    (10): Flatten()\n",
              "    (11): Linear(in_features=12544, out_features=1024, bias=True)\n",
              "    (12): ReLU()\n",
              "    (13): Linear(in_features=1024, out_features=256, bias=True)\n",
              "    (14): ReLU()\n",
              "    (15): Linear(in_features=256, out_features=26, bias=True)\n",
              "  )\n",
              ")"
            ]
          },
          "metadata": {
            "tags": []
          },
          "execution_count": 86
        }
      ]
    },
    {
      "cell_type": "markdown",
      "metadata": {
        "id": "V65UGX3ewGPR",
        "colab_type": "text"
      },
      "source": [
        "#### Predictions with the initial hyperparameters"
      ]
    },
    {
      "cell_type": "code",
      "metadata": {
        "id": "UmRLTgjRv6eO",
        "colab_type": "code",
        "colab": {}
      },
      "source": [
        "import torch.nn.functional as F\n",
        "\n",
        "for images, label in train_load:\n",
        "    labels = to_device(torch.tensor([x-1 for x in label]), device)\n",
        "    outputs = to_device(model(images), device)\n",
        "    break"
      ],
      "execution_count": 87,
      "outputs": []
    },
    {
      "cell_type": "markdown",
      "metadata": {
        "id": "Swj1IxwxeROk",
        "colab_type": "text"
      },
      "source": [
        "We pass the outputs through the softmax function so that the outputs are in the range 0 to 1 and the sum of the outputs for each data point in the batch is 1, and the outputs can represent probabilities."
      ]
    },
    {
      "cell_type": "code",
      "metadata": {
        "id": "laQkhunSreFK",
        "colab_type": "code",
        "colab": {}
      },
      "source": [
        "probs = F.softmax(outputs, dim=1)"
      ],
      "execution_count": 88,
      "outputs": []
    },
    {
      "cell_type": "markdown",
      "metadata": {
        "id": "6cjpJioKglOX",
        "colab_type": "text"
      },
      "source": [
        "We can take the class with the highest probability as the predicted class. The 'max_probs' represents the highest probability and 'preds' represents it's index, which can be called the predicted label."
      ]
    },
    {
      "cell_type": "code",
      "metadata": {
        "id": "WR-E-7Cyrkkg",
        "colab_type": "code",
        "colab": {
          "base_uri": "https://localhost:8080/",
          "height": 119
        },
        "outputId": "6f6a2914-3a72-436a-d8f3-cd2ca98c09b9"
      },
      "source": [
        "max_probs, preds = torch.max(probs, dim=1)\n",
        "preds"
      ],
      "execution_count": 89,
      "outputs": [
        {
          "output_type": "execute_result",
          "data": {
            "text/plain": [
              "tensor([1, 1, 1, 1, 1, 1, 1, 1, 1, 1, 1, 1, 1, 1, 1, 1, 1, 1, 1, 1, 1, 1, 1, 1,\n",
              "        1, 1, 1, 1, 1, 1, 1, 1, 1, 1, 1, 1, 1, 1, 1, 1, 1, 1, 1, 1, 1, 1, 1, 1,\n",
              "        1, 1, 1, 1, 1, 1, 1, 1, 1, 1, 1, 1, 1, 1, 1, 1, 1, 1, 1, 1, 1, 1, 1, 1,\n",
              "        1, 1, 1, 1, 1, 1, 1, 1, 1, 1, 1, 1, 1, 1, 1, 1, 1, 1, 1, 1, 1, 1, 1, 1,\n",
              "        1, 1, 1, 1, 1, 1, 1, 1, 1, 1, 1, 1, 1, 1, 1, 1, 1, 1, 1, 1, 1, 1, 1, 1,\n",
              "        1, 1, 1, 1, 1, 1, 1, 1], device='cuda:0')"
            ]
          },
          "metadata": {
            "tags": []
          },
          "execution_count": 89
        }
      ]
    },
    {
      "cell_type": "markdown",
      "metadata": {
        "id": "2H4HfQGbhah2",
        "colab_type": "text"
      },
      "source": [
        "These are the labels predicted with the initial set of weights and biases. Since it's totally random, they are very likely to be wrong."
      ]
    },
    {
      "cell_type": "markdown",
      "metadata": {
        "id": "4sBskJLVxQ5I",
        "colab_type": "text"
      },
      "source": [
        "#### Defining accuracy of the model"
      ]
    },
    {
      "cell_type": "markdown",
      "metadata": {
        "id": "nafHzdeuiDVH",
        "colab_type": "text"
      },
      "source": [
        "We calculate the accuracy by checking the number of right predictions."
      ]
    },
    {
      "cell_type": "code",
      "metadata": {
        "id": "K-deem1Vw_HZ",
        "colab_type": "code",
        "colab": {}
      },
      "source": [
        "def accuracy(outputs, labels):\n",
        "    _, preds = torch.max(outputs, dim=1)\n",
        "    return torch.tensor(torch.sum(preds == labels).item() / len(preds))"
      ],
      "execution_count": 90,
      "outputs": []
    },
    {
      "cell_type": "code",
      "metadata": {
        "id": "5pIwkgn4xaB-",
        "colab_type": "code",
        "colab": {
          "base_uri": "https://localhost:8080/",
          "height": 34
        },
        "outputId": "c0d3e31e-2e95-4219-914d-3d206e4afca6"
      },
      "source": [
        "accuracy(outputs, labels)"
      ],
      "execution_count": 91,
      "outputs": [
        {
          "output_type": "execute_result",
          "data": {
            "text/plain": [
              "tensor(0.0469)"
            ]
          },
          "metadata": {
            "tags": []
          },
          "execution_count": 91
        }
      ]
    },
    {
      "cell_type": "markdown",
      "metadata": {
        "id": "0clWKEIViNj_",
        "colab_type": "text"
      },
      "source": [
        "The accuracy is quite low, as expected."
      ]
    },
    {
      "cell_type": "markdown",
      "metadata": {
        "id": "r0O0-MKAxyY3",
        "colab_type": "text"
      },
      "source": [
        "#### Defining the loss function"
      ]
    },
    {
      "cell_type": "code",
      "metadata": {
        "id": "HbG1Mug7xpma",
        "colab_type": "code",
        "colab": {
          "base_uri": "https://localhost:8080/",
          "height": 34
        },
        "outputId": "fecd7693-903c-42d7-e069-41bfc179f5bb"
      },
      "source": [
        "loss_fn = F.cross_entropy\n",
        "\n",
        "loss = loss_fn(outputs, labels)\n",
        "print(loss)"
      ],
      "execution_count": 92,
      "outputs": [
        {
          "output_type": "stream",
          "text": [
            "tensor(3.2587, device='cuda:0', grad_fn=<NllLossBackward>)\n"
          ],
          "name": "stdout"
        }
      ]
    },
    {
      "cell_type": "markdown",
      "metadata": {
        "id": "28JPo7I2x8Sd",
        "colab_type": "text"
      },
      "source": [
        "#### Training the model"
      ]
    },
    {
      "cell_type": "markdown",
      "metadata": {
        "id": "KPOApHh1i2y2",
        "colab_type": "text"
      },
      "source": [
        "We evaluate the model on the basis of the loss and accuracy.\n",
        "\n",
        "We fit the model to the training and validation datasets. The optimizer we use is SGD to change the weights and biases. For each epoch, in each batch, the loss is calculated on the training data and the model parameters are updated using the optimizer, which is then initialized again, so that the gradients do not keep adding up after each epoch. We evaluate the model with the updated model parameters on the validation dataset, and add each result to history. Number of epochs and learning rate are the hyperparameters whose best value, we have to decide in order to get the best version of the model. Epochs are the iterations, and learning rate is the rate by which the model parameters are changed during gradient descent."
      ]
    },
    {
      "cell_type": "code",
      "metadata": {
        "id": "nbg5yRgvx2GC",
        "colab_type": "code",
        "colab": {}
      },
      "source": [
        "@torch.no_grad()\n",
        "def evaluate(model, val_loader):\n",
        "    model.eval()\n",
        "    outputs = [model.validation_step(batch) for batch in val_loader]\n",
        "    return model.validation_epoch_end(outputs)\n",
        "\n",
        "def fit(epochs, lr, model, train_loader, val_loader, opt_func=torch.optim.SGD):\n",
        "    torch.cuda.empty_cache()\n",
        "    history = []\n",
        "    optimizer = opt_func(model.parameters(), lr)\n",
        "    train_losses = []\n",
        "    for epoch in range(epochs):\n",
        "        # Training Phase \n",
        "        model.train()\n",
        "        for batch in train_loader:\n",
        "            loss = model.training_step(batch)\n",
        "            train_losses.append(loss)\n",
        "            loss.backward()\n",
        "            optimizer.step()\n",
        "            optimizer.zero_grad()\n",
        "        # Validation phase\n",
        "        result = evaluate(model, val_loader)\n",
        "        result['train_loss'] = torch.stack(train_losses).mean().item()\n",
        "        model.epoch_end(epoch, result)\n",
        "        history.append(result)\n",
        "    return history"
      ],
      "execution_count": 93,
      "outputs": []
    },
    {
      "cell_type": "code",
      "metadata": {
        "id": "xqXSCAbbyD3H",
        "colab_type": "code",
        "colab": {
          "base_uri": "https://localhost:8080/",
          "height": 34
        },
        "outputId": "cca99da2-0409-4223-b1d8-b82fc1e36513"
      },
      "source": [
        "result0 = evaluate(model, val_load)\n",
        "result0"
      ],
      "execution_count": 94,
      "outputs": [
        {
          "output_type": "execute_result",
          "data": {
            "text/plain": [
              "{'val_acc': 0.04113520309329033, 'val_loss': 3.2586867809295654}"
            ]
          },
          "metadata": {
            "tags": []
          },
          "execution_count": 94
        }
      ]
    },
    {
      "cell_type": "code",
      "metadata": {
        "id": "GCBgFBAIyjU9",
        "colab_type": "code",
        "colab": {
          "base_uri": "https://localhost:8080/",
          "height": 102
        },
        "outputId": "8ba1b2f9-8283-4a19-9c9f-93ba96e1a979"
      },
      "source": [
        "history1 = fit(5, 0.1, model, train_load, val_load)"
      ],
      "execution_count": 95,
      "outputs": [
        {
          "output_type": "stream",
          "text": [
            "Epoch [0], val_loss: 0.2963, val_acc: 0.9026\n",
            "Epoch [1], val_loss: 0.2207, val_acc: 0.9278\n",
            "Epoch [2], val_loss: 0.2315, val_acc: 0.9197\n",
            "Epoch [3], val_loss: 0.2372, val_acc: 0.9184\n",
            "Epoch [4], val_loss: 0.1814, val_acc: 0.9397\n"
          ],
          "name": "stdout"
        }
      ]
    },
    {
      "cell_type": "code",
      "metadata": {
        "id": "9hF7sSNvyvEi",
        "colab_type": "code",
        "colab": {
          "base_uri": "https://localhost:8080/",
          "height": 102
        },
        "outputId": "add698c4-85a0-4fdd-c856-08e112296d71"
      },
      "source": [
        "history2 = fit(5, 0.01, model, train_load, val_load)"
      ],
      "execution_count": 96,
      "outputs": [
        {
          "output_type": "stream",
          "text": [
            "Epoch [0], val_loss: 0.1644, val_acc: 0.9463\n",
            "Epoch [1], val_loss: 0.1661, val_acc: 0.9465\n",
            "Epoch [2], val_loss: 0.1683, val_acc: 0.9472\n",
            "Epoch [3], val_loss: 0.1718, val_acc: 0.9467\n",
            "Epoch [4], val_loss: 0.1725, val_acc: 0.9468\n"
          ],
          "name": "stdout"
        }
      ]
    },
    {
      "cell_type": "code",
      "metadata": {
        "id": "X9gSKp-vze2-",
        "colab_type": "code",
        "colab": {
          "base_uri": "https://localhost:8080/",
          "height": 102
        },
        "outputId": "220e4b3a-18c9-41e9-ef25-67eba47de1df"
      },
      "source": [
        "history3 = fit(5, 0.001, model, train_load, val_load)"
      ],
      "execution_count": 97,
      "outputs": [
        {
          "output_type": "stream",
          "text": [
            "Epoch [0], val_loss: 0.1735, val_acc: 0.9466\n",
            "Epoch [1], val_loss: 0.1743, val_acc: 0.9467\n",
            "Epoch [2], val_loss: 0.1751, val_acc: 0.9463\n",
            "Epoch [3], val_loss: 0.1759, val_acc: 0.9465\n",
            "Epoch [4], val_loss: 0.1762, val_acc: 0.9470\n"
          ],
          "name": "stdout"
        }
      ]
    },
    {
      "cell_type": "code",
      "metadata": {
        "id": "FybgSbkiqORr",
        "colab_type": "code",
        "colab": {
          "base_uri": "https://localhost:8080/",
          "height": 295
        },
        "outputId": "8a477d97-1a96-48d6-999d-35ec098b7b70"
      },
      "source": [
        "history = [result0] + history1 + history2 + history3\n",
        "accuracies = [result['val_acc'] for result in history]\n",
        "plt.plot(accuracies, '-x')\n",
        "plt.xlabel('epoch')\n",
        "plt.ylabel('accuracy')\n",
        "plt.title('Accuracy vs. No. of epochs');"
      ],
      "execution_count": 98,
      "outputs": [
        {
          "output_type": "display_data",
          "data": {
            "image/png": "[encoded data removed]",
            "text/plain": [
              "<Figure size 432x288 with 1 Axes>"
            ]
          },
          "metadata": {
            "tags": [],
            "needs_background": "light"
          }
        }
      ]
    },
    {
      "cell_type": "markdown",
      "metadata": {
        "id": "8kMcRJaQqX8B",
        "colab_type": "text"
      },
      "source": [
        "As we can see, the accuracy becomes constant towards the end. It means that we have reached the linear regression limit, and to get better accuracies, we will have to use to more advanced models."
      ]
    },
    {
      "cell_type": "markdown",
      "metadata": {
        "id": "hxJBzRJNZ8Sa",
        "colab_type": "text"
      },
      "source": [
        "Training loss and validation loss is plotted to check if there is a case of overfitting."
      ]
    },
    {
      "cell_type": "code",
      "metadata": {
        "id": "ylxeO5lIsLJD",
        "colab_type": "code",
        "colab": {}
      },
      "source": [
        "def plot_losses(history):\n",
        "    train_losses = [x.get('train_loss') for x in history]\n",
        "    val_losses = [x['val_loss'] for x in history]\n",
        "    plt.plot(train_losses, '-bx')\n",
        "    plt.plot(val_losses, '-rx')\n",
        "    plt.xlabel('epoch')\n",
        "    plt.ylabel('loss')\n",
        "    plt.legend(['Training', 'Validation'])\n",
        "    plt.title('Loss vs. No. of epochs');"
      ],
      "execution_count": 99,
      "outputs": []
    },
    {
      "cell_type": "code",
      "metadata": {
        "id": "rkJsPsKQsTEm",
        "colab_type": "code",
        "colab": {
          "base_uri": "https://localhost:8080/",
          "height": 295
        },
        "outputId": "e8b3f7d0-f2e0-4640-8f73-e910982ad7f5"
      },
      "source": [
        "plot_losses(history)"
      ],
      "execution_count": 100,
      "outputs": [
        {
          "output_type": "display_data",
          "data": {
            "image/png": "[encoded data removed]",
            "text/plain": [
              "<Figure size 432x288 with 1 Axes>"
            ]
          },
          "metadata": {
            "tags": [],
            "needs_background": "light"
          }
        }
      ]
    },
    {
      "cell_type": "markdown",
      "metadata": {
        "id": "wSdP1JinnNBW",
        "colab_type": "text"
      },
      "source": [
        "Our model is not overfitting."
      ]
    },
    {
      "cell_type": "markdown",
      "metadata": {
        "id": "U4MOtieL0iOM",
        "colab_type": "text"
      },
      "source": [
        "#### Downloading and Transforming the test dataset\n",
        "The test dataset is downloaded with train permissions as False, since we are not going to use it for training, and converted to tensors."
      ]
    },
    {
      "cell_type": "code",
      "metadata": {
        "id": "PMs3LTfq0QsH",
        "colab_type": "code",
        "colab": {}
      },
      "source": [
        "test_dataset = EMNIST(root='data/', \n",
        "                     train=False,\n",
        "                     transform=transforms.ToTensor(), split='letters')"
      ],
      "execution_count": 101,
      "outputs": []
    },
    {
      "cell_type": "code",
      "metadata": {
        "id": "fTwQURA85-Z1",
        "colab_type": "code",
        "colab": {
          "base_uri": "https://localhost:8080/",
          "height": 34
        },
        "outputId": "5cea6b0b-da00-4a99-977b-8580ba723be9"
      },
      "source": [
        "len(test_dataset)"
      ],
      "execution_count": 102,
      "outputs": [
        {
          "output_type": "execute_result",
          "data": {
            "text/plain": [
              "20800"
            ]
          },
          "metadata": {
            "tags": []
          },
          "execution_count": 102
        }
      ]
    },
    {
      "cell_type": "code",
      "metadata": {
        "id": "x_AT6VkT0tY1",
        "colab_type": "code",
        "colab": {
          "base_uri": "https://localhost:8080/",
          "height": 299
        },
        "outputId": "adfe194c-0b8c-4280-ea60-6d59c657e185"
      },
      "source": [
        "img, label = test_dataset[0]\n",
        "plt.imshow(img[0], cmap='gray')\n",
        "print('Shape:', img.shape)\n",
        "print('Label:', label-1)"
      ],
      "execution_count": 104,
      "outputs": [
        {
          "output_type": "stream",
          "text": [
            "Shape: torch.Size([1, 28, 28])\n",
            "Label: 0\n"
          ],
          "name": "stdout"
        },
        {
          "output_type": "display_data",
          "data": {
            "image/png": "[encoded data removed]",
            "text/plain": [
              "<Figure size 432x288 with 1 Axes>"
            ]
          },
          "metadata": {
            "tags": [],
            "needs_background": "light"
          }
        }
      ]
    },
    {
      "cell_type": "code",
      "metadata": {
        "id": "2wpSOeX-0y_y",
        "colab_type": "code",
        "colab": {
          "base_uri": "https://localhost:8080/",
          "height": 299
        },
        "outputId": "87cd64d0-f646-443a-e19f-17a7999339b1"
      },
      "source": [
        "img, label = test_dataset[1]\n",
        "plt.imshow(img[0], cmap='gray')\n",
        "print('Shape:', img.shape)\n",
        "print('Label:', label-1)"
      ],
      "execution_count": 105,
      "outputs": [
        {
          "output_type": "stream",
          "text": [
            "Shape: torch.Size([1, 28, 28])\n",
            "Label: 0\n"
          ],
          "name": "stdout"
        },
        {
          "output_type": "display_data",
          "data": {
            "image/png": "[encoded data removed]",
            "text/plain": [
              "<Figure size 432x288 with 1 Axes>"
            ]
          },
          "metadata": {
            "tags": [],
            "needs_background": "light"
          }
        }
      ]
    },
    {
      "cell_type": "code",
      "metadata": {
        "id": "vd2KPSmf2C2E",
        "colab_type": "code",
        "colab": {
          "base_uri": "https://localhost:8080/",
          "height": 299
        },
        "outputId": "128ec10b-2e6f-467d-bb6f-794166046b7d"
      },
      "source": [
        "img, label = test_dataset[3000]\n",
        "plt.imshow(img[0], cmap='gray')\n",
        "print('Shape:', img.shape)\n",
        "print('Label:', label-1)"
      ],
      "execution_count": 106,
      "outputs": [
        {
          "output_type": "stream",
          "text": [
            "Shape: torch.Size([1, 28, 28])\n",
            "Label: 3\n"
          ],
          "name": "stdout"
        },
        {
          "output_type": "display_data",
          "data": {
            "image/png": "[encoded data removed]",
            "text/plain": [
              "<Figure size 432x288 with 1 Axes>"
            ]
          },
          "metadata": {
            "tags": [],
            "needs_background": "light"
          }
        }
      ]
    },
    {
      "cell_type": "markdown",
      "metadata": {
        "id": "y-_KQ5UTmQhF",
        "colab_type": "text"
      },
      "source": [
        "We are adding an extra dimension, with the value 1, which the model considers as a batch with 1 image."
      ]
    },
    {
      "cell_type": "code",
      "metadata": {
        "id": "146fZB2t2Gp1",
        "colab_type": "code",
        "colab": {
          "base_uri": "https://localhost:8080/",
          "height": 34
        },
        "outputId": "2b4e21da-2671-443c-cddd-8e9d2799b8ed"
      },
      "source": [
        "img.unsqueeze(0).shape"
      ],
      "execution_count": 107,
      "outputs": [
        {
          "output_type": "execute_result",
          "data": {
            "text/plain": [
              "torch.Size([1, 1, 28, 28])"
            ]
          },
          "metadata": {
            "tags": []
          },
          "execution_count": 107
        }
      ]
    },
    {
      "cell_type": "markdown",
      "metadata": {
        "id": "tN4h4Au02RK2",
        "colab_type": "text"
      },
      "source": [
        "#### Test the model on the test dataset\n",
        "We predict the output using the method described above, by considering the outputs as probabilities and the class with the highest probability as the prediction."
      ]
    },
    {
      "cell_type": "code",
      "metadata": {
        "id": "xPmc0Q9z2QPj",
        "colab_type": "code",
        "colab": {}
      },
      "source": [
        "def predict_image(img, model):\n",
        "    xb = to_device(img.unsqueeze(0), device)\n",
        "    yb = model(xb)\n",
        "    _, preds  = torch.max(yb, dim=1)\n",
        "    return preds[0].item()"
      ],
      "execution_count": 108,
      "outputs": []
    },
    {
      "cell_type": "code",
      "metadata": {
        "id": "NGqWA26g2cqX",
        "colab_type": "code",
        "colab": {
          "base_uri": "https://localhost:8080/",
          "height": 282
        },
        "outputId": "dd076aa5-cd51-41f7-fda9-8da89decf08c"
      },
      "source": [
        "img, label = test_dataset[0]\n",
        "plt.imshow(img[0], cmap='gray')\n",
        "print('Label:', label, ', Predicted Label:', predict_image(img, model) + 1, ', Predicted Alphabet:', classes[predict_image(img, model)])"
      ],
      "execution_count": 109,
      "outputs": [
        {
          "output_type": "stream",
          "text": [
            "Label: 1 , Predicted Label: 1 , Predicted Alphabet: a\n"
          ],
          "name": "stdout"
        },
        {
          "output_type": "display_data",
          "data": {
            "image/png": "[encoded data removed]",
            "text/plain": [
              "<Figure size 432x288 with 1 Axes>"
            ]
          },
          "metadata": {
            "tags": [],
            "needs_background": "light"
          }
        }
      ]
    },
    {
      "cell_type": "code",
      "metadata": {
        "id": "Wl5FutNG2hQ1",
        "colab_type": "code",
        "colab": {
          "base_uri": "https://localhost:8080/",
          "height": 282
        },
        "outputId": "5f33c449-eb34-435c-e77d-de85e2e5a595"
      },
      "source": [
        "img, label = test_dataset[30]\n",
        "plt.imshow(img[0], cmap='gray')\n",
        "print('Label:', label, ', Predicted Label:', predict_image(img, model) + 1, ', Predicted Alphabet:', classes[predict_image(img, model)])"
      ],
      "execution_count": 110,
      "outputs": [
        {
          "output_type": "stream",
          "text": [
            "Label: 1 , Predicted Label: 1 , Predicted Alphabet: a\n"
          ],
          "name": "stdout"
        },
        {
          "output_type": "display_data",
          "data": {
            "image/png": "[encoded data removed]",
            "text/plain": [
              "<Figure size 432x288 with 1 Axes>"
            ]
          },
          "metadata": {
            "tags": [],
            "needs_background": "light"
          }
        }
      ]
    },
    {
      "cell_type": "code",
      "metadata": {
        "id": "GLF7bLD-2lKR",
        "colab_type": "code",
        "colab": {
          "base_uri": "https://localhost:8080/",
          "height": 282
        },
        "outputId": "c39a48af-6420-4c95-bd90-d2dadd8eb759"
      },
      "source": [
        "img, label = test_dataset[3000]\n",
        "plt.imshow(img[0], cmap='gray')\n",
        "print('Label:', label, ', Predicted Label:', predict_image(img, model) + 1, ', Predicted Alphabet:', classes[predict_image(img, model)])"
      ],
      "execution_count": 119,
      "outputs": [
        {
          "output_type": "stream",
          "text": [
            "Label: 4 , Predicted Label: 4 , Predicted Alphabet: d\n"
          ],
          "name": "stdout"
        },
        {
          "output_type": "display_data",
          "data": {
            "image/png": "[encoded data removed]",
            "text/plain": [
              "<Figure size 432x288 with 1 Axes>"
            ]
          },
          "metadata": {
            "tags": [],
            "needs_background": "light"
          }
        }
      ]
    },
    {
      "cell_type": "markdown",
      "metadata": {
        "id": "lPaEpjRE23bf",
        "colab_type": "text"
      },
      "source": [
        "#### Evaluate the model on the test dataset"
      ]
    },
    {
      "cell_type": "code",
      "metadata": {
        "id": "4VzlRk252uM9",
        "colab_type": "code",
        "colab": {
          "base_uri": "https://localhost:8080/",
          "height": 34
        },
        "outputId": "74ae902c-27be-49f3-ab31-2de471e9aaf7"
      },
      "source": [
        "test_loader = DeviceDataLoader(DataLoader(test_dataset, batch_size=128), device)\n",
        "result = evaluate(model, test_loader)\n",
        "result"
      ],
      "execution_count": 120,
      "outputs": [
        {
          "output_type": "execute_result",
          "data": {
            "text/plain": [
              "{'val_acc': 0.9428201913833618, 'val_loss': 0.18934908509254456}"
            ]
          },
          "metadata": {
            "tags": []
          },
          "execution_count": 120
        }
      ]
    },
    {
      "cell_type": "markdown",
      "metadata": {
        "id": "LYiumYJs3NAk",
        "colab_type": "text"
      },
      "source": [
        "#### The final accuracy of the model on the test dataset is 94.28% using a convolutional neural network."
      ]
    }
  ]
}