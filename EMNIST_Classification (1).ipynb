{
  "nbformat": 4,
  "nbformat_minor": 0,
  "metadata": {
    "colab": {
      "name": "EMNIST-Classification.ipynb",
      "provenance": [],
      "collapsed_sections": [
        "k1f8C6IivG3z",
        "ooZeazNbvgm0",
        "V65UGX3ewGPR",
        "4sBskJLVxQ5I",
        "r0O0-MKAxyY3",
        "28JPo7I2x8Sd",
        "lPaEpjRE23bf",
        "LYiumYJs3NAk"
      ]
    },
    "kernelspec": {
      "name": "python3",
      "display_name": "Python 3"
    },
    "widgets": {
      "application/vnd.jupyter.widget-state+json": {
        "e99edfad82e749f2a280cd3fa90d4061": {
          "model_module": "@jupyter-widgets/controls",
          "model_name": "HBoxModel",
          "state": {
            "_view_name": "HBoxView",
            "_dom_classes": [],
            "_model_name": "HBoxModel",
            "_view_module": "@jupyter-widgets/controls",
            "_model_module_version": "1.5.0",
            "_view_count": null,
            "_view_module_version": "1.5.0",
            "box_style": "",
            "layout": "IPY_MODEL_63f41bb52b6b469fa378b9401c73ecee",
            "_model_module": "@jupyter-widgets/controls",
            "children": [
              "IPY_MODEL_01e00f6fba1745c9ac1ddf19f8665bcc",
              "IPY_MODEL_f93ffbba79b94cb79b25356d4a79c91c"
            ]
          }
        },
        "63f41bb52b6b469fa378b9401c73ecee": {
          "model_module": "@jupyter-widgets/base",
          "model_name": "LayoutModel",
          "state": {
            "_view_name": "LayoutView",
            "grid_template_rows": null,
            "right": null,
            "justify_content": null,
            "_view_module": "@jupyter-widgets/base",
            "overflow": null,
            "_model_module_version": "1.2.0",
            "_view_count": null,
            "flex_flow": null,
            "width": null,
            "min_width": null,
            "border": null,
            "align_items": null,
            "bottom": null,
            "_model_module": "@jupyter-widgets/base",
            "top": null,
            "grid_column": null,
            "overflow_y": null,
            "overflow_x": null,
            "grid_auto_flow": null,
            "grid_area": null,
            "grid_template_columns": null,
            "flex": null,
            "_model_name": "LayoutModel",
            "justify_items": null,
            "grid_row": null,
            "max_height": null,
            "align_content": null,
            "visibility": null,
            "align_self": null,
            "height": null,
            "min_height": null,
            "padding": null,
            "grid_auto_rows": null,
            "grid_gap": null,
            "max_width": null,
            "order": null,
            "_view_module_version": "1.2.0",
            "grid_template_areas": null,
            "object_position": null,
            "object_fit": null,
            "grid_auto_columns": null,
            "margin": null,
            "display": null,
            "left": null
          }
        },
        "01e00f6fba1745c9ac1ddf19f8665bcc": {
          "model_module": "@jupyter-widgets/controls",
          "model_name": "FloatProgressModel",
          "state": {
            "_view_name": "ProgressView",
            "style": "IPY_MODEL_d4bb199c98a44d9eacaa5e90ea674e91",
            "_dom_classes": [],
            "description": "",
            "_model_name": "FloatProgressModel",
            "bar_style": "info",
            "max": 1,
            "_view_module": "@jupyter-widgets/controls",
            "_model_module_version": "1.5.0",
            "value": 1,
            "_view_count": null,
            "_view_module_version": "1.5.0",
            "orientation": "horizontal",
            "min": 0,
            "description_tooltip": null,
            "_model_module": "@jupyter-widgets/controls",
            "layout": "IPY_MODEL_94f8e3853e7c4d1ca5fad30478b6c5e6"
          }
        },
        "f93ffbba79b94cb79b25356d4a79c91c": {
          "model_module": "@jupyter-widgets/controls",
          "model_name": "HTMLModel",
          "state": {
            "_view_name": "HTMLView",
            "style": "IPY_MODEL_d7ac30b34eec4200bb9f7ae332d59b5a",
            "_dom_classes": [],
            "description": "",
            "_model_name": "HTMLModel",
            "placeholder": "​",
            "_view_module": "@jupyter-widgets/controls",
            "_model_module_version": "1.5.0",
            "value": " 561758208/? [00:29&lt;00:00, 35084451.72it/s]",
            "_view_count": null,
            "_view_module_version": "1.5.0",
            "description_tooltip": null,
            "_model_module": "@jupyter-widgets/controls",
            "layout": "IPY_MODEL_82137da38f15496295a4ae724c34e820"
          }
        },
        "d4bb199c98a44d9eacaa5e90ea674e91": {
          "model_module": "@jupyter-widgets/controls",
          "model_name": "ProgressStyleModel",
          "state": {
            "_view_name": "StyleView",
            "_model_name": "ProgressStyleModel",
            "description_width": "initial",
            "_view_module": "@jupyter-widgets/base",
            "_model_module_version": "1.5.0",
            "_view_count": null,
            "_view_module_version": "1.2.0",
            "bar_color": null,
            "_model_module": "@jupyter-widgets/controls"
          }
        },
        "94f8e3853e7c4d1ca5fad30478b6c5e6": {
          "model_module": "@jupyter-widgets/base",
          "model_name": "LayoutModel",
          "state": {
            "_view_name": "LayoutView",
            "grid_template_rows": null,
            "right": null,
            "justify_content": null,
            "_view_module": "@jupyter-widgets/base",
            "overflow": null,
            "_model_module_version": "1.2.0",
            "_view_count": null,
            "flex_flow": null,
            "width": null,
            "min_width": null,
            "border": null,
            "align_items": null,
            "bottom": null,
            "_model_module": "@jupyter-widgets/base",
            "top": null,
            "grid_column": null,
            "overflow_y": null,
            "overflow_x": null,
            "grid_auto_flow": null,
            "grid_area": null,
            "grid_template_columns": null,
            "flex": null,
            "_model_name": "LayoutModel",
            "justify_items": null,
            "grid_row": null,
            "max_height": null,
            "align_content": null,
            "visibility": null,
            "align_self": null,
            "height": null,
            "min_height": null,
            "padding": null,
            "grid_auto_rows": null,
            "grid_gap": null,
            "max_width": null,
            "order": null,
            "_view_module_version": "1.2.0",
            "grid_template_areas": null,
            "object_position": null,
            "object_fit": null,
            "grid_auto_columns": null,
            "margin": null,
            "display": null,
            "left": null
          }
        },
        "d7ac30b34eec4200bb9f7ae332d59b5a": {
          "model_module": "@jupyter-widgets/controls",
          "model_name": "DescriptionStyleModel",
          "state": {
            "_view_name": "StyleView",
            "_model_name": "DescriptionStyleModel",
            "description_width": "",
            "_view_module": "@jupyter-widgets/base",
            "_model_module_version": "1.5.0",
            "_view_count": null,
            "_view_module_version": "1.2.0",
            "_model_module": "@jupyter-widgets/controls"
          }
        },
        "82137da38f15496295a4ae724c34e820": {
          "model_module": "@jupyter-widgets/base",
          "model_name": "LayoutModel",
          "state": {
            "_view_name": "LayoutView",
            "grid_template_rows": null,
            "right": null,
            "justify_content": null,
            "_view_module": "@jupyter-widgets/base",
            "overflow": null,
            "_model_module_version": "1.2.0",
            "_view_count": null,
            "flex_flow": null,
            "width": null,
            "min_width": null,
            "border": null,
            "align_items": null,
            "bottom": null,
            "_model_module": "@jupyter-widgets/base",
            "top": null,
            "grid_column": null,
            "overflow_y": null,
            "overflow_x": null,
            "grid_auto_flow": null,
            "grid_area": null,
            "grid_template_columns": null,
            "flex": null,
            "_model_name": "LayoutModel",
            "justify_items": null,
            "grid_row": null,
            "max_height": null,
            "align_content": null,
            "visibility": null,
            "align_self": null,
            "height": null,
            "min_height": null,
            "padding": null,
            "grid_auto_rows": null,
            "grid_gap": null,
            "max_width": null,
            "order": null,
            "_view_module_version": "1.2.0",
            "grid_template_areas": null,
            "object_position": null,
            "object_fit": null,
            "grid_auto_columns": null,
            "margin": null,
            "display": null,
            "left": null
          }
        }
      }
    }
  },
  "cells": [
    {
      "cell_type": "markdown",
      "metadata": {
        "id": "qKJ49Pdgptnm",
        "colab_type": "text"
      },
      "source": [
        "# Using Feed-forwarding Neural Network to classify the EMNIST Dataset\n",
        "\n",
        "PyTorch provides a wide range of built-in datasets to work on like, MNIST, EMNIST, Fashion MNIST, CIFAR10 etc. In this notebook, we are using the EMNIST dataset which is split into 6 sub-datasets. We will be using the 'letters' sub-dataset, which consists of 26 balanced classes, each having 28x28 pixel images of hand-written letters from the english alphabet. The objective of the model is Hand-written Alphabet Recognition.\n",
        "\n",
        "We'll be training the model on 124800 images from the training dataset, out of which 1% of the images will be used for the validation set, and the model will be tested on 20800 images from the test dataset.\n",
        "\n",
        "In the model, we'll create hidden layers, that pass 'feed' from the previous layer to the next layer, hence, feed-forwarding."
      ]
    },
    {
      "cell_type": "markdown",
      "metadata": {
        "id": "XNoQa1JOrAh0",
        "colab_type": "text"
      },
      "source": [
        "#### Importing libraries and the EMNIST dataset "
      ]
    },
    {
      "cell_type": "code",
      "metadata": {
        "id": "7X7zr1jQornk",
        "colab_type": "code",
        "colab": {}
      },
      "source": [
        "import torch\n",
        "import torchvision\n",
        "from torchvision.datasets import EMNIST"
      ],
      "execution_count": 2,
      "outputs": []
    },
    {
      "cell_type": "markdown",
      "metadata": {
        "id": "cd2A99Nfrlxt",
        "colab_type": "text"
      },
      "source": [
        "#### Downloading the EMNIST dataset to the notebook\n",
        "The root directory where we want the dataset to be downloaded, the sub-dataset and the download permissions are to be passed as arguments to get the in-built dataset to work on."
      ]
    },
    {
      "cell_type": "code",
      "metadata": {
        "id": "FyRiDRYNpDG2",
        "colab_type": "code",
        "colab": {
          "base_uri": "https://localhost:8080/",
          "height": 256,
          "referenced_widgets": [
            "e99edfad82e749f2a280cd3fa90d4061",
            "63f41bb52b6b469fa378b9401c73ecee",
            "01e00f6fba1745c9ac1ddf19f8665bcc",
            "f93ffbba79b94cb79b25356d4a79c91c",
            "d4bb199c98a44d9eacaa5e90ea674e91",
            "94f8e3853e7c4d1ca5fad30478b6c5e6",
            "d7ac30b34eec4200bb9f7ae332d59b5a",
            "82137da38f15496295a4ae724c34e820"
          ]
        },
        "outputId": "720f9e22-a823-47e6-bc8c-702419f8f4c9"
      },
      "source": [
        "dataset = EMNIST(root='data/', split='letters', download=True)"
      ],
      "execution_count": 3,
      "outputs": [
        {
          "output_type": "stream",
          "text": [
            "Downloading and extracting zip archive\n",
            "Downloading http://www.itl.nist.gov/iaui/vip/cs_links/EMNIST/gzip.zip to data/EMNIST/raw/emnist.zip\n"
          ],
          "name": "stdout"
        },
        {
          "output_type": "display_data",
          "data": {
            "application/vnd.jupyter.widget-view+json": {
              "model_id": "e99edfad82e749f2a280cd3fa90d4061",
              "version_minor": 0,
              "version_major": 2
            },
            "text/plain": [
              "HBox(children=(FloatProgress(value=1.0, bar_style='info', max=1.0), HTML(value='')))"
            ]
          },
          "metadata": {
            "tags": []
          }
        },
        {
          "output_type": "stream",
          "text": [
            "Extracting data/EMNIST/raw/emnist.zip to data/EMNIST/raw\n",
            "Processing byclass\n"
          ],
          "name": "stdout"
        },
        {
          "output_type": "stream",
          "text": [
            "/pytorch/torch/csrc/utils/tensor_numpy.cpp:141: UserWarning: The given NumPy array is not writeable, and PyTorch does not support non-writeable tensors. This means you can write to the underlying (supposedly non-writeable) NumPy array using the tensor. You may want to copy the array to protect its data or make it writeable before converting it to a tensor. This type of warning will be suppressed for the rest of this program.\n"
          ],
          "name": "stderr"
        },
        {
          "output_type": "stream",
          "text": [
            "Processing bymerge\n",
            "Processing balanced\n",
            "Processing letters\n",
            "Processing digits\n",
            "Processing mnist\n",
            "Done!\n"
          ],
          "name": "stdout"
        }
      ]
    },
    {
      "cell_type": "markdown",
      "metadata": {
        "id": "O2jVHzjatgKw",
        "colab_type": "text"
      },
      "source": [
        "#### Exploring the Dataset\n",
        "Now, to get familiar with the dataset, we'll just look at the length of the dataset, some of the nodes of the dataset and print their image and label for some visual familiarity, and see the classes the dataset is divided into."
      ]
    },
    {
      "cell_type": "code",
      "metadata": {
        "id": "0b9OHhg-pab0",
        "colab_type": "code",
        "colab": {
          "base_uri": "https://localhost:8080/",
          "height": 34
        },
        "outputId": "6d9c3f50-4860-4e78-899b-699937c672bf"
      },
      "source": [
        "len(dataset)"
      ],
      "execution_count": 4,
      "outputs": [
        {
          "output_type": "execute_result",
          "data": {
            "text/plain": [
              "124800"
            ]
          },
          "metadata": {
            "tags": []
          },
          "execution_count": 4
        }
      ]
    },
    {
      "cell_type": "markdown",
      "metadata": {
        "id": "v83_HRy78jFz",
        "colab_type": "text"
      },
      "source": [
        "The training dataset contains 124800 data points."
      ]
    },
    {
      "cell_type": "code",
      "metadata": {
        "id": "xFYNM2JosapJ",
        "colab_type": "code",
        "colab": {
          "base_uri": "https://localhost:8080/",
          "height": 34
        },
        "outputId": "2d2cb79f-aacc-4db9-8b77-02f221c60c95"
      },
      "source": [
        "dataset[0]"
      ],
      "execution_count": 5,
      "outputs": [
        {
          "output_type": "execute_result",
          "data": {
            "text/plain": [
              "(<PIL.Image.Image image mode=L size=28x28 at 0x7F9AEF548D68>, 23)"
            ]
          },
          "metadata": {
            "tags": []
          },
          "execution_count": 5
        }
      ]
    },
    {
      "cell_type": "code",
      "metadata": {
        "id": "QtgVoVYQsdTr",
        "colab_type": "code",
        "colab": {
          "base_uri": "https://localhost:8080/",
          "height": 34
        },
        "outputId": "185d9188-daf5-44e8-f2ca-0b9fdecee807"
      },
      "source": [
        "dataset[1]"
      ],
      "execution_count": 6,
      "outputs": [
        {
          "output_type": "execute_result",
          "data": {
            "text/plain": [
              "(<PIL.Image.Image image mode=L size=28x28 at 0x7F9AEE7E1160>, 7)"
            ]
          },
          "metadata": {
            "tags": []
          },
          "execution_count": 6
        }
      ]
    },
    {
      "cell_type": "markdown",
      "metadata": {
        "id": "aVhhAvZH82m_",
        "colab_type": "text"
      },
      "source": [
        "The first two datapoints of the training dataset are the letters 'w' (23rd alphabet) and 'g' (7th alphabet)"
      ]
    },
    {
      "cell_type": "code",
      "metadata": {
        "id": "5gcN8YI9sfLf",
        "colab_type": "code",
        "colab": {}
      },
      "source": [
        "import matplotlib.pyplot as plt\n",
        "%matplotlib inline"
      ],
      "execution_count": 7,
      "outputs": []
    },
    {
      "cell_type": "code",
      "metadata": {
        "id": "dhCvRxuooGkq",
        "colab_type": "code",
        "colab": {
          "base_uri": "https://localhost:8080/",
          "height": 459
        },
        "outputId": "6a98b153-e648-4053-ad33-7301d892ae80"
      },
      "source": [
        "classes = dataset.classes\n",
        "classes"
      ],
      "execution_count": 8,
      "outputs": [
        {
          "output_type": "execute_result",
          "data": {
            "text/plain": [
              "['a',\n",
              " 'b',\n",
              " 'c',\n",
              " 'd',\n",
              " 'e',\n",
              " 'f',\n",
              " 'g',\n",
              " 'h',\n",
              " 'i',\n",
              " 'j',\n",
              " 'k',\n",
              " 'l',\n",
              " 'm',\n",
              " 'n',\n",
              " 'o',\n",
              " 'p',\n",
              " 'q',\n",
              " 'r',\n",
              " 's',\n",
              " 't',\n",
              " 'u',\n",
              " 'v',\n",
              " 'w',\n",
              " 'x',\n",
              " 'y',\n",
              " 'z']"
            ]
          },
          "metadata": {
            "tags": []
          },
          "execution_count": 8
        }
      ]
    },
    {
      "cell_type": "markdown",
      "metadata": {
        "id": "fFiPIp_boUym",
        "colab_type": "text"
      },
      "source": [
        "The 26 classes are all the letters of the english alphabet."
      ]
    },
    {
      "cell_type": "code",
      "metadata": {
        "id": "UXnpJLdFs55S",
        "colab_type": "code",
        "colab": {
          "base_uri": "https://localhost:8080/",
          "height": 282
        },
        "outputId": "b1f6f7d8-ea01-4f54-91a3-6cdf7630f010"
      },
      "source": [
        "image, label = dataset[2]\n",
        "label -= 1\n",
        "plt.imshow(image, cmap='gray')\n",
        "print(classes[label])"
      ],
      "execution_count": 9,
      "outputs": [
        {
          "output_type": "stream",
          "text": [
            "p\n"
          ],
          "name": "stdout"
        },
        {
          "output_type": "display_data",
          "data": {
            "image/png": "[encoded data removed]",
            "text/plain": [
              "<Figure size 432x288 with 1 Axes>"
            ]
          },
          "metadata": {
            "tags": [],
            "needs_background": "light"
          }
        }
      ]
    },
    {
      "cell_type": "code",
      "metadata": {
        "id": "yY_pwNFytCUh",
        "colab_type": "code",
        "colab": {
          "base_uri": "https://localhost:8080/",
          "height": 282
        },
        "outputId": "8af5bce2-4f1f-4a67-81e2-4b53375f677f"
      },
      "source": [
        "image, label = dataset[3]\n",
        "label -= 1\n",
        "plt.imshow(image, cmap='gray')\n",
        "print(classes[label])"
      ],
      "execution_count": 10,
      "outputs": [
        {
          "output_type": "stream",
          "text": [
            "o\n"
          ],
          "name": "stdout"
        },
        {
          "output_type": "display_data",
          "data": {
            "image/png": "[encoded data removed]",
            "text/plain": [
              "<Figure size 432x288 with 1 Axes>"
            ]
          },
          "metadata": {
            "tags": [],
            "needs_background": "light"
          }
        }
      ]
    },
    {
      "cell_type": "markdown",
      "metadata": {
        "id": "yfrEC3OxuCXp",
        "colab_type": "text"
      },
      "source": [
        "#### Transforming the images in the dataset to tensors \n",
        "To work with data points and perform operations on them, we need to convert them to tensors."
      ]
    },
    {
      "cell_type": "code",
      "metadata": {
        "id": "4O43ev7Utb7C",
        "colab_type": "code",
        "colab": {}
      },
      "source": [
        "import torchvision.transforms as transforms"
      ],
      "execution_count": 11,
      "outputs": []
    },
    {
      "cell_type": "code",
      "metadata": {
        "id": "YZS2M8g3uA_0",
        "colab_type": "code",
        "colab": {
          "base_uri": "https://localhost:8080/",
          "height": 34
        },
        "outputId": "ff45e400-edaf-473e-8bc2-7618c3f0d9c4"
      },
      "source": [
        "dataset = EMNIST(root='data/', train=True, transform=transforms.ToTensor(), split='letters')\n",
        "len(dataset)"
      ],
      "execution_count": 12,
      "outputs": [
        {
          "output_type": "execute_result",
          "data": {
            "text/plain": [
              "124800"
            ]
          },
          "metadata": {
            "tags": []
          },
          "execution_count": 12
        }
      ]
    },
    {
      "cell_type": "markdown",
      "metadata": {
        "id": "j1YShb6zuYna",
        "colab_type": "text"
      },
      "source": [
        "#### Exploring the image tensors\n",
        "Each data point has two parts: the image tensor and it's label.\n",
        "The shape of the image tensor is [1, 28, 28], signifying that it only consists of one channel(lightness channel, L, since it's a grayscale image), conveyed by the first dimension; and the size of the image that 28x28 pixels, as conveyed by the subsequent 2 dimensions "
      ]
    },
    {
      "cell_type": "code",
      "metadata": {
        "id": "uOTWsqPCuXXT",
        "colab_type": "code",
        "colab": {
          "base_uri": "https://localhost:8080/",
          "height": 34
        },
        "outputId": "537d546c-96e9-41df-b758-af281251d666"
      },
      "source": [
        "img_tensor, labels = dataset[0]\n",
        "print(img_tensor.shape, labels-1)"
      ],
      "execution_count": 13,
      "outputs": [
        {
          "output_type": "stream",
          "text": [
            "torch.Size([1, 28, 28]) 22\n"
          ],
          "name": "stdout"
        }
      ]
    },
    {
      "cell_type": "code",
      "metadata": {
        "id": "lLwVSGMZuiR9",
        "colab_type": "code",
        "colab": {
          "base_uri": "https://localhost:8080/",
          "height": 34
        },
        "outputId": "115c870a-6640-48be-cb5c-2b837ef62472"
      },
      "source": [
        "img_tensor, labels = dataset[1]\n",
        "print(img_tensor.shape, labels-1)"
      ],
      "execution_count": 14,
      "outputs": [
        {
          "output_type": "stream",
          "text": [
            "torch.Size([1, 28, 28]) 6\n"
          ],
          "name": "stdout"
        }
      ]
    },
    {
      "cell_type": "code",
      "metadata": {
        "id": "9giUOYFrukMD",
        "colab_type": "code",
        "colab": {
          "base_uri": "https://localhost:8080/",
          "height": 1000
        },
        "outputId": "688657ce-81f3-4065-d6e6-10ee09fe59ce"
      },
      "source": [
        "img_tensor, labels = dataset[2]\n",
        "print(img_tensor, labels-1)"
      ],
      "execution_count": 15,
      "outputs": [
        {
          "output_type": "stream",
          "text": [
            "tensor([[[0.0000, 0.0000, 0.0000, 0.0000, 0.0000, 0.0000, 0.0000, 0.0000,\n",
            "          0.0000, 0.0000, 0.0000, 0.0000, 0.0000, 0.0000, 0.0000, 0.0000,\n",
            "          0.0000, 0.0000, 0.0000, 0.0000, 0.0000, 0.0000, 0.0000, 0.0000,\n",
            "          0.0000, 0.0000, 0.0000, 0.0000],\n",
            "         [0.0000, 0.0000, 0.0000, 0.0000, 0.0000, 0.0000, 0.0000, 0.0000,\n",
            "          0.0000, 0.0000, 0.0000, 0.0000, 0.0000, 0.0000, 0.0000, 0.0000,\n",
            "          0.0000, 0.0000, 0.0000, 0.0000, 0.0000, 0.0000, 0.0000, 0.0000,\n",
            "          0.0000, 0.0000, 0.0000, 0.0000],\n",
            "         [0.0000, 0.0000, 0.0000, 0.0000, 0.0000, 0.0000, 0.0000, 0.0000,\n",
            "          0.0000, 0.0000, 0.0000, 0.0000, 0.0000, 0.0000, 0.0000, 0.0000,\n",
            "          0.0000, 0.0000, 0.0000, 0.0000, 0.0000, 0.0000, 0.0000, 0.0000,\n",
            "          0.0000, 0.0000, 0.0000, 0.0000],\n",
            "         [0.0000, 0.0000, 0.0000, 0.0000, 0.0000, 0.0000, 0.0000, 0.0000,\n",
            "          0.0000, 0.0000, 0.0000, 0.0000, 0.0000, 0.0000, 0.0000, 0.0000,\n",
            "          0.0000, 0.0000, 0.0000, 0.0000, 0.0000, 0.0000, 0.0000, 0.0000,\n",
            "          0.0000, 0.0000, 0.0000, 0.0000],\n",
            "         [0.0000, 0.0000, 0.0000, 0.0000, 0.0000, 0.0000, 0.0000, 0.0000,\n",
            "          0.0000, 0.0000, 0.0000, 0.0000, 0.0000, 0.0000, 0.0000, 0.0000,\n",
            "          0.0000, 0.0000, 0.0000, 0.0000, 0.0000, 0.0000, 0.0000, 0.0000,\n",
            "          0.0000, 0.0000, 0.0000, 0.0000],\n",
            "         [0.0000, 0.0000, 0.0000, 0.0000, 0.0000, 0.0000, 0.0000, 0.0000,\n",
            "          0.0000, 0.0000, 0.0000, 0.0000, 0.0000, 0.0000, 0.0000, 0.0000,\n",
            "          0.0000, 0.0000, 0.0000, 0.0000, 0.0000, 0.0000, 0.0000, 0.0000,\n",
            "          0.0000, 0.0000, 0.0000, 0.0000],\n",
            "         [0.0000, 0.0000, 0.0000, 0.0000, 0.0000, 0.0000, 0.0000, 0.0000,\n",
            "          0.0000, 0.0000, 0.0000, 0.0000, 0.0000, 0.0000, 0.0000, 0.0000,\n",
            "          0.0000, 0.0000, 0.0000, 0.0000, 0.0000, 0.0000, 0.0000, 0.0000,\n",
            "          0.0000, 0.0000, 0.0000, 0.0000],\n",
            "         [0.0000, 0.0000, 0.0000, 0.0000, 0.0000, 0.0000, 0.0000, 0.0000,\n",
            "          0.0000, 0.0000, 0.0000, 0.0000, 0.0000, 0.0000, 0.0078, 0.0000,\n",
            "          0.0000, 0.0000, 0.0000, 0.0000, 0.0000, 0.0000, 0.0000, 0.0000,\n",
            "          0.0000, 0.0000, 0.0000, 0.0000],\n",
            "         [0.0000, 0.0000, 0.0000, 0.0000, 0.0000, 0.0000, 0.0000, 0.0000,\n",
            "          0.0000, 0.0000, 0.0000, 0.0000, 0.0000, 0.1255, 0.6588, 0.3529,\n",
            "          0.0392, 0.0000, 0.0000, 0.0078, 0.0000, 0.0000, 0.0039, 0.0000,\n",
            "          0.0000, 0.0000, 0.0000, 0.0000],\n",
            "         [0.0000, 0.0000, 0.0000, 0.0000, 0.0000, 0.0000, 0.0000, 0.0000,\n",
            "          0.0000, 0.0000, 0.0157, 0.0157, 0.0196, 0.4235, 0.9922, 0.9686,\n",
            "          0.8157, 0.5059, 0.5490, 0.7137, 0.5451, 0.5059, 0.6235, 0.4980,\n",
            "          0.4471, 0.1294, 0.0196, 0.0000],\n",
            "         [0.0000, 0.0000, 0.0000, 0.0000, 0.0000, 0.0000, 0.0000, 0.0000,\n",
            "          0.0824, 0.1961, 0.4902, 0.4980, 0.5059, 0.8275, 0.9961, 0.9961,\n",
            "          0.9961, 0.9804, 0.9804, 0.9922, 0.9804, 0.9804, 0.9843, 0.9804,\n",
            "          0.9608, 0.7255, 0.1255, 0.0000],\n",
            "         [0.0000, 0.0000, 0.0000, 0.0000, 0.0157, 0.1804, 0.4902, 0.5490,\n",
            "          0.9098, 0.9804, 0.9961, 0.9961, 0.9961, 0.9961, 0.9961, 0.9961,\n",
            "          0.9961, 0.9961, 0.9961, 0.9961, 0.9961, 0.9961, 1.0000, 0.9961,\n",
            "          0.9961, 0.8510, 0.1451, 0.0000],\n",
            "         [0.0000, 0.0000, 0.0314, 0.4510, 0.8000, 0.9608, 0.9922, 0.9608,\n",
            "          0.6745, 0.4980, 0.4980, 0.4980, 0.4980, 0.5059, 0.9255, 0.9961,\n",
            "          0.9255, 0.5059, 0.4980, 0.5059, 0.7961, 0.8510, 0.8510, 0.8510,\n",
            "          0.7216, 0.4706, 0.0706, 0.0000],\n",
            "         [0.0000, 0.0784, 0.6196, 0.9922, 0.9922, 0.6941, 0.4471, 0.1804,\n",
            "          0.0118, 0.0000, 0.0000, 0.0000, 0.0000, 0.0157, 0.8510, 0.9961,\n",
            "          0.8510, 0.0157, 0.0000, 0.0000, 0.0157, 0.0157, 0.0157, 0.0157,\n",
            "          0.0118, 0.0000, 0.0000, 0.0000],\n",
            "         [0.0000, 0.1451, 0.8431, 0.9961, 0.8667, 0.1412, 0.0157, 0.0000,\n",
            "          0.0000, 0.0000, 0.0000, 0.0000, 0.0000, 0.0353, 0.8706, 0.9961,\n",
            "          0.8431, 0.0157, 0.0000, 0.0000, 0.0000, 0.0000, 0.0000, 0.0000,\n",
            "          0.0000, 0.0000, 0.0000, 0.0000],\n",
            "         [0.0000, 0.1255, 0.7961, 0.9961, 0.5765, 0.0196, 0.0000, 0.0000,\n",
            "          0.0000, 0.0000, 0.0000, 0.0000, 0.0000, 0.1961, 0.9804, 0.9647,\n",
            "          0.4980, 0.0000, 0.0000, 0.0000, 0.0000, 0.0000, 0.0000, 0.0000,\n",
            "          0.0000, 0.0000, 0.0000, 0.0000],\n",
            "         [0.0000, 0.0157, 0.4510, 0.9961, 0.9804, 0.3922, 0.0824, 0.0118,\n",
            "          0.0000, 0.0000, 0.0000, 0.0000, 0.0314, 0.6863, 0.9961, 0.8000,\n",
            "          0.1333, 0.0000, 0.0000, 0.0000, 0.0000, 0.0000, 0.0000, 0.0000,\n",
            "          0.0000, 0.0000, 0.0000, 0.0000],\n",
            "         [0.0000, 0.0000, 0.0863, 0.7922, 0.9765, 0.9882, 0.9098, 0.6706,\n",
            "          0.2000, 0.1451, 0.1451, 0.1608, 0.5176, 0.9922, 0.9647, 0.3098,\n",
            "          0.0118, 0.0000, 0.0000, 0.0000, 0.0000, 0.0000, 0.0000, 0.0000,\n",
            "          0.0000, 0.0000, 0.0000, 0.0000],\n",
            "         [0.0000, 0.0000, 0.0039, 0.1412, 0.7647, 0.9804, 0.9961, 0.9843,\n",
            "          0.8706, 0.8510, 0.8510, 0.8510, 0.9255, 0.9961, 0.6863, 0.0314,\n",
            "          0.0000, 0.0000, 0.0000, 0.0000, 0.0000, 0.0000, 0.0000, 0.0000,\n",
            "          0.0000, 0.0000, 0.0000, 0.0000],\n",
            "         [0.0000, 0.0000, 0.0000, 0.0000, 0.0314, 0.1961, 0.6706, 0.9098,\n",
            "          0.9804, 0.9804, 0.9804, 0.9804, 0.9608, 0.6235, 0.0784, 0.0000,\n",
            "          0.0000, 0.0000, 0.0000, 0.0000, 0.0000, 0.0000, 0.0000, 0.0000,\n",
            "          0.0000, 0.0000, 0.0000, 0.0000],\n",
            "         [0.0000, 0.0000, 0.0000, 0.0000, 0.0000, 0.0000, 0.0118, 0.0824,\n",
            "          0.1451, 0.1451, 0.1451, 0.1451, 0.1255, 0.0118, 0.0000, 0.0000,\n",
            "          0.0000, 0.0000, 0.0000, 0.0000, 0.0000, 0.0000, 0.0000, 0.0000,\n",
            "          0.0000, 0.0000, 0.0000, 0.0000],\n",
            "         [0.0000, 0.0000, 0.0000, 0.0000, 0.0000, 0.0000, 0.0000, 0.0000,\n",
            "          0.0000, 0.0000, 0.0000, 0.0000, 0.0000, 0.0000, 0.0000, 0.0000,\n",
            "          0.0000, 0.0000, 0.0000, 0.0000, 0.0000, 0.0000, 0.0000, 0.0000,\n",
            "          0.0000, 0.0000, 0.0000, 0.0000],\n",
            "         [0.0000, 0.0000, 0.0000, 0.0000, 0.0000, 0.0000, 0.0000, 0.0000,\n",
            "          0.0000, 0.0000, 0.0000, 0.0000, 0.0000, 0.0000, 0.0000, 0.0000,\n",
            "          0.0000, 0.0000, 0.0000, 0.0000, 0.0000, 0.0000, 0.0000, 0.0000,\n",
            "          0.0000, 0.0000, 0.0000, 0.0000],\n",
            "         [0.0000, 0.0000, 0.0000, 0.0000, 0.0000, 0.0000, 0.0000, 0.0000,\n",
            "          0.0000, 0.0000, 0.0000, 0.0000, 0.0000, 0.0000, 0.0000, 0.0000,\n",
            "          0.0000, 0.0000, 0.0000, 0.0000, 0.0000, 0.0000, 0.0000, 0.0000,\n",
            "          0.0000, 0.0000, 0.0000, 0.0000],\n",
            "         [0.0000, 0.0000, 0.0000, 0.0000, 0.0000, 0.0000, 0.0000, 0.0000,\n",
            "          0.0000, 0.0000, 0.0000, 0.0000, 0.0000, 0.0000, 0.0000, 0.0000,\n",
            "          0.0000, 0.0000, 0.0000, 0.0000, 0.0000, 0.0000, 0.0000, 0.0000,\n",
            "          0.0000, 0.0000, 0.0000, 0.0000],\n",
            "         [0.0000, 0.0000, 0.0000, 0.0000, 0.0000, 0.0000, 0.0000, 0.0000,\n",
            "          0.0000, 0.0000, 0.0000, 0.0000, 0.0000, 0.0000, 0.0000, 0.0000,\n",
            "          0.0000, 0.0000, 0.0000, 0.0000, 0.0000, 0.0000, 0.0000, 0.0000,\n",
            "          0.0000, 0.0000, 0.0000, 0.0000],\n",
            "         [0.0000, 0.0000, 0.0000, 0.0000, 0.0000, 0.0000, 0.0000, 0.0000,\n",
            "          0.0000, 0.0000, 0.0000, 0.0000, 0.0000, 0.0000, 0.0000, 0.0000,\n",
            "          0.0000, 0.0000, 0.0000, 0.0000, 0.0000, 0.0000, 0.0000, 0.0000,\n",
            "          0.0000, 0.0000, 0.0000, 0.0000],\n",
            "         [0.0000, 0.0000, 0.0000, 0.0000, 0.0000, 0.0000, 0.0000, 0.0000,\n",
            "          0.0000, 0.0000, 0.0000, 0.0000, 0.0000, 0.0000, 0.0000, 0.0000,\n",
            "          0.0000, 0.0000, 0.0000, 0.0000, 0.0000, 0.0000, 0.0000, 0.0000,\n",
            "          0.0000, 0.0000, 0.0000, 0.0000]]]) 15\n"
          ],
          "name": "stdout"
        }
      ]
    },
    {
      "cell_type": "markdown",
      "metadata": {
        "id": "XpURZB2muwvT",
        "colab_type": "text"
      },
      "source": [
        "#### Why do we need a validation set?\n",
        "We need a validation set to check our model before finally testing it on the test dataset. It helps us to change hyperparameters accordingly to get the best results, and then pick the best version of the model before reporting the final results.\n",
        "\n",
        "#### Create validation set from the training set\n",
        "We take the 1% of the training set as our validation set in this notebook, though any small percentage can be taken. The validation set is created by randomly splitting the training dataset into two parts of suitable size. The random split plays a major role here as, if we split it in order, the training dataset might not have some classes at all, and since the model was never trained for those classes which got divided into the validation set, the model will never be able to guess them. Which means, even after training our model, our model's accuracy on the validation set will always be zero."
      ]
    },
    {
      "cell_type": "code",
      "metadata": {
        "id": "EdO1T0osupKG",
        "colab_type": "code",
        "colab": {
          "base_uri": "https://localhost:8080/",
          "height": 34
        },
        "outputId": "64ffb3c7-b819-4fe5-a7e4-8cb14d0f60d4"
      },
      "source": [
        "from torch.utils.data import random_split\n",
        "\n",
        "val_per = 0.1\n",
        "val_len = int(val_per*len(dataset))\n",
        "train_ds, val_ds = random_split(dataset, [len(dataset)-val_len, val_len])\n",
        "print(len(train_ds), len(val_ds))"
      ],
      "execution_count": 16,
      "outputs": [
        {
          "output_type": "stream",
          "text": [
            "112320 12480\n"
          ],
          "name": "stdout"
        }
      ]
    },
    {
      "cell_type": "markdown",
      "metadata": {
        "id": "k1f8C6IivG3z",
        "colab_type": "text"
      },
      "source": [
        "#### Load the training and validation data in batches\n",
        "We use the DataLoader to load the training and validation dataset with a batch size of 128 data points. We shuffle the training dataset because the most randomized inputs produce the most general model, which is favourable. However, we do not shuffle the validation dataset as, we cannot compare different evaluations if the dataset on which we are evaluating is not the same."
      ]
    },
    {
      "cell_type": "code",
      "metadata": {
        "id": "YkYLpztUu-sX",
        "colab_type": "code",
        "colab": {}
      },
      "source": [
        "from torch.utils.data import DataLoader\n",
        "\n",
        "batch_size = 128\n",
        "\n",
        "train_load = DataLoader(train_ds, batch_size, shuffle=True, num_workers=4, pin_memory=True)\n",
        "val_load = DataLoader(val_ds, batch_size, num_workers=4, pin_memory=True)"
      ],
      "execution_count": 17,
      "outputs": []
    },
    {
      "cell_type": "markdown",
      "metadata": {
        "id": "ooZeazNbvgm0",
        "colab_type": "text"
      },
      "source": [
        "#### Creating a feed-forwarding neural network"
      ]
    },
    {
      "cell_type": "markdown",
      "metadata": {
        "id": "MdcDcl61Zjag",
        "colab_type": "text"
      },
      "source": [
        "Since the input and output sizes should be scalar integers for us to implement regression on them, input size can't be in the form of [28, 28], therefore, it is 28*28 = 784 (number of pixels in the image if we flatten the image). And output size is clearly 26, because the image will be classified into one of the 26 classes."
      ]
    },
    {
      "cell_type": "code",
      "metadata": {
        "id": "hmiMQaokvZH7",
        "colab_type": "code",
        "colab": {}
      },
      "source": [
        "from torch import nn\n",
        "\n",
        "input_size = 28*28\n",
        "output_size = 26"
      ],
      "execution_count": 18,
      "outputs": []
    },
    {
      "cell_type": "markdown",
      "metadata": {
        "id": "X3rfJjGua40P",
        "colab_type": "text"
      },
      "source": [
        "We extend the nn.Module class to define our EmnistModel. It consists of four nn.Linear layers, out of which 3 are called hidden layers, invoked in the forward function after we flatten the input based on its last two dimensions(the dimensions conveying the image size). After implementing the first linear layer, the outputs go through a non-linear activation function, and this repeats till the outputs go through the last linear layer. The size of our hidden layers is 512, 128, 32 respectively.\n",
        "\n",
        "Then we have the training step where we use the cross_entropy loss function on the predictions and targets to calculate the loss for the training dataset. In the validation step, we also calculate the accuracy of the model along with the loss on the validation set.\n",
        "\n",
        "In the last two functions, we combine the validation losses and accuracies after each epoch, so that we can track the progress of the training."
      ]
    },
    {
      "cell_type": "code",
      "metadata": {
        "id": "7T02H5h_vpKO",
        "colab_type": "code",
        "colab": {}
      },
      "source": [
        "class EmnistModel(nn.Module):\n",
        "    def __init__(self):\n",
        "        super().__init__()\n",
        "        self.linear1 = nn.Linear(input_size, 512)\n",
        "        self.linear2 = nn.Linear(512, 128)\n",
        "        self.linear3 = nn.Linear(128, 32)\n",
        "        self.linear4 = nn.Linear(32, output_size)\n",
        "        \n",
        "    def forward(self, xb):\n",
        "        xb = xb.reshape(-1, input_size)\n",
        "        out = self.linear1(xb)\n",
        "        out = F.relu(out)\n",
        "        out = self.linear2(out)\n",
        "        out = F.relu(out)\n",
        "        out = self.linear3(out)\n",
        "        out = F.relu(out)\n",
        "        out = self.linear4(out)\n",
        "        return out\n",
        "    \n",
        "    def training_step(self, batch):\n",
        "        images, label = batch\n",
        "        labels = torch.tensor([x-1 for x in label])\n",
        "        out = self(images)                  # Generate predictions\n",
        "        loss = F.cross_entropy(out, labels) # Calculate loss\n",
        "        return loss\n",
        "    \n",
        "    def validation_step(self, batch):\n",
        "        images, label = batch\n",
        "        labels = torch.tensor([x-1 for x in label])\n",
        "        out = self(images)                    # Generate predictions\n",
        "        loss = F.cross_entropy(out, labels)   # Calculate loss\n",
        "        acc = accuracy(out, labels)           # Calculate accuracy\n",
        "        return {'val_loss': loss, 'val_acc': acc}\n",
        "        \n",
        "    def validation_epoch_end(self, outputs):\n",
        "        batch_losses = [x['val_loss'] for x in outputs]\n",
        "        epoch_loss = torch.stack(batch_losses).mean()   # Combine losses\n",
        "        batch_accs = [x['val_acc'] for x in outputs]\n",
        "        epoch_acc = torch.stack(batch_accs).mean()      # Combine accuracies\n",
        "        return {'val_loss': epoch_loss.item(), 'val_acc': epoch_acc.item()}\n",
        "    \n",
        "    def epoch_end(self, epoch, result):\n",
        "        print(\"Epoch [{}], val_loss: {:.4f}, val_acc: {:.4f}\".format(epoch, result['val_loss'], result['val_acc']))"
      ],
      "execution_count": 19,
      "outputs": []
    },
    {
      "cell_type": "code",
      "metadata": {
        "id": "ew17xcKLv1V7",
        "colab_type": "code",
        "colab": {}
      },
      "source": [
        "model = EmnistModel()"
      ],
      "execution_count": 20,
      "outputs": []
    },
    {
      "cell_type": "markdown",
      "metadata": {
        "id": "V65UGX3ewGPR",
        "colab_type": "text"
      },
      "source": [
        "#### Predictions with the initial hyperparameters"
      ]
    },
    {
      "cell_type": "code",
      "metadata": {
        "id": "UmRLTgjRv6eO",
        "colab_type": "code",
        "colab": {}
      },
      "source": [
        "import torch.nn.functional as F\n",
        "\n",
        "for images, label in train_load:\n",
        "    labels = torch.tensor([x-1 for x in label])\n",
        "    outputs = model(images)\n",
        "    break"
      ],
      "execution_count": 21,
      "outputs": []
    },
    {
      "cell_type": "markdown",
      "metadata": {
        "id": "Swj1IxwxeROk",
        "colab_type": "text"
      },
      "source": [
        "We pass the outputs through the softmax function so that the outputs are in the range 0 to 1 and the sum of the outputs for each data point in the batch is 1, and the outputs can represent probabilities."
      ]
    },
    {
      "cell_type": "code",
      "metadata": {
        "id": "0g2b-YOfwmWh",
        "colab_type": "code",
        "colab": {}
      },
      "source": [
        "probs = F.softmax(outputs, dim=1)"
      ],
      "execution_count": 22,
      "outputs": []
    },
    {
      "cell_type": "markdown",
      "metadata": {
        "id": "6cjpJioKglOX",
        "colab_type": "text"
      },
      "source": [
        "We can take the class with the highest probability as the predicted class. The 'max_probs' represents the highest probability and 'preds' represents it's index, which can be called the predicted label."
      ]
    },
    {
      "cell_type": "code",
      "metadata": {
        "id": "5P0BShmLw5_p",
        "colab_type": "code",
        "colab": {
          "base_uri": "https://localhost:8080/",
          "height": 119
        },
        "outputId": "e41b625e-9da1-4a42-d5b5-5e522079b19a"
      },
      "source": [
        "max_probs, preds = torch.max(probs, dim=1)\n",
        "preds"
      ],
      "execution_count": 23,
      "outputs": [
        {
          "output_type": "execute_result",
          "data": {
            "text/plain": [
              "tensor([0, 0, 0, 0, 0, 0, 0, 0, 0, 0, 0, 0, 0, 0, 0, 0, 0, 0, 0, 0, 0, 0, 0, 0,\n",
              "        0, 0, 0, 0, 0, 0, 0, 0, 0, 0, 0, 0, 0, 0, 0, 0, 0, 0, 0, 0, 0, 0, 0, 0,\n",
              "        0, 0, 0, 0, 0, 0, 0, 0, 0, 0, 0, 0, 0, 0, 0, 0, 0, 0, 0, 0, 0, 0, 0, 0,\n",
              "        0, 0, 0, 0, 0, 0, 0, 0, 0, 0, 0, 0, 0, 0, 0, 0, 0, 0, 0, 0, 0, 0, 0, 0,\n",
              "        0, 0, 0, 0, 0, 0, 0, 0, 0, 0, 0, 0, 0, 0, 0, 0, 0, 0, 0, 0, 0, 0, 0, 0,\n",
              "        0, 0, 0, 0, 0, 0, 0, 0])"
            ]
          },
          "metadata": {
            "tags": []
          },
          "execution_count": 23
        }
      ]
    },
    {
      "cell_type": "markdown",
      "metadata": {
        "id": "2H4HfQGbhah2",
        "colab_type": "text"
      },
      "source": [
        "These are the labels predicted with the initial set of weights and biases. Since it's totally random, they are very likely to be wrong."
      ]
    },
    {
      "cell_type": "markdown",
      "metadata": {
        "id": "4sBskJLVxQ5I",
        "colab_type": "text"
      },
      "source": [
        "#### Defining accuracy of the model"
      ]
    },
    {
      "cell_type": "markdown",
      "metadata": {
        "id": "nafHzdeuiDVH",
        "colab_type": "text"
      },
      "source": [
        "We calculate the accuracy by checking the number of right predictions."
      ]
    },
    {
      "cell_type": "code",
      "metadata": {
        "id": "K-deem1Vw_HZ",
        "colab_type": "code",
        "colab": {}
      },
      "source": [
        "def accuracy(outputs, labels):\n",
        "    _, preds = torch.max(outputs, dim=1)\n",
        "    return torch.tensor(torch.sum(preds == labels).item() / len(preds))"
      ],
      "execution_count": 24,
      "outputs": []
    },
    {
      "cell_type": "code",
      "metadata": {
        "id": "5pIwkgn4xaB-",
        "colab_type": "code",
        "colab": {
          "base_uri": "https://localhost:8080/",
          "height": 34
        },
        "outputId": "0561794d-4421-47a1-de02-767e5b8fbf2f"
      },
      "source": [
        "accuracy(outputs, labels)"
      ],
      "execution_count": 25,
      "outputs": [
        {
          "output_type": "execute_result",
          "data": {
            "text/plain": [
              "tensor(0.0234)"
            ]
          },
          "metadata": {
            "tags": []
          },
          "execution_count": 25
        }
      ]
    },
    {
      "cell_type": "markdown",
      "metadata": {
        "id": "0clWKEIViNj_",
        "colab_type": "text"
      },
      "source": [
        "The accuracy is quite low, as expected."
      ]
    },
    {
      "cell_type": "markdown",
      "metadata": {
        "id": "r0O0-MKAxyY3",
        "colab_type": "text"
      },
      "source": [
        "#### Defining the loss function"
      ]
    },
    {
      "cell_type": "code",
      "metadata": {
        "id": "HbG1Mug7xpma",
        "colab_type": "code",
        "colab": {
          "base_uri": "https://localhost:8080/",
          "height": 34
        },
        "outputId": "9866bf01-d099-4192-c712-7a305743935d"
      },
      "source": [
        "loss_fn = F.cross_entropy\n",
        "\n",
        "loss = loss_fn(outputs, labels)\n",
        "print(loss)"
      ],
      "execution_count": 26,
      "outputs": [
        {
          "output_type": "stream",
          "text": [
            "tensor(3.2745, grad_fn=<NllLossBackward>)\n"
          ],
          "name": "stdout"
        }
      ]
    },
    {
      "cell_type": "markdown",
      "metadata": {
        "id": "28JPo7I2x8Sd",
        "colab_type": "text"
      },
      "source": [
        "#### Training the model"
      ]
    },
    {
      "cell_type": "markdown",
      "metadata": {
        "id": "KPOApHh1i2y2",
        "colab_type": "text"
      },
      "source": [
        "We evaluate the model on the basis of the loss and accuracy.\n",
        "\n",
        "We fit the model to the training and validation datasets. The optimizer we use is SGD to change the weights and biases. For each epoch, in each batch, the loss is calculated on the training data and the model parameters are updated using the optimizer, which is then initialized again, so that the gradients do not keep adding up after each epoch. We evaluate the model with the updated model parameters on the validation dataset, and add each result to history. Number of epochs and learning rate are the hyperparameters whose best value, we have to decide in order to get the best version of the model. Epochs are the iterations, and learning rate is the rate by which the model parameters are changed during gradient descent."
      ]
    },
    {
      "cell_type": "code",
      "metadata": {
        "id": "nbg5yRgvx2GC",
        "colab_type": "code",
        "colab": {}
      },
      "source": [
        "def evaluate(model, val_loader):\n",
        "    outputs = [model.validation_step(batch) for batch in val_loader]\n",
        "    return model.validation_epoch_end(outputs)\n",
        "\n",
        "def fit(epochs, lr, model, train_loader, val_loader, opt_func=torch.optim.SGD):\n",
        "    history = []\n",
        "    optimizer = opt_func(model.parameters(), lr)\n",
        "    for epoch in range(epochs):\n",
        "        # Training Phase \n",
        "        for batch in train_loader:\n",
        "            loss = model.training_step(batch)\n",
        "            loss.backward()\n",
        "            optimizer.step()\n",
        "            optimizer.zero_grad()\n",
        "        # Validation phase\n",
        "        result = evaluate(model, val_loader)\n",
        "        model.epoch_end(epoch, result)\n",
        "        history.append(result)\n",
        "    return history"
      ],
      "execution_count": 27,
      "outputs": []
    },
    {
      "cell_type": "code",
      "metadata": {
        "id": "xqXSCAbbyD3H",
        "colab_type": "code",
        "colab": {
          "base_uri": "https://localhost:8080/",
          "height": 34
        },
        "outputId": "5f2ea7ff-fa2b-4895-8953-76dcae85ed8a"
      },
      "source": [
        "result0 = evaluate(model, val_load)\n",
        "result0"
      ],
      "execution_count": 28,
      "outputs": [
        {
          "output_type": "execute_result",
          "data": {
            "text/plain": [
              "{'val_acc': 0.03659119829535484, 'val_loss': 3.2648282051086426}"
            ]
          },
          "metadata": {
            "tags": []
          },
          "execution_count": 28
        }
      ]
    },
    {
      "cell_type": "code",
      "metadata": {
        "id": "GCBgFBAIyjU9",
        "colab_type": "code",
        "colab": {
          "base_uri": "https://localhost:8080/",
          "height": 102
        },
        "outputId": "81ac3a7f-0fd9-4744-d62e-e8f3e807ec8d"
      },
      "source": [
        "history1 = fit(5, 0.1, model, train_load, val_load)"
      ],
      "execution_count": 29,
      "outputs": [
        {
          "output_type": "stream",
          "text": [
            "Epoch [0], val_loss: 0.9554, val_acc: 0.6927\n",
            "Epoch [1], val_loss: 0.5236, val_acc: 0.8364\n",
            "Epoch [2], val_loss: 0.4201, val_acc: 0.8689\n",
            "Epoch [3], val_loss: 0.3603, val_acc: 0.8829\n",
            "Epoch [4], val_loss: 0.3705, val_acc: 0.8836\n"
          ],
          "name": "stdout"
        }
      ]
    },
    {
      "cell_type": "code",
      "metadata": {
        "id": "9hF7sSNvyvEi",
        "colab_type": "code",
        "colab": {
          "base_uri": "https://localhost:8080/",
          "height": 102
        },
        "outputId": "f3338f56-d5d5-41fa-f457-6a17a0fe39c0"
      },
      "source": [
        "history2 = fit(5, 0.05, model, train_load, val_load)"
      ],
      "execution_count": 30,
      "outputs": [
        {
          "output_type": "stream",
          "text": [
            "Epoch [0], val_loss: 0.2993, val_acc: 0.9050\n",
            "Epoch [1], val_loss: 0.2889, val_acc: 0.9069\n",
            "Epoch [2], val_loss: 0.2873, val_acc: 0.9070\n",
            "Epoch [3], val_loss: 0.2883, val_acc: 0.9062\n",
            "Epoch [4], val_loss: 0.3050, val_acc: 0.9032\n"
          ],
          "name": "stdout"
        }
      ]
    },
    {
      "cell_type": "code",
      "metadata": {
        "id": "X9gSKp-vze2-",
        "colab_type": "code",
        "colab": {
          "base_uri": "https://localhost:8080/",
          "height": 102
        },
        "outputId": "bec1256c-8a5a-46c1-9c1f-89836da0ece4"
      },
      "source": [
        "history3 = fit(5, 0.001, model, train_load, val_load)"
      ],
      "execution_count": 31,
      "outputs": [
        {
          "output_type": "stream",
          "text": [
            "Epoch [0], val_loss: 0.2675, val_acc: 0.9131\n",
            "Epoch [1], val_loss: 0.2659, val_acc: 0.9137\n",
            "Epoch [2], val_loss: 0.2654, val_acc: 0.9140\n",
            "Epoch [3], val_loss: 0.2651, val_acc: 0.9145\n",
            "Epoch [4], val_loss: 0.2649, val_acc: 0.9147\n"
          ],
          "name": "stdout"
        }
      ]
    },
    {
      "cell_type": "code",
      "metadata": {
        "id": "FybgSbkiqORr",
        "colab_type": "code",
        "colab": {
          "base_uri": "https://localhost:8080/",
          "height": 295
        },
        "outputId": "f464e92d-49f6-4a28-9f39-356f34a1c134"
      },
      "source": [
        "history = [result0] + history1 + history2 + history3\n",
        "accuracies = [result['val_acc'] for result in history]\n",
        "plt.plot(accuracies, '-x')\n",
        "plt.xlabel('epoch')\n",
        "plt.ylabel('accuracy')\n",
        "plt.title('Accuracy vs. No. of epochs');"
      ],
      "execution_count": 32,
      "outputs": [
        {
          "output_type": "display_data",
          "data": {
            "image/png": "[encoded data removed]",
            "text/plain": [
              "<Figure size 432x288 with 1 Axes>"
            ]
          },
          "metadata": {
            "tags": [],
            "needs_background": "light"
          }
        }
      ]
    },
    {
      "cell_type": "markdown",
      "metadata": {
        "id": "8kMcRJaQqX8B",
        "colab_type": "text"
      },
      "source": [
        "As we can see, the accuracy becomes constant towards the end. It means that we have reached the linear regression limit, and to get better accuracies, we will have to use to more advanced models."
      ]
    },
    {
      "cell_type": "markdown",
      "metadata": {
        "id": "U4MOtieL0iOM",
        "colab_type": "text"
      },
      "source": [
        "#### Downloading and Transforming the test dataset\n",
        "The test dataset is downloaded with train permissions as False, since we are not going to use it for training, and converted to tensors."
      ]
    },
    {
      "cell_type": "code",
      "metadata": {
        "id": "PMs3LTfq0QsH",
        "colab_type": "code",
        "colab": {}
      },
      "source": [
        "test_dataset = EMNIST(root='data/', \n",
        "                     train=False,\n",
        "                     transform=transforms.ToTensor(), split='letters')"
      ],
      "execution_count": 33,
      "outputs": []
    },
    {
      "cell_type": "code",
      "metadata": {
        "id": "fTwQURA85-Z1",
        "colab_type": "code",
        "colab": {
          "base_uri": "https://localhost:8080/",
          "height": 34
        },
        "outputId": "dec9a74c-c6fb-4e59-8cb6-671682c8b9bc"
      },
      "source": [
        "len(test_dataset)"
      ],
      "execution_count": 34,
      "outputs": [
        {
          "output_type": "execute_result",
          "data": {
            "text/plain": [
              "20800"
            ]
          },
          "metadata": {
            "tags": []
          },
          "execution_count": 34
        }
      ]
    },
    {
      "cell_type": "code",
      "metadata": {
        "id": "x_AT6VkT0tY1",
        "colab_type": "code",
        "colab": {
          "base_uri": "https://localhost:8080/",
          "height": 299
        },
        "outputId": "007e6472-4ec9-4dea-b54c-55a8abd33409"
      },
      "source": [
        "img, label = test_dataset[0]\n",
        "plt.imshow(img[0], cmap='gray')\n",
        "print('Shape:', img.shape)\n",
        "print('Label:', label-1)"
      ],
      "execution_count": 35,
      "outputs": [
        {
          "output_type": "stream",
          "text": [
            "Shape: torch.Size([1, 28, 28])\n",
            "Label: 0\n"
          ],
          "name": "stdout"
        },
        {
          "output_type": "display_data",
          "data": {
            "image/png": "[encoded data removed]",
            "text/plain": [
              "<Figure size 432x288 with 1 Axes>"
            ]
          },
          "metadata": {
            "tags": [],
            "needs_background": "light"
          }
        }
      ]
    },
    {
      "cell_type": "code",
      "metadata": {
        "id": "2wpSOeX-0y_y",
        "colab_type": "code",
        "colab": {
          "base_uri": "https://localhost:8080/",
          "height": 299
        },
        "outputId": "c0fc9561-34e8-4816-a0b1-0e04a6db3b5b"
      },
      "source": [
        "img, label = test_dataset[1]\n",
        "plt.imshow(img[0], cmap='gray')\n",
        "print('Shape:', img.shape)\n",
        "print('Label:', label-1)"
      ],
      "execution_count": 36,
      "outputs": [
        {
          "output_type": "stream",
          "text": [
            "Shape: torch.Size([1, 28, 28])\n",
            "Label: 0\n"
          ],
          "name": "stdout"
        },
        {
          "output_type": "display_data",
          "data": {
            "image/png": "[encoded data removed]",
            "text/plain": [
              "<Figure size 432x288 with 1 Axes>"
            ]
          },
          "metadata": {
            "tags": [],
            "needs_background": "light"
          }
        }
      ]
    },
    {
      "cell_type": "code",
      "metadata": {
        "id": "vd2KPSmf2C2E",
        "colab_type": "code",
        "colab": {
          "base_uri": "https://localhost:8080/",
          "height": 299
        },
        "outputId": "a14e4d4c-b15e-4640-ae8d-4cbed139e6b6"
      },
      "source": [
        "img, label = test_dataset[3000]\n",
        "plt.imshow(img[0], cmap='gray')\n",
        "print('Shape:', img.shape)\n",
        "print('Label:', label-1)"
      ],
      "execution_count": 37,
      "outputs": [
        {
          "output_type": "stream",
          "text": [
            "Shape: torch.Size([1, 28, 28])\n",
            "Label: 3\n"
          ],
          "name": "stdout"
        },
        {
          "output_type": "display_data",
          "data": {
            "image/png": "[encoded data removed]",
            "text/plain": [
              "<Figure size 432x288 with 1 Axes>"
            ]
          },
          "metadata": {
            "tags": [],
            "needs_background": "light"
          }
        }
      ]
    },
    {
      "cell_type": "markdown",
      "metadata": {
        "id": "y-_KQ5UTmQhF",
        "colab_type": "text"
      },
      "source": [
        "We are adding an extra dimension, with the value 1, which the model considers as a batch with 1 image."
      ]
    },
    {
      "cell_type": "code",
      "metadata": {
        "id": "146fZB2t2Gp1",
        "colab_type": "code",
        "colab": {
          "base_uri": "https://localhost:8080/",
          "height": 34
        },
        "outputId": "a88de9f2-ea54-4c8e-dc2d-a776f4d421ad"
      },
      "source": [
        "img.unsqueeze(0).shape"
      ],
      "execution_count": 38,
      "outputs": [
        {
          "output_type": "execute_result",
          "data": {
            "text/plain": [
              "torch.Size([1, 1, 28, 28])"
            ]
          },
          "metadata": {
            "tags": []
          },
          "execution_count": 38
        }
      ]
    },
    {
      "cell_type": "markdown",
      "metadata": {
        "id": "tN4h4Au02RK2",
        "colab_type": "text"
      },
      "source": [
        "#### Test the model on the test dataset\n",
        "We predict the output using the method described above, by considering the outputs as probabilities and the class with the highest probability as the prediction."
      ]
    },
    {
      "cell_type": "code",
      "metadata": {
        "id": "xPmc0Q9z2QPj",
        "colab_type": "code",
        "colab": {}
      },
      "source": [
        "def predict_image(img, model):\n",
        "    xb = img.unsqueeze(0)\n",
        "    yb = model(xb)\n",
        "    _, preds  = torch.max(yb, dim=1)\n",
        "    return preds[0].item()"
      ],
      "execution_count": 39,
      "outputs": []
    },
    {
      "cell_type": "code",
      "metadata": {
        "id": "NGqWA26g2cqX",
        "colab_type": "code",
        "colab": {
          "base_uri": "https://localhost:8080/",
          "height": 282
        },
        "outputId": "97c64b9a-5c69-4f58-b5eb-fb0c0d9ddf00"
      },
      "source": [
        "img, label = test_dataset[0]\n",
        "plt.imshow(img[0], cmap='gray')\n",
        "print('Label:', label, ', Predicted Label:', predict_image(img, model) + 1, ', Predicted Alphabet:', classes[predict_image(img, model)])"
      ],
      "execution_count": 40,
      "outputs": [
        {
          "output_type": "stream",
          "text": [
            "Label: 1 , Predicted Label: 1 , Predicted Alphabet: a\n"
          ],
          "name": "stdout"
        },
        {
          "output_type": "display_data",
          "data": {
            "image/png": "[encoded data removed]",
            "text/plain": [
              "<Figure size 432x288 with 1 Axes>"
            ]
          },
          "metadata": {
            "tags": [],
            "needs_background": "light"
          }
        }
      ]
    },
    {
      "cell_type": "code",
      "metadata": {
        "id": "Wl5FutNG2hQ1",
        "colab_type": "code",
        "colab": {
          "base_uri": "https://localhost:8080/",
          "height": 282
        },
        "outputId": "e9ab692d-5571-4af0-f513-6b88ad80c51a"
      },
      "source": [
        "img, label = test_dataset[30]\n",
        "plt.imshow(img[0], cmap='gray')\n",
        "print('Label:', label, ', Predicted Label:', predict_image(img, model) + 1, ', Predicted Alphabet:', classes[predict_image(img, model)])"
      ],
      "execution_count": 41,
      "outputs": [
        {
          "output_type": "stream",
          "text": [
            "Label: 1 , Predicted Label: 1 , Predicted Alphabet: a\n"
          ],
          "name": "stdout"
        },
        {
          "output_type": "display_data",
          "data": {
            "image/png": "[encoded data removed]",
            "text/plain": [
              "<Figure size 432x288 with 1 Axes>"
            ]
          },
          "metadata": {
            "tags": [],
            "needs_background": "light"
          }
        }
      ]
    },
    {
      "cell_type": "code",
      "metadata": {
        "id": "GLF7bLD-2lKR",
        "colab_type": "code",
        "colab": {
          "base_uri": "https://localhost:8080/",
          "height": 282
        },
        "outputId": "cf747d7a-20ff-4385-99ad-d8d9a5af3e45"
      },
      "source": [
        "img, label = test_dataset[2000]\n",
        "plt.imshow(img[0], cmap='gray')\n",
        "print('Label:', label, ', Predicted Label:', predict_image(img, model) + 1, ', Predicted Alphabet:', classes[predict_image(img, model)])"
      ],
      "execution_count": 42,
      "outputs": [
        {
          "output_type": "stream",
          "text": [
            "Label: 3 , Predicted Label: 3 , Predicted Alphabet: c\n"
          ],
          "name": "stdout"
        },
        {
          "output_type": "display_data",
          "data": {
            "image/png": "[encoded data removed]",
            "text/plain": [
              "<Figure size 432x288 with 1 Axes>"
            ]
          },
          "metadata": {
            "tags": [],
            "needs_background": "light"
          }
        }
      ]
    },
    {
      "cell_type": "markdown",
      "metadata": {
        "id": "lPaEpjRE23bf",
        "colab_type": "text"
      },
      "source": [
        "#### Evaluate the model on the test dataset"
      ]
    },
    {
      "cell_type": "code",
      "metadata": {
        "id": "4VzlRk252uM9",
        "colab_type": "code",
        "colab": {
          "base_uri": "https://localhost:8080/",
          "height": 34
        },
        "outputId": "95bda7f7-9916-4a04-b8dc-ec49900906ba"
      },
      "source": [
        "test_loader = DataLoader(test_dataset, batch_size=128)\n",
        "result = evaluate(model, test_loader)\n",
        "result"
      ],
      "execution_count": 43,
      "outputs": [
        {
          "output_type": "execute_result",
          "data": {
            "text/plain": [
              "{'val_acc': 0.9119536280632019, 'val_loss': 0.2852514684200287}"
            ]
          },
          "metadata": {
            "tags": []
          },
          "execution_count": 43
        }
      ]
    },
    {
      "cell_type": "markdown",
      "metadata": {
        "id": "LYiumYJs3NAk",
        "colab_type": "text"
      },
      "source": [
        "#### The final accuracy of the model on the test dataset is 91.19% using a feed-forwarding neural network."
      ]
    }
  ]
}